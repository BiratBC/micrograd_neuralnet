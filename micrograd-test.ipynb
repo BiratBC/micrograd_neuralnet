{
 "cells": [
  {
   "cell_type": "code",
   "execution_count": 4,
   "id": "a6650c55-40aa-41be-9d3b-57a1e9d16b0d",
   "metadata": {},
   "outputs": [
    {
     "name": "stdout",
     "output_type": "stream",
     "text": [
      "hello world\n"
     ]
    }
   ],
   "source": [
    "print(\"hello world\")"
   ]
  },
  {
   "cell_type": "code",
   "execution_count": 13,
   "id": "2bd63d0c-231c-496d-90b9-dabcd083f72e",
   "metadata": {},
   "outputs": [],
   "source": [
    "import math\n",
    "import numpy as np\n",
    "import matplotlib.pyplot as plt\n",
    "%matplotlib inline"
   ]
  },
  {
   "cell_type": "code",
   "execution_count": 31,
   "id": "8751cfbd-9a59-495e-b9a9-0f391bf45ec1",
   "metadata": {},
   "outputs": [],
   "source": [
    "def f(x):\n",
    "    return 3*x**2 - 4*x + 5"
   ]
  },
  {
   "cell_type": "code",
   "execution_count": 33,
   "id": "7f981915-e39e-4176-8a22-63ad5c7e3a4b",
   "metadata": {},
   "outputs": [
    {
     "data": {
      "text/plain": [
       "60"
      ]
     },
     "execution_count": 33,
     "metadata": {},
     "output_type": "execute_result"
    }
   ],
   "source": [
    "f(5)"
   ]
  },
  {
   "cell_type": "code",
   "execution_count": 35,
   "id": "8da3362c-d42f-4a50-9bc2-62cbcaad98a3",
   "metadata": {},
   "outputs": [
    {
     "data": {
      "text/plain": [
       "20"
      ]
     },
     "execution_count": 35,
     "metadata": {},
     "output_type": "execute_result"
    }
   ],
   "source": [
    "f(3)"
   ]
  },
  {
   "cell_type": "code",
   "execution_count": 37,
   "id": "07da8d6a-db0e-4706-814e-a67eaef0cb0f",
   "metadata": {},
   "outputs": [],
   "source": [
    "xs = np.arange(-5,5,0.25)"
   ]
  },
  {
   "cell_type": "code",
   "execution_count": 39,
   "id": "440debf1-74af-41b8-8edf-dc7e1d50888b",
   "metadata": {},
   "outputs": [
    {
     "data": {
      "text/plain": [
       "array([-5.  , -4.75, -4.5 , -4.25, -4.  , -3.75, -3.5 , -3.25, -3.  ,\n",
       "       -2.75, -2.5 , -2.25, -2.  , -1.75, -1.5 , -1.25, -1.  , -0.75,\n",
       "       -0.5 , -0.25,  0.  ,  0.25,  0.5 ,  0.75,  1.  ,  1.25,  1.5 ,\n",
       "        1.75,  2.  ,  2.25,  2.5 ,  2.75,  3.  ,  3.25,  3.5 ,  3.75,\n",
       "        4.  ,  4.25,  4.5 ,  4.75])"
      ]
     },
     "execution_count": 39,
     "metadata": {},
     "output_type": "execute_result"
    }
   ],
   "source": [
    "xs"
   ]
  },
  {
   "cell_type": "code",
   "execution_count": 41,
   "id": "c8250757-4fc7-4870-822e-4b77e4b85b33",
   "metadata": {},
   "outputs": [],
   "source": [
    "ys = f(xs)"
   ]
  },
  {
   "cell_type": "code",
   "execution_count": 43,
   "id": "6a104ca9-45ae-42c1-b900-507179bb3118",
   "metadata": {},
   "outputs": [
    {
     "data": {
      "text/plain": [
       "array([100.    ,  91.6875,  83.75  ,  76.1875,  69.    ,  62.1875,\n",
       "        55.75  ,  49.6875,  44.    ,  38.6875,  33.75  ,  29.1875,\n",
       "        25.    ,  21.1875,  17.75  ,  14.6875,  12.    ,   9.6875,\n",
       "         7.75  ,   6.1875,   5.    ,   4.1875,   3.75  ,   3.6875,\n",
       "         4.    ,   4.6875,   5.75  ,   7.1875,   9.    ,  11.1875,\n",
       "        13.75  ,  16.6875,  20.    ,  23.6875,  27.75  ,  32.1875,\n",
       "        37.    ,  42.1875,  47.75  ,  53.6875])"
      ]
     },
     "execution_count": 43,
     "metadata": {},
     "output_type": "execute_result"
    }
   ],
   "source": [
    "ys"
   ]
  },
  {
   "cell_type": "code",
   "execution_count": 55,
   "id": "7ef6dcb8-f78c-4984-b70f-a9ca72ee9e28",
   "metadata": {},
   "outputs": [
    {
     "data": {
      "image/png": "[encoded data removed]",
      "text/plain": [
       "<Figure size 640x480 with 1 Axes>"
      ]
     },
     "metadata": {},
     "output_type": "display_data"
    }
   ],
   "source": [
    "# plotting X's and Y's in graph using matplot\n",
    "plt.plot(xs,ys)\n",
    "plt.grid()\n",
    "plt.show()"
   ]
  },
  {
   "cell_type": "code",
   "execution_count": null,
   "id": "7a912d04-8c91-420f-83ec-19e1f6270d92",
   "metadata": {},
   "outputs": [],
   "source": [
    "# here the graph is a parabola since the function f(X) = 3x^2 - 4x + 5\n",
    "# Now using the concept of derivative -> response to the small 'h' to a point in the curve"
   ]
  },
  {
   "cell_type": "code",
   "execution_count": 16,
   "id": "a947127d-b21a-4563-87c7-d759619c11ee",
   "metadata": {},
   "outputs": [
    {
     "data": {
      "text/plain": [
       "20.0"
      ]
     },
     "execution_count": 16,
     "metadata": {},
     "output_type": "execute_result"
    }
   ],
   "source": [
    "h = 0.00000001 \n",
    "x = 3.0\n",
    "f(x)"
   ]
  },
  {
   "cell_type": "code",
   "execution_count": 18,
   "id": "7c3aecb2-8e57-4dad-b9d8-914f0a66b069",
   "metadata": {},
   "outputs": [
    {
     "data": {
      "text/plain": [
       "20.00000140000003"
      ]
     },
     "execution_count": 18,
     "metadata": {},
     "output_type": "execute_result"
    }
   ],
   "source": [
    "f(x + h)"
   ]
  },
  {
   "cell_type": "code",
   "execution_count": 14,
   "id": "af5f0f7a-cf1d-4cd2-902e-5ccc5494f264",
   "metadata": {},
   "outputs": [
    {
     "data": {
      "text/plain": [
       "0.01400300000000243"
      ]
     },
     "execution_count": 14,
     "metadata": {},
     "output_type": "execute_result"
    }
   ],
   "source": [
    "f(x + h) - f(x) # response of the function to the change"
   ]
  },
  {
   "cell_type": "code",
   "execution_count": 17,
   "id": "795366ce-a684-4b7e-bd91-77ded2895ad0",
   "metadata": {},
   "outputs": [
    {
     "data": {
      "text/plain": [
       "14.000000305713911"
      ]
     },
     "execution_count": 17,
     "metadata": {},
     "output_type": "execute_result"
    }
   ],
   "source": [
    "# using the concept of slope = rise/run\n",
    "(f(x + h) - f(x))/h # ≈ 14"
   ]
  },
  {
   "cell_type": "code",
   "execution_count": 20,
   "id": "503e7bc7-e778-4c1d-92bd-cad37d61041d",
   "metadata": {},
   "outputs": [
    {
     "data": {
      "text/plain": [
       "2.9753977059954195e-07"
      ]
     },
     "execution_count": 20,
     "metadata": {},
     "output_type": "execute_result"
    }
   ],
   "source": [
    "# to get slope = 0\n",
    "x = 2/3\n",
    "(f(x + h) - f(x))/h"
   ]
  },
  {
   "cell_type": "code",
   "execution_count": 21,
   "id": "b5049545-051a-4504-8fcf-92dd09107bd5",
   "metadata": {},
   "outputs": [
    {
     "name": "stdout",
     "output_type": "stream",
     "text": [
      "4.0\n"
     ]
    }
   ],
   "source": [
    "# Moving on to the more complex case (multiple variable)\n",
    "a = 2.0\n",
    "b = -3.0\n",
    "c = 10\n",
    "d = a*b + c\n",
    "print(d)"
   ]
  },
  {
   "cell_type": "code",
   "execution_count": 22,
   "id": "2e0d15c8-4e63-43d5-a529-bea3553358ee",
   "metadata": {},
   "outputs": [
    {
     "name": "stdout",
     "output_type": "stream",
     "text": [
      "d1 4.0\n",
      "d2 3.9999699999999994\n",
      "slope -3.000000000064062\n"
     ]
    }
   ],
   "source": [
    "#derivative of d w.r.t a,b and c\n",
    "h = 0.00001\n",
    "#inputs\n",
    "a = 2.0\n",
    "b = -3.0\n",
    "c = 10\n",
    "d1 = a*b + c # -> f(x)\n",
    "# derivative w.r.t a\n",
    "a += h\n",
    "d2 = a*b + c # -> f(x+h)\n",
    "\n",
    "print('d1',d1)\n",
    "print('d2',d2)\n",
    "print('slope', (d2 - d1)/h)"
   ]
  },
  {
   "cell_type": "code",
   "execution_count": 3,
   "id": "563d0815-8c6b-407b-a2ea-c78e7981e142",
   "metadata": {},
   "outputs": [
    {
     "data": {
      "text/plain": [
       "Value(data=-12.0)"
      ]
     },
     "execution_count": 3,
     "metadata": {},
     "output_type": "execute_result"
    }
   ],
   "source": [
    "# Value class\n",
    "# Note : Dunder (double underscore) methods like __add__() are called automatically \n",
    "# for a + b => it will call a.__add__(b) internally\n",
    "class Value:\n",
    "    def __init__(self, data, _children=(), _op='', label = ''): #constructor of the class, and _children = () is an empty tuple, _op is an empty string which tells what operator created that children\n",
    "        self.data = data\n",
    "        self.grad = 0.0 # stores gradient of output 'L' with respect to current node\n",
    "        self._prev = set(_children) # here prev is a 'private' / internal variable which stores the tuple _children\n",
    "        self._op = _op\n",
    "        self.label = label\n",
    "    def __repr__(self): #for string representation of the object\n",
    "        return f\"Value(data={self.data})\"\n",
    "    def __add__(self, other): # overloading '+' operator to add two Value objects\n",
    "        out = Value(self.data + other.data, (self, other), '+')\n",
    "        return out  \n",
    "    def __mul__(self, other): # overloading '*' operator to multiply two Value objects\n",
    "        out = Value(self.data * other.data, (self, other), '*')\n",
    "        return out  \n",
    "a = Value(2.0, label = 'a')\n",
    "b = Value(4.0, label = 'b')\n",
    "c = Value(-2, label = 'c')\n",
    "e = a*b; e.label = 'e'\n",
    "d = e + c; d.label= 'd'\n",
    "# a * b\n",
    "# d = a*b + c\n",
    "f = Value(-2.0, label = 'f')\n",
    "L = d*f; L.label = 'L'\n",
    "L"
   ]
  },
  {
   "cell_type": "code",
   "execution_count": 15,
   "id": "c2d86234-6ce2-48c9-9e7d-949f518ae547",
   "metadata": {},
   "outputs": [
    {
     "data": {
      "text/plain": [
       "{Value(data=-2.0), Value(data=6.0)}"
      ]
     },
     "execution_count": 15,
     "metadata": {},
     "output_type": "execute_result"
    }
   ],
   "source": [
    "L._prev"
   ]
  },
  {
   "cell_type": "code",
   "execution_count": 16,
   "id": "61dd350a-ca49-4b5c-ad6b-664ad5afaf36",
   "metadata": {},
   "outputs": [
    {
     "data": {
      "text/plain": [
       "'*'"
      ]
     },
     "execution_count": 16,
     "metadata": {},
     "output_type": "execute_result"
    }
   ],
   "source": [
    "L._op"
   ]
  },
  {
   "cell_type": "code",
   "execution_count": 5,
   "id": "1d20c49a-e8e8-4f1a-921a-debf4dda6db7",
   "metadata": {},
   "outputs": [],
   "source": [
    "#For visualizing the expression step by step\n",
    "from graphviz import Digraph\n",
    "def trace(root):\n",
    "    nodes, edges = set(), set()\n",
    "    def build(v):\n",
    "        if v not in nodes:\n",
    "            nodes.add(v)\n",
    "            for child in v._prev:\n",
    "                edges.add((child, v))\n",
    "                build(child)\n",
    "    build(root)\n",
    "    return nodes, edges\n",
    "\n",
    "def draw_dot(root):\n",
    "    \n",
    "    dot = Digraph(format='svg', graph_attr={'rankdir': 'LR'}) #, node_attr={'rankdir': 'TB'})\n",
    "    nodes, edges = trace(root)\n",
    "    for n in nodes:\n",
    "        dot.node(name=str(id(n)), label = \"{%s | data %.4f | grad %.4f }\" % (n.label, n.data, n.grad), shape='record')\n",
    "        if n._op:\n",
    "            dot.node(name=str(id(n)) + n._op, label=n._op)\n",
    "            dot.edge(str(id(n)) + n._op, str(id(n)))\n",
    "    \n",
    "    for n1, n2 in edges:\n",
    "        dot.edge(str(id(n1)), str(id(n2)) + n2._op)\n",
    "    \n",
    "    return dot"
   ]
  },
  {
   "cell_type": "code",
   "execution_count": 7,
   "id": "49607b53-d94f-4fc3-b283-6ba5c780289f",
   "metadata": {},
   "outputs": [
    {
     "data": {
      "image/svg+xml": [
       "<?xml version=\"1.0\" encoding=\"UTF-8\" standalone=\"no\"?>\n",
       "<!DOCTYPE svg PUBLIC \"-//W3C//DTD SVG 1.1//EN\"\n",
       " \"http://www.w3.org/Graphics/SVG/1.1/DTD/svg11.dtd\">\n",
       "<!-- Generated by graphviz version 2.50.0 (0)\n",
       " -->\n",
       "<!-- Pages: 1 -->\n",
       "<svg width=\"1148pt\" height=\"128pt\"\n",
       " viewBox=\"0.00 0.00 1148.00 128.00\" xmlns=\"http://www.w3.org/2000/svg\" xmlns:xlink=\"http://www.w3.org/1999/xlink\">\n",
       "<g id=\"graph0\" class=\"graph\" transform=\"scale(1 1) rotate(0) translate(4 124)\">\n",
       "<polygon fill=\"white\" stroke=\"transparent\" points=\"-4,4 -4,-124 1144,-124 1144,4 -4,4\"/>\n",
       "<!-- 2537812619344 -->\n",
       "<g id=\"node1\" class=\"node\">\n",
       "<title>2537812619344</title>\n",
       "<polygon fill=\"none\" stroke=\"black\" points=\"628.5,-27.5 628.5,-63.5 813.5,-63.5 813.5,-27.5 628.5,-27.5\"/>\n",
       "<text text-anchor=\"middle\" x=\"640\" y=\"-41.8\" font-family=\"Times New Roman,serif\" font-size=\"14.00\">d</text>\n",
       "<polyline fill=\"none\" stroke=\"black\" points=\"651.5,-27.5 651.5,-63.5 \"/>\n",
       "<text text-anchor=\"middle\" x=\"691.5\" y=\"-41.8\" font-family=\"Times New Roman,serif\" font-size=\"14.00\">data 6.0000</text>\n",
       "<polyline fill=\"none\" stroke=\"black\" points=\"731.5,-27.5 731.5,-63.5 \"/>\n",
       "<text text-anchor=\"middle\" x=\"772.5\" y=\"-41.8\" font-family=\"Times New Roman,serif\" font-size=\"14.00\">grad 0.0000</text>\n",
       "</g>\n",
       "<!-- 2537833001232* -->\n",
       "<g id=\"node6\" class=\"node\">\n",
       "<title>2537833001232*</title>\n",
       "<ellipse fill=\"none\" stroke=\"black\" cx=\"878\" cy=\"-72.5\" rx=\"27\" ry=\"18\"/>\n",
       "<text text-anchor=\"middle\" x=\"878\" y=\"-68.8\" font-family=\"Times New Roman,serif\" font-size=\"14.00\">*</text>\n",
       "</g>\n",
       "<!-- 2537812619344&#45;&gt;2537833001232* -->\n",
       "<g id=\"edge4\" class=\"edge\">\n",
       "<title>2537812619344&#45;&gt;2537833001232*</title>\n",
       "<path fill=\"none\" stroke=\"black\" d=\"M813.51,-61.44C823.48,-63.18 833.13,-64.86 841.77,-66.36\"/>\n",
       "<polygon fill=\"black\" stroke=\"black\" points=\"841.31,-69.84 851.77,-68.1 842.52,-62.94 841.31,-69.84\"/>\n",
       "</g>\n",
       "<!-- 2537812619344+ -->\n",
       "<g id=\"node2\" class=\"node\">\n",
       "<title>2537812619344+</title>\n",
       "<ellipse fill=\"none\" stroke=\"black\" cx=\"564\" cy=\"-45.5\" rx=\"27\" ry=\"18\"/>\n",
       "<text text-anchor=\"middle\" x=\"564\" y=\"-41.8\" font-family=\"Times New Roman,serif\" font-size=\"14.00\">+</text>\n",
       "</g>\n",
       "<!-- 2537812619344+&#45;&gt;2537812619344 -->\n",
       "<g id=\"edge1\" class=\"edge\">\n",
       "<title>2537812619344+&#45;&gt;2537812619344</title>\n",
       "<path fill=\"none\" stroke=\"black\" d=\"M591.29,-45.5C599.26,-45.5 608.54,-45.5 618.39,-45.5\"/>\n",
       "<polygon fill=\"black\" stroke=\"black\" points=\"618.41,-49 628.41,-45.5 618.41,-42 618.41,-49\"/>\n",
       "</g>\n",
       "<!-- 2537836333680 -->\n",
       "<g id=\"node3\" class=\"node\">\n",
       "<title>2537836333680</title>\n",
       "<polygon fill=\"none\" stroke=\"black\" points=\"0,-83.5 0,-119.5 185,-119.5 185,-83.5 0,-83.5\"/>\n",
       "<text text-anchor=\"middle\" x=\"11.5\" y=\"-97.8\" font-family=\"Times New Roman,serif\" font-size=\"14.00\">b</text>\n",
       "<polyline fill=\"none\" stroke=\"black\" points=\"23,-83.5 23,-119.5 \"/>\n",
       "<text text-anchor=\"middle\" x=\"63\" y=\"-97.8\" font-family=\"Times New Roman,serif\" font-size=\"14.00\">data 4.0000</text>\n",
       "<polyline fill=\"none\" stroke=\"black\" points=\"103,-83.5 103,-119.5 \"/>\n",
       "<text text-anchor=\"middle\" x=\"144\" y=\"-97.8\" font-family=\"Times New Roman,serif\" font-size=\"14.00\">grad 0.0000</text>\n",
       "</g>\n",
       "<!-- 2537805955968* -->\n",
       "<g id=\"node8\" class=\"node\">\n",
       "<title>2537805955968*</title>\n",
       "<ellipse fill=\"none\" stroke=\"black\" cx=\"248\" cy=\"-73.5\" rx=\"27\" ry=\"18\"/>\n",
       "<text text-anchor=\"middle\" x=\"248\" y=\"-69.8\" font-family=\"Times New Roman,serif\" font-size=\"14.00\">*</text>\n",
       "</g>\n",
       "<!-- 2537836333680&#45;&gt;2537805955968* -->\n",
       "<g id=\"edge9\" class=\"edge\">\n",
       "<title>2537836333680&#45;&gt;2537805955968*</title>\n",
       "<path fill=\"none\" stroke=\"black\" d=\"M185.01,-84.81C194.49,-83.08 203.66,-81.41 211.9,-79.9\"/>\n",
       "<polygon fill=\"black\" stroke=\"black\" points=\"212.6,-83.33 221.81,-78.09 211.35,-76.45 212.6,-83.33\"/>\n",
       "</g>\n",
       "<!-- 2537840489200 -->\n",
       "<g id=\"node4\" class=\"node\">\n",
       "<title>2537840489200</title>\n",
       "<polygon fill=\"none\" stroke=\"black\" points=\"627,-82.5 627,-118.5 815,-118.5 815,-82.5 627,-82.5\"/>\n",
       "<text text-anchor=\"middle\" x=\"637.5\" y=\"-96.8\" font-family=\"Times New Roman,serif\" font-size=\"14.00\">f</text>\n",
       "<polyline fill=\"none\" stroke=\"black\" points=\"648,-82.5 648,-118.5 \"/>\n",
       "<text text-anchor=\"middle\" x=\"690.5\" y=\"-96.8\" font-family=\"Times New Roman,serif\" font-size=\"14.00\">data &#45;2.0000</text>\n",
       "<polyline fill=\"none\" stroke=\"black\" points=\"733,-82.5 733,-118.5 \"/>\n",
       "<text text-anchor=\"middle\" x=\"774\" y=\"-96.8\" font-family=\"Times New Roman,serif\" font-size=\"14.00\">grad 0.0000</text>\n",
       "</g>\n",
       "<!-- 2537840489200&#45;&gt;2537833001232* -->\n",
       "<g id=\"edge7\" class=\"edge\">\n",
       "<title>2537840489200&#45;&gt;2537833001232*</title>\n",
       "<path fill=\"none\" stroke=\"black\" d=\"M815.29,-83.65C824.57,-81.97 833.52,-80.35 841.61,-78.89\"/>\n",
       "<polygon fill=\"black\" stroke=\"black\" points=\"842.46,-82.3 851.68,-77.07 841.21,-75.41 842.46,-82.3\"/>\n",
       "</g>\n",
       "<!-- 2537833001232 -->\n",
       "<g id=\"node5\" class=\"node\">\n",
       "<title>2537833001232</title>\n",
       "<polygon fill=\"none\" stroke=\"black\" points=\"941,-54.5 941,-90.5 1140,-90.5 1140,-54.5 941,-54.5\"/>\n",
       "<text text-anchor=\"middle\" x=\"953.5\" y=\"-68.8\" font-family=\"Times New Roman,serif\" font-size=\"14.00\">L</text>\n",
       "<polyline fill=\"none\" stroke=\"black\" points=\"966,-54.5 966,-90.5 \"/>\n",
       "<text text-anchor=\"middle\" x=\"1012\" y=\"-68.8\" font-family=\"Times New Roman,serif\" font-size=\"14.00\">data &#45;12.0000</text>\n",
       "<polyline fill=\"none\" stroke=\"black\" points=\"1058,-54.5 1058,-90.5 \"/>\n",
       "<text text-anchor=\"middle\" x=\"1099\" y=\"-68.8\" font-family=\"Times New Roman,serif\" font-size=\"14.00\">grad 0.0000</text>\n",
       "</g>\n",
       "<!-- 2537833001232*&#45;&gt;2537833001232 -->\n",
       "<g id=\"edge2\" class=\"edge\">\n",
       "<title>2537833001232*&#45;&gt;2537833001232</title>\n",
       "<path fill=\"none\" stroke=\"black\" d=\"M905.14,-72.5C912.65,-72.5 921.33,-72.5 930.6,-72.5\"/>\n",
       "<polygon fill=\"black\" stroke=\"black\" points=\"930.86,-76 940.86,-72.5 930.86,-69 930.86,-76\"/>\n",
       "</g>\n",
       "<!-- 2537805955968 -->\n",
       "<g id=\"node7\" class=\"node\">\n",
       "<title>2537805955968</title>\n",
       "<polygon fill=\"none\" stroke=\"black\" points=\"313.5,-55.5 313.5,-91.5 498.5,-91.5 498.5,-55.5 313.5,-55.5\"/>\n",
       "<text text-anchor=\"middle\" x=\"325\" y=\"-69.8\" font-family=\"Times New Roman,serif\" font-size=\"14.00\">e</text>\n",
       "<polyline fill=\"none\" stroke=\"black\" points=\"336.5,-55.5 336.5,-91.5 \"/>\n",
       "<text text-anchor=\"middle\" x=\"376.5\" y=\"-69.8\" font-family=\"Times New Roman,serif\" font-size=\"14.00\">data 8.0000</text>\n",
       "<polyline fill=\"none\" stroke=\"black\" points=\"416.5,-55.5 416.5,-91.5 \"/>\n",
       "<text text-anchor=\"middle\" x=\"457.5\" y=\"-69.8\" font-family=\"Times New Roman,serif\" font-size=\"14.00\">grad 0.0000</text>\n",
       "</g>\n",
       "<!-- 2537805955968&#45;&gt;2537812619344+ -->\n",
       "<g id=\"edge8\" class=\"edge\">\n",
       "<title>2537805955968&#45;&gt;2537812619344+</title>\n",
       "<path fill=\"none\" stroke=\"black\" d=\"M498.65,-57.05C508.94,-55.2 518.91,-53.41 527.81,-51.82\"/>\n",
       "<polygon fill=\"black\" stroke=\"black\" points=\"528.48,-55.25 537.71,-50.04 527.25,-48.36 528.48,-55.25\"/>\n",
       "</g>\n",
       "<!-- 2537805955968*&#45;&gt;2537805955968 -->\n",
       "<g id=\"edge3\" class=\"edge\">\n",
       "<title>2537805955968*&#45;&gt;2537805955968</title>\n",
       "<path fill=\"none\" stroke=\"black\" d=\"M275.11,-73.5C283.39,-73.5 293.1,-73.5 303.42,-73.5\"/>\n",
       "<polygon fill=\"black\" stroke=\"black\" points=\"303.47,-77 313.47,-73.5 303.47,-70 303.47,-77\"/>\n",
       "</g>\n",
       "<!-- 2537840921488 -->\n",
       "<g id=\"node9\" class=\"node\">\n",
       "<title>2537840921488</title>\n",
       "<polygon fill=\"none\" stroke=\"black\" points=\"0,-28.5 0,-64.5 185,-64.5 185,-28.5 0,-28.5\"/>\n",
       "<text text-anchor=\"middle\" x=\"11.5\" y=\"-42.8\" font-family=\"Times New Roman,serif\" font-size=\"14.00\">a</text>\n",
       "<polyline fill=\"none\" stroke=\"black\" points=\"23,-28.5 23,-64.5 \"/>\n",
       "<text text-anchor=\"middle\" x=\"63\" y=\"-42.8\" font-family=\"Times New Roman,serif\" font-size=\"14.00\">data 2.0000</text>\n",
       "<polyline fill=\"none\" stroke=\"black\" points=\"103,-28.5 103,-64.5 \"/>\n",
       "<text text-anchor=\"middle\" x=\"144\" y=\"-42.8\" font-family=\"Times New Roman,serif\" font-size=\"14.00\">grad 0.0000</text>\n",
       "</g>\n",
       "<!-- 2537840921488&#45;&gt;2537805955968* -->\n",
       "<g id=\"edge6\" class=\"edge\">\n",
       "<title>2537840921488&#45;&gt;2537805955968*</title>\n",
       "<path fill=\"none\" stroke=\"black\" d=\"M185.01,-62.6C194.49,-64.26 203.66,-65.88 211.9,-67.33\"/>\n",
       "<polygon fill=\"black\" stroke=\"black\" points=\"211.36,-70.78 221.81,-69.07 212.57,-63.89 211.36,-70.78\"/>\n",
       "</g>\n",
       "<!-- 2537832378784 -->\n",
       "<g id=\"node10\" class=\"node\">\n",
       "<title>2537832378784</title>\n",
       "<polygon fill=\"none\" stroke=\"black\" points=\"311,-0.5 311,-36.5 501,-36.5 501,-0.5 311,-0.5\"/>\n",
       "<text text-anchor=\"middle\" x=\"322.5\" y=\"-14.8\" font-family=\"Times New Roman,serif\" font-size=\"14.00\">c</text>\n",
       "<polyline fill=\"none\" stroke=\"black\" points=\"334,-0.5 334,-36.5 \"/>\n",
       "<text text-anchor=\"middle\" x=\"376.5\" y=\"-14.8\" font-family=\"Times New Roman,serif\" font-size=\"14.00\">data &#45;2.0000</text>\n",
       "<polyline fill=\"none\" stroke=\"black\" points=\"419,-0.5 419,-36.5 \"/>\n",
       "<text text-anchor=\"middle\" x=\"460\" y=\"-14.8\" font-family=\"Times New Roman,serif\" font-size=\"14.00\">grad 0.0000</text>\n",
       "</g>\n",
       "<!-- 2537832378784&#45;&gt;2537812619344+ -->\n",
       "<g id=\"edge5\" class=\"edge\">\n",
       "<title>2537832378784&#45;&gt;2537812619344+</title>\n",
       "<path fill=\"none\" stroke=\"black\" d=\"M501.34,-34.83C510.62,-36.44 519.58,-37.99 527.66,-39.38\"/>\n",
       "<polygon fill=\"black\" stroke=\"black\" points=\"527.27,-42.87 537.72,-41.12 528.46,-35.97 527.27,-42.87\"/>\n",
       "</g>\n",
       "</g>\n",
       "</svg>\n"
      ],
      "text/plain": [
       "<graphviz.graphs.Digraph at 0x24ee15576b0>"
      ]
     },
     "execution_count": 7,
     "metadata": {},
     "output_type": "execute_result"
    }
   ],
   "source": [
    "draw_dot(L)"
   ]
  },
  {
   "cell_type": "code",
   "execution_count": null,
   "id": "5b09896b-df17-4127-a2c3-6dca77f1d2f2",
   "metadata": {},
   "outputs": [],
   "source": [
    "#here rectangle are the real nodes"
   ]
  },
  {
   "cell_type": "code",
   "execution_count": null,
   "id": "e950bbc4-94a4-41c4-8e91-3def479c915b",
   "metadata": {},
   "outputs": [],
   "source": [
    "# Moving to the backpropagation part\n",
    "# Now we will differentiate output node 'L' with respect to each of the other nodes (a,b,e,c,d,f) \n",
    "# Consider L as an output of Loss function and other variables as the weight in a neural network"
   ]
  },
  {
   "cell_type": "code",
   "execution_count": null,
   "id": "b2b90163-283f-4055-8419-168bc8e58d2a",
   "metadata": {},
   "outputs": [],
   "source": [
    "L = d * f\n",
    "# dL/dd = ? -> d(d*f)/dd = f (d.grad)\n",
    "# dL/df = ? -> d(d*f)/df = d (f.grad)\n",
    "# dL/dc = ? -> using chain rule of differentiation -> (dL/dd) * (dd/dc) = f * (dd/dc) {dL/dd = f} = f * (d(e + c)/dc) = f * ( 0 + 1) = f\n",
    "# Similarly dL/de = ? -> using chain rule -> dL/de = f\n",
    "# Similarly dL/da = fb -> -2 * 4 = -8.0\n",
    "# and dL/db = fa -> -2 * 2 = -4.0\n",
    "# MANUAL BACKPROPAGATION"
   ]
  },
  {
   "cell_type": "code",
   "execution_count": 40,
   "id": "e68b1ee0-2ce1-4e6e-9d31-d8af1b4f692a",
   "metadata": {},
   "outputs": [],
   "source": [
    "# So\n",
    "f.grad = 6.0 #d\n",
    "d.grad = -2.0 #f\n",
    "c.grad = -2.0 #f\n",
    "e.grad = -2.0 #f\n",
    "b.grad = -4.0 #fa\n",
    "a.grad = -8.0 #fb"
   ]
  },
  {
   "cell_type": "code",
   "execution_count": 42,
   "id": "d1b25d54-c7ee-436d-a423-33616b313b6b",
   "metadata": {},
   "outputs": [
    {
     "name": "stdout",
     "output_type": "stream",
     "text": [
      "-10.831408\n"
     ]
    }
   ],
   "source": [
    "# Considering L as an output of any Loss function, now we will do single optimization for all the leaf nodes\n",
    "# Here gradient for each node is giving power/access to influence the output of the whole expression so changing the gradient will change the output \n",
    "a.data += 0.01 * a.grad\n",
    "b.data += 0.01 * b.grad\n",
    "c.data += 0.01 * c.grad\n",
    "f.data += 0.01 * f.grad\n",
    "\n",
    "e = a*b\n",
    "d = e + c\n",
    "L = d*f\n",
    "\n",
    "print(L.data)\n",
    "# After getting output we can run backpropagation again in backward direction to change the gradient on the basis of our output is correct or not"
   ]
  },
  {
   "cell_type": "code",
   "execution_count": 32,
   "id": "f9cd061a-56ad-4daf-9e4d-a441b8468a73",
   "metadata": {},
   "outputs": [],
   "source": [
    "L.grad = 1.0 #manually setting gradient of L with respect to L as 1"
   ]
  },
  {
   "cell_type": "code",
   "execution_count": 39,
   "id": "8d91a84b-d1c7-4d23-8673-a2f2235d62b4",
   "metadata": {},
   "outputs": [
    {
     "name": "stdout",
     "output_type": "stream",
     "text": [
      "-1.9999999999953388\n"
     ]
    }
   ],
   "source": [
    "def checkingDerivative():\n",
    "    #Calculating derivative\n",
    "    \n",
    "    h = 0.0001\n",
    "    \n",
    "    a = Value(2.0, label = 'a')\n",
    "    b = Value(4.0, label = 'b')\n",
    "    c = Value(-2, label = 'c')\n",
    "    e = a*b; e.label = 'e'\n",
    "    d = e + c; d.label= 'd'\n",
    "    f = Value(-2.0, label = 'f')\n",
    "    L = d*f; L.label = 'L'\n",
    "    L1 = L.data\n",
    "\n",
    "    a = Value(2.0, label = 'a') # adding 'h' to the a just like (x+h)\n",
    "    b = Value(4.0, label = 'b')\n",
    "    c = Value(-2, label = 'c')\n",
    "    c.data += h\n",
    "    e = a*b; e.label = 'e'\n",
    "    d = e + c; d.label= 'd'\n",
    "    f = Value(-2.0, label = 'f')\n",
    "    L = d*f; L.label = 'L'\n",
    "    L2 = L.data\n",
    "\n",
    "    print((L2-L1)/h)\n",
    "    \n",
    "checkingDerivative()"
   ]
  },
  {
   "cell_type": "code",
   "execution_count": 57,
   "id": "729302da-bcd3-4478-878c-66725dae8274",
   "metadata": {},
   "outputs": [
    {
     "data": {
      "image/png": "[encoded data removed]",
      "text/plain": [
       "<Figure size 640x480 with 1 Axes>"
      ]
     },
     "metadata": {},
     "output_type": "display_data"
    }
   ],
   "source": [
    "#Backpropagate through neuron 'not nodes'\n",
    "# tanh function for activation\n",
    "plt.plot(np.arange(-5,5,0.2), np.tanh(np.arange(-5,5,0.2))); plt.grid(); plt.show()"
   ]
  },
  {
   "cell_type": "code",
   "execution_count": null,
   "id": "488114b1-1b8b-4870-8145-553d5295bbe0",
   "metadata": {},
   "outputs": [],
   "source": []
  }
 ],
 "metadata": {
  "kernelspec": {
   "display_name": "Python [conda env:base] *",
   "language": "python",
   "name": "conda-base-py"
  },
  "language_info": {
   "codemirror_mode": {
    "name": "ipython",
    "version": 3
   },
   "file_extension": ".py",
   "mimetype": "text/x-python",
   "name": "python",
   "nbconvert_exporter": "python",
   "pygments_lexer": "ipython3",
   "version": "3.12.3"
  }
 },
 "nbformat": 4,
 "nbformat_minor": 5
}
