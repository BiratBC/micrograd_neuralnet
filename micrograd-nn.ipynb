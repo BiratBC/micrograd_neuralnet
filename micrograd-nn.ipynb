{
 "cells": [
  {
   "cell_type": "code",
   "execution_count": 1,
   "id": "a6650c55-40aa-41be-9d3b-57a1e9d16b0d",
   "metadata": {},
   "outputs": [
    {
     "name": "stdout",
     "output_type": "stream",
     "text": [
      "hello world\n"
     ]
    }
   ],
   "source": [
    "print(\"hello world\")"
   ]
  },
  {
   "cell_type": "code",
   "execution_count": 56,
   "id": "2bd63d0c-231c-496d-90b9-dabcd083f72e",
   "metadata": {},
   "outputs": [],
   "source": [
    "import math\n",
    "import numpy as np\n",
    "import matplotlib.pyplot as plt\n",
    "%matplotlib inline"
   ]
  },
  {
   "cell_type": "code",
   "execution_count": 3,
   "id": "8751cfbd-9a59-495e-b9a9-0f391bf45ec1",
   "metadata": {},
   "outputs": [],
   "source": [
    "def f(x):\n",
    "    return 3*x**2 - 4*x + 5"
   ]
  },
  {
   "cell_type": "code",
   "execution_count": 4,
   "id": "7f981915-e39e-4176-8a22-63ad5c7e3a4b",
   "metadata": {},
   "outputs": [
    {
     "data": {
      "text/plain": [
       "60"
      ]
     },
     "execution_count": 4,
     "metadata": {},
     "output_type": "execute_result"
    }
   ],
   "source": [
    "f(5)"
   ]
  },
  {
   "cell_type": "code",
   "execution_count": 5,
   "id": "8da3362c-d42f-4a50-9bc2-62cbcaad98a3",
   "metadata": {},
   "outputs": [
    {
     "data": {
      "text/plain": [
       "20"
      ]
     },
     "execution_count": 5,
     "metadata": {},
     "output_type": "execute_result"
    }
   ],
   "source": [
    "f(3)"
   ]
  },
  {
   "cell_type": "code",
   "execution_count": 7,
   "id": "07da8d6a-db0e-4706-814e-a67eaef0cb0f",
   "metadata": {},
   "outputs": [],
   "source": [
    "xs = np.arange(-5,5,0.25)"
   ]
  },
  {
   "cell_type": "code",
   "execution_count": 8,
   "id": "440debf1-74af-41b8-8edf-dc7e1d50888b",
   "metadata": {},
   "outputs": [
    {
     "data": {
      "text/plain": [
       "array([-5.  , -4.75, -4.5 , -4.25, -4.  , -3.75, -3.5 , -3.25, -3.  ,\n",
       "       -2.75, -2.5 , -2.25, -2.  , -1.75, -1.5 , -1.25, -1.  , -0.75,\n",
       "       -0.5 , -0.25,  0.  ,  0.25,  0.5 ,  0.75,  1.  ,  1.25,  1.5 ,\n",
       "        1.75,  2.  ,  2.25,  2.5 ,  2.75,  3.  ,  3.25,  3.5 ,  3.75,\n",
       "        4.  ,  4.25,  4.5 ,  4.75])"
      ]
     },
     "execution_count": 8,
     "metadata": {},
     "output_type": "execute_result"
    }
   ],
   "source": [
    "xs"
   ]
  },
  {
   "cell_type": "code",
   "execution_count": 9,
   "id": "c8250757-4fc7-4870-822e-4b77e4b85b33",
   "metadata": {},
   "outputs": [],
   "source": [
    "ys = f(xs)"
   ]
  },
  {
   "cell_type": "code",
   "execution_count": 10,
   "id": "6a104ca9-45ae-42c1-b900-507179bb3118",
   "metadata": {},
   "outputs": [
    {
     "data": {
      "text/plain": [
       "array([100.    ,  91.6875,  83.75  ,  76.1875,  69.    ,  62.1875,\n",
       "        55.75  ,  49.6875,  44.    ,  38.6875,  33.75  ,  29.1875,\n",
       "        25.    ,  21.1875,  17.75  ,  14.6875,  12.    ,   9.6875,\n",
       "         7.75  ,   6.1875,   5.    ,   4.1875,   3.75  ,   3.6875,\n",
       "         4.    ,   4.6875,   5.75  ,   7.1875,   9.    ,  11.1875,\n",
       "        13.75  ,  16.6875,  20.    ,  23.6875,  27.75  ,  32.1875,\n",
       "        37.    ,  42.1875,  47.75  ,  53.6875])"
      ]
     },
     "execution_count": 10,
     "metadata": {},
     "output_type": "execute_result"
    }
   ],
   "source": [
    "ys"
   ]
  },
  {
   "cell_type": "code",
   "execution_count": 11,
   "id": "7ef6dcb8-f78c-4984-b70f-a9ca72ee9e28",
   "metadata": {},
   "outputs": [
    {
     "data": {
      "text/plain": [
       "[<matplotlib.lines.Line2D at 0x41642c8>]"
      ]
     },
     "execution_count": 11,
     "metadata": {},
     "output_type": "execute_result"
    },
    {
     "data": {
      "image/png": "[encoded data removed]",
      "text/plain": [
       "<Figure size 640x480 with 1 Axes>"
      ]
     },
     "metadata": {},
     "output_type": "display_data"
    }
   ],
   "source": [
    "# plotting X's and Y's in graph using matplot\n",
    "plt.plot(xs,ys)"
   ]
  },
  {
   "cell_type": "code",
   "execution_count": null,
   "id": "7a912d04-8c91-420f-83ec-19e1f6270d92",
   "metadata": {},
   "outputs": [],
   "source": [
    "# here the graph is a parabola since the function f(X) = 3x^2 - 4x + 5\n",
    "# Now using the concept of derivative -> response to the small 'h' to a point in the curve"
   ]
  },
  {
   "cell_type": "code",
   "execution_count": 16,
   "id": "a947127d-b21a-4563-87c7-d759619c11ee",
   "metadata": {},
   "outputs": [
    {
     "data": {
      "text/plain": [
       "20.0"
      ]
     },
     "execution_count": 16,
     "metadata": {},
     "output_type": "execute_result"
    }
   ],
   "source": [
    "h = 0.00000001 \n",
    "x = 3.0\n",
    "f(x)"
   ]
  },
  {
   "cell_type": "code",
   "execution_count": 18,
   "id": "7c3aecb2-8e57-4dad-b9d8-914f0a66b069",
   "metadata": {},
   "outputs": [
    {
     "data": {
      "text/plain": [
       "20.00000140000003"
      ]
     },
     "execution_count": 18,
     "metadata": {},
     "output_type": "execute_result"
    }
   ],
   "source": [
    "f(x + h)"
   ]
  },
  {
   "cell_type": "code",
   "execution_count": 14,
   "id": "af5f0f7a-cf1d-4cd2-902e-5ccc5494f264",
   "metadata": {},
   "outputs": [
    {
     "data": {
      "text/plain": [
       "0.01400300000000243"
      ]
     },
     "execution_count": 14,
     "metadata": {},
     "output_type": "execute_result"
    }
   ],
   "source": [
    "f(x + h) - f(x) # response of the function to the change"
   ]
  },
  {
   "cell_type": "code",
   "execution_count": 17,
   "id": "795366ce-a684-4b7e-bd91-77ded2895ad0",
   "metadata": {},
   "outputs": [
    {
     "data": {
      "text/plain": [
       "14.000000305713911"
      ]
     },
     "execution_count": 17,
     "metadata": {},
     "output_type": "execute_result"
    }
   ],
   "source": [
    "# using the concept of slope = rise/run\n",
    "(f(x + h) - f(x))/h # ≈ 14"
   ]
  },
  {
   "cell_type": "code",
   "execution_count": 20,
   "id": "503e7bc7-e778-4c1d-92bd-cad37d61041d",
   "metadata": {},
   "outputs": [
    {
     "data": {
      "text/plain": [
       "2.9753977059954195e-07"
      ]
     },
     "execution_count": 20,
     "metadata": {},
     "output_type": "execute_result"
    }
   ],
   "source": [
    "# to get slope = 0\n",
    "x = 2/3\n",
    "(f(x + h) - f(x))/h"
   ]
  },
  {
   "cell_type": "code",
   "execution_count": 21,
   "id": "b5049545-051a-4504-8fcf-92dd09107bd5",
   "metadata": {},
   "outputs": [
    {
     "name": "stdout",
     "output_type": "stream",
     "text": [
      "4.0\n"
     ]
    }
   ],
   "source": [
    "# Moving on to the more complex case (multiple variable)\n",
    "a = 2.0\n",
    "b = -3.0\n",
    "c = 10\n",
    "d = a*b + c\n",
    "print(d)"
   ]
  },
  {
   "cell_type": "code",
   "execution_count": 22,
   "id": "2e0d15c8-4e63-43d5-a529-bea3553358ee",
   "metadata": {},
   "outputs": [
    {
     "name": "stdout",
     "output_type": "stream",
     "text": [
      "d1 4.0\n",
      "d2 3.9999699999999994\n",
      "slope -3.000000000064062\n"
     ]
    }
   ],
   "source": [
    "#derivative of d w.r.t a,b and c\n",
    "h = 0.00001\n",
    "#inputs\n",
    "a = 2.0\n",
    "b = -3.0\n",
    "c = 10\n",
    "d1 = a*b + c # -> f(x)\n",
    "# derivative w.r.t a\n",
    "a += h\n",
    "d2 = a*b + c # -> f(x+h)\n",
    "\n",
    "print('d1',d1)\n",
    "print('d2',d2)\n",
    "print('slope', (d2 - d1)/h)"
   ]
  },
  {
   "cell_type": "code",
   "execution_count": 19,
   "id": "563d0815-8c6b-407b-a2ea-c78e7981e142",
   "metadata": {},
   "outputs": [
    {
     "data": {
      "text/plain": [
       "Value(data=-12.0)"
      ]
     },
     "execution_count": 19,
     "metadata": {},
     "output_type": "execute_result"
    }
   ],
   "source": [
    "# Value class\n",
    "# Note : Dunder (double underscore) methods like __add__() are called automatically \n",
    "# for a + b => it will call a.__add__(b) internally\n",
    "class Value:\n",
    "    def __init__(self, data, _children=(), _op='', label = ''): #constructor of the class, and _children = () is an empty tuple, _op is an empty string which tells what operator created that children\n",
    "        self.data = data\n",
    "        self.grad = 0.0 # stores gradient of output 'L' with respect to current node\n",
    "        self._prev = set(_children) # here prev is a 'private' / internal variable which stores the tuple _children\n",
    "        self._op = _op\n",
    "        self.label = label\n",
    "    def __repr__(self): #for string representation of the object\n",
    "        return f\"Value(data={self.data})\"\n",
    "    def __add__(self, other): # overloading '+' operator to add two Value objects\n",
    "        out = Value(self.data + other.data, (self, other), '+')\n",
    "        return out  \n",
    "    def __mul__(self, other): # overloading '*' operator to multiply two Value objects\n",
    "        out = Value(self.data * other.data, (self, other), '*')\n",
    "        return out  \n",
    "a = Value(2.0, label = 'a')\n",
    "b = Value(4.0, label = 'b')\n",
    "c = Value(-2, label = 'c')\n",
    "e = a*b; e.label = 'e'\n",
    "d = e + c; d.label= 'd'\n",
    "# a * b\n",
    "# d = a*b + c\n",
    "f = Value(-2.0, label = 'f')\n",
    "L = d*f; L.label = 'L'\n",
    "L"
   ]
  },
  {
   "cell_type": "code",
   "execution_count": 15,
   "id": "c2d86234-6ce2-48c9-9e7d-949f518ae547",
   "metadata": {},
   "outputs": [
    {
     "data": {
      "text/plain": [
       "{Value(data=-2.0), Value(data=6.0)}"
      ]
     },
     "execution_count": 15,
     "metadata": {},
     "output_type": "execute_result"
    }
   ],
   "source": [
    "L._prev"
   ]
  },
  {
   "cell_type": "code",
   "execution_count": 16,
   "id": "61dd350a-ca49-4b5c-ad6b-664ad5afaf36",
   "metadata": {},
   "outputs": [
    {
     "data": {
      "text/plain": [
       "'*'"
      ]
     },
     "execution_count": 16,
     "metadata": {},
     "output_type": "execute_result"
    }
   ],
   "source": [
    "L._op"
   ]
  },
  {
   "cell_type": "code",
   "execution_count": 20,
   "id": "1d20c49a-e8e8-4f1a-921a-debf4dda6db7",
   "metadata": {},
   "outputs": [],
   "source": [
    "#For visualizing the expression step by step\n",
    "from graphviz import Digraph\n",
    "def trace(root):\n",
    "    nodes, edges = set(), set()\n",
    "    def build(v):\n",
    "        if v not in nodes:\n",
    "            nodes.add(v)\n",
    "            for child in v._prev:\n",
    "                edges.add((child, v))\n",
    "                build(child)\n",
    "    build(root)\n",
    "    return nodes, edges\n",
    "\n",
    "def draw_dot(root):\n",
    "    \n",
    "    dot = Digraph(format='svg', graph_attr={'rankdir': 'LR'}) #, node_attr={'rankdir': 'TB'})\n",
    "    nodes, edges = trace(root)\n",
    "    for n in nodes:\n",
    "        dot.node(name=str(id(n)), label = \"{%s | data %.4f | grad %.4f }\" % (n.label, n.data, n.grad), shape='record')\n",
    "        if n._op:\n",
    "            dot.node(name=str(id(n)) + n._op, label=n._op)\n",
    "            dot.edge(str(id(n)) + n._op, str(id(n)))\n",
    "    \n",
    "    for n1, n2 in edges:\n",
    "        dot.edge(str(id(n1)), str(id(n2)) + n2._op)\n",
    "    \n",
    "    return dot"
   ]
  },
  {
   "cell_type": "code",
   "execution_count": 41,
   "id": "49607b53-d94f-4fc3-b283-6ba5c780289f",
   "metadata": {},
   "outputs": [
    {
     "data": {
      "image/svg+xml": [
       "<?xml version=\"1.0\" encoding=\"UTF-8\" standalone=\"no\"?>\n",
       "<!DOCTYPE svg PUBLIC \"-//W3C//DTD SVG 1.1//EN\"\n",
       " \"http://www.w3.org/Graphics/SVG/1.1/DTD/svg11.dtd\">\n",
       "<!-- Generated by graphviz version 2.50.0 (0)\n",
       " -->\n",
       "<!-- Pages: 1 -->\n",
       "<svg width=\"1157pt\" height=\"128pt\"\n",
       " viewBox=\"0.00 0.00 1157.00 128.00\" xmlns=\"http://www.w3.org/2000/svg\" xmlns:xlink=\"http://www.w3.org/1999/xlink\">\n",
       "<g id=\"graph0\" class=\"graph\" transform=\"scale(1 1) rotate(0) translate(4 124)\">\n",
       "<polygon fill=\"white\" stroke=\"transparent\" points=\"-4,4 -4,-124 1153,-124 1153,4 -4,4\"/>\n",
       "<!-- 2493155783168 -->\n",
       "<g id=\"node1\" class=\"node\">\n",
       "<title>2493155783168</title>\n",
       "<polygon fill=\"none\" stroke=\"black\" points=\"315,-83.5 315,-119.5 509,-119.5 509,-83.5 315,-83.5\"/>\n",
       "<text text-anchor=\"middle\" x=\"326.5\" y=\"-97.8\" font-family=\"Times New Roman,serif\" font-size=\"14.00\">c</text>\n",
       "<polyline fill=\"none\" stroke=\"black\" points=\"338,-83.5 338,-119.5 \"/>\n",
       "<text text-anchor=\"middle\" x=\"380.5\" y=\"-97.8\" font-family=\"Times New Roman,serif\" font-size=\"14.00\">data &#45;2.0000</text>\n",
       "<polyline fill=\"none\" stroke=\"black\" points=\"423,-83.5 423,-119.5 \"/>\n",
       "<text text-anchor=\"middle\" x=\"466\" y=\"-97.8\" font-family=\"Times New Roman,serif\" font-size=\"14.00\">grad &#45;2.0000</text>\n",
       "</g>\n",
       "<!-- 2493155776736+ -->\n",
       "<g id=\"node7\" class=\"node\">\n",
       "<title>2493155776736+</title>\n",
       "<ellipse fill=\"none\" stroke=\"black\" cx=\"572\" cy=\"-73.5\" rx=\"27\" ry=\"18\"/>\n",
       "<text text-anchor=\"middle\" x=\"572\" y=\"-69.8\" font-family=\"Times New Roman,serif\" font-size=\"14.00\">+</text>\n",
       "</g>\n",
       "<!-- 2493155783168&#45;&gt;2493155776736+ -->\n",
       "<g id=\"edge5\" class=\"edge\">\n",
       "<title>2493155783168&#45;&gt;2493155776736+</title>\n",
       "<path fill=\"none\" stroke=\"black\" d=\"M509.01,-84.49C518.35,-82.83 527.37,-81.23 535.49,-79.79\"/>\n",
       "<polygon fill=\"black\" stroke=\"black\" points=\"536.37,-83.19 545.6,-78 535.15,-76.3 536.37,-83.19\"/>\n",
       "</g>\n",
       "<!-- 2493153191568 -->\n",
       "<g id=\"node2\" class=\"node\">\n",
       "<title>2493153191568</title>\n",
       "<polygon fill=\"none\" stroke=\"black\" points=\"0,-56.5 0,-92.5 189,-92.5 189,-56.5 0,-56.5\"/>\n",
       "<text text-anchor=\"middle\" x=\"11.5\" y=\"-70.8\" font-family=\"Times New Roman,serif\" font-size=\"14.00\">a</text>\n",
       "<polyline fill=\"none\" stroke=\"black\" points=\"23,-56.5 23,-92.5 \"/>\n",
       "<text text-anchor=\"middle\" x=\"63\" y=\"-70.8\" font-family=\"Times New Roman,serif\" font-size=\"14.00\">data 2.0000</text>\n",
       "<polyline fill=\"none\" stroke=\"black\" points=\"103,-56.5 103,-92.5 \"/>\n",
       "<text text-anchor=\"middle\" x=\"146\" y=\"-70.8\" font-family=\"Times New Roman,serif\" font-size=\"14.00\">grad &#45;8.0000</text>\n",
       "</g>\n",
       "<!-- 2493155774624* -->\n",
       "<g id=\"node5\" class=\"node\">\n",
       "<title>2493155774624*</title>\n",
       "<ellipse fill=\"none\" stroke=\"black\" cx=\"252\" cy=\"-46.5\" rx=\"27\" ry=\"18\"/>\n",
       "<text text-anchor=\"middle\" x=\"252\" y=\"-42.8\" font-family=\"Times New Roman,serif\" font-size=\"14.00\">*</text>\n",
       "</g>\n",
       "<!-- 2493153191568&#45;&gt;2493155774624* -->\n",
       "<g id=\"edge9\" class=\"edge\">\n",
       "<title>2493153191568&#45;&gt;2493155774624*</title>\n",
       "<path fill=\"none\" stroke=\"black\" d=\"M189.1,-57.65C198.4,-55.97 207.38,-54.35 215.49,-52.89\"/>\n",
       "<polygon fill=\"black\" stroke=\"black\" points=\"216.37,-56.29 225.59,-51.07 215.13,-49.4 216.37,-56.29\"/>\n",
       "</g>\n",
       "<!-- 2493155783840 -->\n",
       "<g id=\"node3\" class=\"node\">\n",
       "<title>2493155783840</title>\n",
       "<polygon fill=\"none\" stroke=\"black\" points=\"635.5,-0.5 635.5,-36.5 823.5,-36.5 823.5,-0.5 635.5,-0.5\"/>\n",
       "<text text-anchor=\"middle\" x=\"646\" y=\"-14.8\" font-family=\"Times New Roman,serif\" font-size=\"14.00\">f</text>\n",
       "<polyline fill=\"none\" stroke=\"black\" points=\"656.5,-0.5 656.5,-36.5 \"/>\n",
       "<text text-anchor=\"middle\" x=\"699\" y=\"-14.8\" font-family=\"Times New Roman,serif\" font-size=\"14.00\">data &#45;2.0000</text>\n",
       "<polyline fill=\"none\" stroke=\"black\" points=\"741.5,-0.5 741.5,-36.5 \"/>\n",
       "<text text-anchor=\"middle\" x=\"782.5\" y=\"-14.8\" font-family=\"Times New Roman,serif\" font-size=\"14.00\">grad 6.0000</text>\n",
       "</g>\n",
       "<!-- 2493155775824* -->\n",
       "<g id=\"node9\" class=\"node\">\n",
       "<title>2493155775824*</title>\n",
       "<ellipse fill=\"none\" stroke=\"black\" cx=\"887\" cy=\"-45.5\" rx=\"27\" ry=\"18\"/>\n",
       "<text text-anchor=\"middle\" x=\"887\" y=\"-41.8\" font-family=\"Times New Roman,serif\" font-size=\"14.00\">*</text>\n",
       "</g>\n",
       "<!-- 2493155783840&#45;&gt;2493155775824* -->\n",
       "<g id=\"edge8\" class=\"edge\">\n",
       "<title>2493155783840&#45;&gt;2493155775824*</title>\n",
       "<path fill=\"none\" stroke=\"black\" d=\"M823.65,-34.67C833.2,-36.33 842.43,-37.93 850.72,-39.37\"/>\n",
       "<polygon fill=\"black\" stroke=\"black\" points=\"850.24,-42.84 860.69,-41.11 851.44,-35.95 850.24,-42.84\"/>\n",
       "</g>\n",
       "<!-- 2493155774624 -->\n",
       "<g id=\"node4\" class=\"node\">\n",
       "<title>2493155774624</title>\n",
       "<polygon fill=\"none\" stroke=\"black\" points=\"317.5,-28.5 317.5,-64.5 506.5,-64.5 506.5,-28.5 317.5,-28.5\"/>\n",
       "<text text-anchor=\"middle\" x=\"329\" y=\"-42.8\" font-family=\"Times New Roman,serif\" font-size=\"14.00\">e</text>\n",
       "<polyline fill=\"none\" stroke=\"black\" points=\"340.5,-28.5 340.5,-64.5 \"/>\n",
       "<text text-anchor=\"middle\" x=\"380.5\" y=\"-42.8\" font-family=\"Times New Roman,serif\" font-size=\"14.00\">data 8.0000</text>\n",
       "<polyline fill=\"none\" stroke=\"black\" points=\"420.5,-28.5 420.5,-64.5 \"/>\n",
       "<text text-anchor=\"middle\" x=\"463.5\" y=\"-42.8\" font-family=\"Times New Roman,serif\" font-size=\"14.00\">grad &#45;2.0000</text>\n",
       "</g>\n",
       "<!-- 2493155774624&#45;&gt;2493155776736+ -->\n",
       "<g id=\"edge4\" class=\"edge\">\n",
       "<title>2493155774624&#45;&gt;2493155776736+</title>\n",
       "<path fill=\"none\" stroke=\"black\" d=\"M506.74,-62.52C516.85,-64.25 526.62,-65.92 535.37,-67.41\"/>\n",
       "<polygon fill=\"black\" stroke=\"black\" points=\"535.04,-70.9 545.48,-69.14 536.22,-64 535.04,-70.9\"/>\n",
       "</g>\n",
       "<!-- 2493155774624*&#45;&gt;2493155774624 -->\n",
       "<g id=\"edge1\" class=\"edge\">\n",
       "<title>2493155774624*&#45;&gt;2493155774624</title>\n",
       "<path fill=\"none\" stroke=\"black\" d=\"M279.09,-46.5C287.33,-46.5 296.98,-46.5 307.26,-46.5\"/>\n",
       "<polygon fill=\"black\" stroke=\"black\" points=\"307.28,-50 317.28,-46.5 307.28,-43 307.28,-50\"/>\n",
       "</g>\n",
       "<!-- 2493155776736 -->\n",
       "<g id=\"node6\" class=\"node\">\n",
       "<title>2493155776736</title>\n",
       "<polygon fill=\"none\" stroke=\"black\" points=\"635,-55.5 635,-91.5 824,-91.5 824,-55.5 635,-55.5\"/>\n",
       "<text text-anchor=\"middle\" x=\"646.5\" y=\"-69.8\" font-family=\"Times New Roman,serif\" font-size=\"14.00\">d</text>\n",
       "<polyline fill=\"none\" stroke=\"black\" points=\"658,-55.5 658,-91.5 \"/>\n",
       "<text text-anchor=\"middle\" x=\"698\" y=\"-69.8\" font-family=\"Times New Roman,serif\" font-size=\"14.00\">data 6.0000</text>\n",
       "<polyline fill=\"none\" stroke=\"black\" points=\"738,-55.5 738,-91.5 \"/>\n",
       "<text text-anchor=\"middle\" x=\"781\" y=\"-69.8\" font-family=\"Times New Roman,serif\" font-size=\"14.00\">grad &#45;2.0000</text>\n",
       "</g>\n",
       "<!-- 2493155776736&#45;&gt;2493155775824* -->\n",
       "<g id=\"edge6\" class=\"edge\">\n",
       "<title>2493155776736&#45;&gt;2493155775824*</title>\n",
       "<path fill=\"none\" stroke=\"black\" d=\"M824.1,-56.65C833.4,-54.97 842.38,-53.35 850.49,-51.89\"/>\n",
       "<polygon fill=\"black\" stroke=\"black\" points=\"851.37,-55.29 860.59,-50.07 850.13,-48.4 851.37,-55.29\"/>\n",
       "</g>\n",
       "<!-- 2493155776736+&#45;&gt;2493155776736 -->\n",
       "<g id=\"edge2\" class=\"edge\">\n",
       "<title>2493155776736+&#45;&gt;2493155776736</title>\n",
       "<path fill=\"none\" stroke=\"black\" d=\"M599.03,-73.5C606.66,-73.5 615.52,-73.5 624.94,-73.5\"/>\n",
       "<polygon fill=\"black\" stroke=\"black\" points=\"624.94,-77 634.94,-73.5 624.94,-70 624.94,-77\"/>\n",
       "</g>\n",
       "<!-- 2493155775824 -->\n",
       "<g id=\"node8\" class=\"node\">\n",
       "<title>2493155775824</title>\n",
       "<polygon fill=\"none\" stroke=\"black\" points=\"950,-27.5 950,-63.5 1149,-63.5 1149,-27.5 950,-27.5\"/>\n",
       "<text text-anchor=\"middle\" x=\"962.5\" y=\"-41.8\" font-family=\"Times New Roman,serif\" font-size=\"14.00\">L</text>\n",
       "<polyline fill=\"none\" stroke=\"black\" points=\"975,-27.5 975,-63.5 \"/>\n",
       "<text text-anchor=\"middle\" x=\"1021\" y=\"-41.8\" font-family=\"Times New Roman,serif\" font-size=\"14.00\">data &#45;12.0000</text>\n",
       "<polyline fill=\"none\" stroke=\"black\" points=\"1067,-27.5 1067,-63.5 \"/>\n",
       "<text text-anchor=\"middle\" x=\"1108\" y=\"-41.8\" font-family=\"Times New Roman,serif\" font-size=\"14.00\">grad 1.0000</text>\n",
       "</g>\n",
       "<!-- 2493155775824*&#45;&gt;2493155775824 -->\n",
       "<g id=\"edge3\" class=\"edge\">\n",
       "<title>2493155775824*&#45;&gt;2493155775824</title>\n",
       "<path fill=\"none\" stroke=\"black\" d=\"M914.14,-45.5C921.65,-45.5 930.33,-45.5 939.6,-45.5\"/>\n",
       "<polygon fill=\"black\" stroke=\"black\" points=\"939.86,-49 949.86,-45.5 939.86,-42 939.86,-49\"/>\n",
       "</g>\n",
       "<!-- 2493155725712 -->\n",
       "<g id=\"node10\" class=\"node\">\n",
       "<title>2493155725712</title>\n",
       "<polygon fill=\"none\" stroke=\"black\" points=\"0,-1.5 0,-37.5 189,-37.5 189,-1.5 0,-1.5\"/>\n",
       "<text text-anchor=\"middle\" x=\"11.5\" y=\"-15.8\" font-family=\"Times New Roman,serif\" font-size=\"14.00\">b</text>\n",
       "<polyline fill=\"none\" stroke=\"black\" points=\"23,-1.5 23,-37.5 \"/>\n",
       "<text text-anchor=\"middle\" x=\"63\" y=\"-15.8\" font-family=\"Times New Roman,serif\" font-size=\"14.00\">data 4.0000</text>\n",
       "<polyline fill=\"none\" stroke=\"black\" points=\"103,-1.5 103,-37.5 \"/>\n",
       "<text text-anchor=\"middle\" x=\"146\" y=\"-15.8\" font-family=\"Times New Roman,serif\" font-size=\"14.00\">grad &#45;4.0000</text>\n",
       "</g>\n",
       "<!-- 2493155725712&#45;&gt;2493155774624* -->\n",
       "<g id=\"edge7\" class=\"edge\">\n",
       "<title>2493155725712&#45;&gt;2493155774624*</title>\n",
       "<path fill=\"none\" stroke=\"black\" d=\"M189.1,-35.75C198.4,-37.37 207.38,-38.93 215.49,-40.33\"/>\n",
       "<polygon fill=\"black\" stroke=\"black\" points=\"215.14,-43.83 225.59,-42.09 216.34,-36.93 215.14,-43.83\"/>\n",
       "</g>\n",
       "</g>\n",
       "</svg>\n"
      ],
      "text/plain": [
       "<graphviz.graphs.Digraph at 0x2447c662d50>"
      ]
     },
     "execution_count": 41,
     "metadata": {},
     "output_type": "execute_result"
    }
   ],
   "source": [
    "draw_dot(L)"
   ]
  },
  {
   "cell_type": "code",
   "execution_count": null,
   "id": "5b09896b-df17-4127-a2c3-6dca77f1d2f2",
   "metadata": {},
   "outputs": [],
   "source": [
    "#here rectangle are the real nodes"
   ]
  },
  {
   "cell_type": "code",
   "execution_count": null,
   "id": "e950bbc4-94a4-41c4-8e91-3def479c915b",
   "metadata": {},
   "outputs": [],
   "source": [
    "# Moving to the backpropagation part\n",
    "# Now we will differentiate output node 'L' with respect to each of the other nodes (a,b,e,c,d,f) \n",
    "# Consider L as an output of Loss function and other variables as the weight in a neural network"
   ]
  },
  {
   "cell_type": "code",
   "execution_count": null,
   "id": "b2b90163-283f-4055-8419-168bc8e58d2a",
   "metadata": {},
   "outputs": [],
   "source": [
    "L = d * f\n",
    "# dL/dd = ? -> d(d*f)/dd = f (d.grad)\n",
    "# dL/df = ? -> d(d*f)/df = d (f.grad)\n",
    "# dL/dc = ? -> using chain rule of differentiation -> (dL/dd) * (dd/dc) = f * (dd/dc) {dL/dd = f} = f * (d(e + c)/dc) = f * ( 0 + 1) = f\n",
    "# Similarly dL/de = ? -> using chain rule -> dL/de = f\n",
    "# Similarly dL/da = fb -> -2 * 4 = -8.0\n",
    "# and dL/db = fa -> -2 * 2 = -4.0\n",
    "# MANUAL BACKPROPAGATION"
   ]
  },
  {
   "cell_type": "code",
   "execution_count": 40,
   "id": "e68b1ee0-2ce1-4e6e-9d31-d8af1b4f692a",
   "metadata": {},
   "outputs": [],
   "source": [
    "# So\n",
    "f.grad = 6.0 #d\n",
    "d.grad = -2.0 #f\n",
    "c.grad = -2.0 #f\n",
    "e.grad = -2.0 #f\n",
    "b.grad = -4.0 #fa\n",
    "a.grad = -8.0 #fb"
   ]
  },
  {
   "cell_type": "code",
   "execution_count": null,
   "id": "d1b25d54-c7ee-436d-a423-33616b313b6b",
   "metadata": {},
   "outputs": [],
   "source": [
    "L = d * f\n",
    "# dL/dd = ? -> d(d*f)/dd = f\n"
   ]
  },
  {
   "cell_type": "code",
   "execution_count": 32,
   "id": "f9cd061a-56ad-4daf-9e4d-a441b8468a73",
   "metadata": {},
   "outputs": [],
   "source": [
    "L.grad = 1.0 #manually setting gradient of L with respect to L as 1"
   ]
  },
  {
   "cell_type": "code",
   "execution_count": 39,
   "id": "8d91a84b-d1c7-4d23-8673-a2f2235d62b4",
   "metadata": {},
   "outputs": [
    {
     "name": "stdout",
     "output_type": "stream",
     "text": [
      "-1.9999999999953388\n"
     ]
    }
   ],
   "source": [
    "def checkingDerivative():\n",
    "    #Calculating derivative\n",
    "    \n",
    "    h = 0.0001\n",
    "    \n",
    "    a = Value(2.0, label = 'a')\n",
    "    b = Value(4.0, label = 'b')\n",
    "    c = Value(-2, label = 'c')\n",
    "    e = a*b; e.label = 'e'\n",
    "    d = e + c; d.label= 'd'\n",
    "    f = Value(-2.0, label = 'f')\n",
    "    L = d*f; L.label = 'L'\n",
    "    L1 = L.data\n",
    "\n",
    "    a = Value(2.0, label = 'a') # adding 'h' to the a just like (x+h)\n",
    "    b = Value(4.0, label = 'b')\n",
    "    c = Value(-2, label = 'c')\n",
    "    c.data += h\n",
    "    e = a*b; e.label = 'e'\n",
    "    d = e + c; d.label= 'd'\n",
    "    f = Value(-2.0, label = 'f')\n",
    "    L = d*f; L.label = 'L'\n",
    "    L2 = L.data\n",
    "\n",
    "    print((L2-L1)/h)\n",
    "    \n",
    "checkingDerivative()"
   ]
  },
  {
   "cell_type": "code",
   "execution_count": null,
   "id": "729302da-bcd3-4478-878c-66725dae8274",
   "metadata": {},
   "outputs": [],
   "source": []
  }
 ],
 "metadata": {
  "kernelspec": {
   "display_name": "Python 3 (ipykernel)",
   "language": "python",
   "name": "python3"
  },
  "language_info": {
   "codemirror_mode": {
    "name": "ipython",
    "version": 3
   },
   "file_extension": ".py",
   "mimetype": "text/x-python",
   "name": "python",
   "nbconvert_exporter": "python",
   "pygments_lexer": "ipython3",
   "version": "3.12.7"
  }
 },
 "nbformat": 4,
 "nbformat_minor": 5
}
