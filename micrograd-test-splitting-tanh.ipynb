{
 "cells": [
  {
   "cell_type": "code",
   "execution_count": 1,
   "id": "a6650c55-40aa-41be-9d3b-57a1e9d16b0d",
   "metadata": {},
   "outputs": [
    {
     "name": "stdout",
     "output_type": "stream",
     "text": [
      "hello world\n"
     ]
    }
   ],
   "source": [
    "print(\"hello world\")"
   ]
  },
  {
   "cell_type": "code",
   "execution_count": 2,
   "id": "2bd63d0c-231c-496d-90b9-dabcd083f72e",
   "metadata": {},
   "outputs": [],
   "source": [
    "import math\n",
    "import matplotlib.pyplot as plt\n",
    "%matplotlib inline\n",
    "import numpy as np"
   ]
  },
  {
   "cell_type": "code",
   "execution_count": 3,
   "id": "8751cfbd-9a59-495e-b9a9-0f391bf45ec1",
   "metadata": {},
   "outputs": [],
   "source": [
    "def f(x):\n",
    "    return 3*x**2 - 4*x + 5"
   ]
  },
  {
   "cell_type": "code",
   "execution_count": 4,
   "id": "7f981915-e39e-4176-8a22-63ad5c7e3a4b",
   "metadata": {},
   "outputs": [
    {
     "data": {
      "text/plain": [
       "60"
      ]
     },
     "execution_count": 4,
     "metadata": {},
     "output_type": "execute_result"
    }
   ],
   "source": [
    "f(5)"
   ]
  },
  {
   "cell_type": "code",
   "execution_count": 5,
   "id": "8da3362c-d42f-4a50-9bc2-62cbcaad98a3",
   "metadata": {},
   "outputs": [
    {
     "data": {
      "text/plain": [
       "20"
      ]
     },
     "execution_count": 5,
     "metadata": {},
     "output_type": "execute_result"
    }
   ],
   "source": [
    "f(3)"
   ]
  },
  {
   "cell_type": "code",
   "execution_count": 88,
   "id": "07da8d6a-db0e-4706-814e-a67eaef0cb0f",
   "metadata": {},
   "outputs": [],
   "source": [
    "xs = np.arange(-5,5,0.25)"
   ]
  },
  {
   "cell_type": "code",
   "execution_count": 89,
   "id": "440debf1-74af-41b8-8edf-dc7e1d50888b",
   "metadata": {},
   "outputs": [
    {
     "data": {
      "text/plain": [
       "array([-5.  , -4.75, -4.5 , -4.25, -4.  , -3.75, -3.5 , -3.25, -3.  ,\n",
       "       -2.75, -2.5 , -2.25, -2.  , -1.75, -1.5 , -1.25, -1.  , -0.75,\n",
       "       -0.5 , -0.25,  0.  ,  0.25,  0.5 ,  0.75,  1.  ,  1.25,  1.5 ,\n",
       "        1.75,  2.  ,  2.25,  2.5 ,  2.75,  3.  ,  3.25,  3.5 ,  3.75,\n",
       "        4.  ,  4.25,  4.5 ,  4.75])"
      ]
     },
     "execution_count": 89,
     "metadata": {},
     "output_type": "execute_result"
    }
   ],
   "source": [
    "xs"
   ]
  },
  {
   "cell_type": "code",
   "execution_count": 90,
   "id": "c8250757-4fc7-4870-822e-4b77e4b85b33",
   "metadata": {},
   "outputs": [],
   "source": [
    "ys = f(xs)"
   ]
  },
  {
   "cell_type": "code",
   "execution_count": 91,
   "id": "6a104ca9-45ae-42c1-b900-507179bb3118",
   "metadata": {},
   "outputs": [
    {
     "data": {
      "text/plain": [
       "array([100.    ,  91.6875,  83.75  ,  76.1875,  69.    ,  62.1875,\n",
       "        55.75  ,  49.6875,  44.    ,  38.6875,  33.75  ,  29.1875,\n",
       "        25.    ,  21.1875,  17.75  ,  14.6875,  12.    ,   9.6875,\n",
       "         7.75  ,   6.1875,   5.    ,   4.1875,   3.75  ,   3.6875,\n",
       "         4.    ,   4.6875,   5.75  ,   7.1875,   9.    ,  11.1875,\n",
       "        13.75  ,  16.6875,  20.    ,  23.6875,  27.75  ,  32.1875,\n",
       "        37.    ,  42.1875,  47.75  ,  53.6875])"
      ]
     },
     "execution_count": 91,
     "metadata": {},
     "output_type": "execute_result"
    }
   ],
   "source": [
    "ys"
   ]
  },
  {
   "cell_type": "code",
   "execution_count": 92,
   "id": "7ef6dcb8-f78c-4984-b70f-a9ca72ee9e28",
   "metadata": {},
   "outputs": [
    {
     "data": {
      "image/png": "[encoded data removed]",
      "text/plain": [
       "<Figure size 640x480 with 1 Axes>"
      ]
     },
     "metadata": {},
     "output_type": "display_data"
    }
   ],
   "source": [
    "# plotting X's and Y's in graph using matplot\n",
    "plt.plot(xs,ys)\n",
    "plt.grid()\n",
    "plt.show()"
   ]
  },
  {
   "cell_type": "code",
   "execution_count": null,
   "id": "7a912d04-8c91-420f-83ec-19e1f6270d92",
   "metadata": {},
   "outputs": [],
   "source": [
    "# here the graph is a parabola since the function f(X) = 3x^2 - 4x + 5\n",
    "# Now using the concept of derivative -> response to the small 'h' to a point in the curve"
   ]
  },
  {
   "cell_type": "code",
   "execution_count": 7,
   "id": "a947127d-b21a-4563-87c7-d759619c11ee",
   "metadata": {},
   "outputs": [
    {
     "data": {
      "text/plain": [
       "20.0"
      ]
     },
     "execution_count": 7,
     "metadata": {},
     "output_type": "execute_result"
    }
   ],
   "source": [
    "h = 0.00000001 \n",
    "x = 3.0\n",
    "f(x)"
   ]
  },
  {
   "cell_type": "code",
   "execution_count": 8,
   "id": "7c3aecb2-8e57-4dad-b9d8-914f0a66b069",
   "metadata": {},
   "outputs": [
    {
     "data": {
      "text/plain": [
       "20.00000014"
      ]
     },
     "execution_count": 8,
     "metadata": {},
     "output_type": "execute_result"
    }
   ],
   "source": [
    "f(x + h)"
   ]
  },
  {
   "cell_type": "code",
   "execution_count": 9,
   "id": "af5f0f7a-cf1d-4cd2-902e-5ccc5494f264",
   "metadata": {},
   "outputs": [
    {
     "data": {
      "text/plain": [
       "1.400000009255109e-07"
      ]
     },
     "execution_count": 9,
     "metadata": {},
     "output_type": "execute_result"
    }
   ],
   "source": [
    "f(x + h) - f(x) # response of the function to the change"
   ]
  },
  {
   "cell_type": "code",
   "execution_count": 10,
   "id": "795366ce-a684-4b7e-bd91-77ded2895ad0",
   "metadata": {},
   "outputs": [
    {
     "data": {
      "text/plain": [
       "14.00000009255109"
      ]
     },
     "execution_count": 10,
     "metadata": {},
     "output_type": "execute_result"
    }
   ],
   "source": [
    "# using the concept of slope = rise/run\n",
    "(f(x + h) - f(x))/h # ≈ 14"
   ]
  },
  {
   "cell_type": "code",
   "execution_count": 11,
   "id": "503e7bc7-e778-4c1d-92bd-cad37d61041d",
   "metadata": {},
   "outputs": [
    {
     "data": {
      "text/plain": [
       "0.0"
      ]
     },
     "execution_count": 11,
     "metadata": {},
     "output_type": "execute_result"
    }
   ],
   "source": [
    "# to get slope = 0\n",
    "x = 2/3\n",
    "(f(x + h) - f(x))/h"
   ]
  },
  {
   "cell_type": "code",
   "execution_count": 12,
   "id": "b5049545-051a-4504-8fcf-92dd09107bd5",
   "metadata": {},
   "outputs": [
    {
     "name": "stdout",
     "output_type": "stream",
     "text": [
      "4.0\n"
     ]
    }
   ],
   "source": [
    "# Moving on to the more complex case (multiple variable)\n",
    "a = 2.0\n",
    "b = -3.0\n",
    "c = 10\n",
    "d = a*b + c\n",
    "print(d)"
   ]
  },
  {
   "cell_type": "code",
   "execution_count": 13,
   "id": "2e0d15c8-4e63-43d5-a529-bea3553358ee",
   "metadata": {},
   "outputs": [
    {
     "name": "stdout",
     "output_type": "stream",
     "text": [
      "d1 4.0\n",
      "d2 3.9999699999999994\n",
      "slope -3.000000000064062\n"
     ]
    }
   ],
   "source": [
    "#derivative of d w.r.t a,b and c\n",
    "h = 0.00001\n",
    "#inputs\n",
    "a = 2.0\n",
    "b = -3.0\n",
    "c = 10\n",
    "d1 = a*b + c # -> f(x)\n",
    "# derivative w.r.t a\n",
    "a += h\n",
    "d2 = a*b + c # -> f(x+h)\n",
    "\n",
    "print('d1',d1)\n",
    "print('d2',d2)\n",
    "print('slope', (d2 - d1)/h)"
   ]
  },
  {
   "cell_type": "code",
   "execution_count": 88,
   "id": "563d0815-8c6b-407b-a2ea-c78e7981e142",
   "metadata": {},
   "outputs": [
    {
     "data": {
      "text/plain": [
       "Value(data=-12.0)"
      ]
     },
     "execution_count": 88,
     "metadata": {},
     "output_type": "execute_result"
    }
   ],
   "source": [
    "# Value class\n",
    "# Note : Dunder (double underscore) methods like __add__() are called automatically \n",
    "# for a + b => it will call a.__add__(b) internally\n",
    "class Value:\n",
    "    def __init__(self, data, _children=(), _op='', label = ''): #constructor of the class, and _children = () is an empty tuple, _op is an empty string which tells what operator created that children\n",
    "        self.data = data\n",
    "        self.grad = 0.0 # stores gradient of output 'L' with respect to current node\n",
    "        self._backward = lambda: None # For the implementation of chain rule for back propagation and it is a lambda function (means take any number of arguments but performs a single expression operation)\n",
    "        self._prev = set(_children) # here prev is a 'private' / internal variable which stores the tuple _children\n",
    "        self._op = _op\n",
    "        self.label = label\n",
    "        \n",
    "    def __repr__(self): #for string representation of the object\n",
    "        return f\"Value(data={self.data})\"\n",
    "        \n",
    "    def __add__(self, other): # overloading '+' operator to add two Value objects\n",
    "\n",
    "        # Checking if 'other' is a Value object or not, if not create instance of Value object of constant\n",
    "        other = other if isinstance(other, Value) else Value(other)\n",
    "\n",
    "        out = Value(self.data + other.data, (self, other), '+')\n",
    "\n",
    "        def _backward():\n",
    "            self.grad += 1.0 * out.grad \n",
    "            other.grad += 1.0 * out.grad\n",
    "            # Lets take an example of c = a + b then\n",
    "            # dc/da = ? where 'c' is out and 'a' is self and 'b' is other\n",
    "            # d(a+b)/da => dc/da is 1*c.grad cause for a 'c' is constant \n",
    "            # So the main concept is current gradient = local gradient *  parent gradient\n",
    "        out._backward = _backward\n",
    "        \n",
    "        return out \n",
    "\n",
    "    def __radd__(self, other): # other + self\n",
    "        return self + other\n",
    "\n",
    "    def __neg__(self): # -self\n",
    "        return self * -1\n",
    "\n",
    "    def __sub__(self, other):\n",
    "        return self + (-other)\n",
    "    def __mul__(self, other): # overloading '*' operator to multiply two Value objects\n",
    "        \n",
    "        other = other if isinstance(other, Value) else Value(other)    \n",
    "\n",
    "        out = Value(self.data * other.data, (self, other), '*')\n",
    "\n",
    "        def _backward():\n",
    "            self.grad += other.data * out.grad \n",
    "            other.grad += self.data * out.grad\n",
    "        out._backward = _backward\n",
    "        \n",
    "        return out \n",
    "\n",
    "    # Reverse multiplication :\n",
    "    def __rmul__(self, other): # other * self\n",
    "        return self * other\n",
    "\n",
    "    def __pow__(self, other):\n",
    "        assert isinstance(other, (int, float)) #only raised to a power with data type int/float, cannot accept Value object\n",
    "        out = Value(self.data**other, (self, ), f'**{other}')\n",
    "\n",
    "        def _backward():\n",
    "            self.grad += other*(self.data**(other - 1)) * out.grad # here the local derivative of a^n -> na^(n-1) i.e power rule\n",
    " \n",
    "        out._backward = _backward\n",
    "        return out\n",
    "    \n",
    "    def __truediv__(self, other): # self / other\n",
    "        return self * (other**-1)\n",
    "\n",
    "    def tanh(self):\n",
    "        x = self.data\n",
    "        # Formula of tanh\n",
    "        t = (math.exp(2*x) - 1)/(math.exp(2*x) + 1)\n",
    "        out = Value(t, (self, ), 'tanh')\n",
    "        def _backward():\n",
    "            self.grad += (1 - t**2) * out.grad\n",
    "        \n",
    "        out._backward = _backward\n",
    "        \n",
    "        return out\n",
    "\n",
    "    def exp(self):\n",
    "        x = self.data\n",
    "        out = Value(math.exp(x), (self, ), 'exp')\n",
    "\n",
    "        def _backward():\n",
    "            self.grad += out.data * out.grad # derivative of e^x w.r.t x is e^x itself so the local gradient will be out.data itself and parent derivative is obviously out.grad\n",
    "    \n",
    "        out._backward = _backward\n",
    "        return out\n",
    "    \n",
    "    def backward(self):\n",
    "\n",
    "        topo = []\n",
    "        visited = set()\n",
    "        def build_topo(v):\n",
    "            if v not in visited:\n",
    "                visited.add(v)\n",
    "                for child in v._prev:\n",
    "                    build_topo(child)\n",
    "                topo.append(v)\n",
    "        build_topo(self)\n",
    "\n",
    "        self.grad = 1.0\n",
    "        for node in reversed(topo):\n",
    "            node._backward()\n",
    "\n",
    "\n",
    "a = Value(2.0, label = 'a')\n",
    "b = Value(4.0, label = 'b')\n",
    "c = Value(-2, label = 'c')\n",
    "e = a*b; e.label = 'e'\n",
    "d = e + c; d.label= 'd'\n",
    "# a * b\n",
    "# d = a*b + c\n",
    "f = Value(-2.0, label = 'f')\n",
    "L = d*f; L.label = 'L'\n",
    "L"
   ]
  },
  {
   "cell_type": "code",
   "execution_count": 45,
   "id": "c2d86234-6ce2-48c9-9e7d-949f518ae547",
   "metadata": {},
   "outputs": [
    {
     "data": {
      "text/plain": [
       "{Value(data=-2.0), Value(data=6.0)}"
      ]
     },
     "execution_count": 45,
     "metadata": {},
     "output_type": "execute_result"
    }
   ],
   "source": [
    "L._prev"
   ]
  },
  {
   "cell_type": "code",
   "execution_count": 46,
   "id": "61dd350a-ca49-4b5c-ad6b-664ad5afaf36",
   "metadata": {},
   "outputs": [
    {
     "data": {
      "text/plain": [
       "'*'"
      ]
     },
     "execution_count": 46,
     "metadata": {},
     "output_type": "execute_result"
    }
   ],
   "source": [
    "L._op"
   ]
  },
  {
   "cell_type": "code",
   "execution_count": 47,
   "id": "1d20c49a-e8e8-4f1a-921a-debf4dda6db7",
   "metadata": {},
   "outputs": [],
   "source": [
    "#For visualizing the expression step by step\n",
    "from graphviz import Digraph\n",
    "def trace(root):\n",
    "    nodes, edges = set(), set()\n",
    "    def build(v):\n",
    "        if v not in nodes:\n",
    "            nodes.add(v)\n",
    "            for child in v._prev:\n",
    "                edges.add((child, v))\n",
    "                build(child)\n",
    "    build(root)\n",
    "    return nodes, edges\n",
    "\n",
    "def draw_dot(root):\n",
    "    \n",
    "    dot = Digraph(format='svg', graph_attr={'rankdir': 'LR'}) #, node_attr={'rankdir': 'TB'})\n",
    "    nodes, edges = trace(root)\n",
    "    for n in nodes:\n",
    "        dot.node(name=str(id(n)), label = \"{%s | data %.4f | grad %.4f }\" % (n.label, n.data, n.grad), shape='record')\n",
    "        if n._op:\n",
    "            dot.node(name=str(id(n)) + n._op, label=n._op)\n",
    "            dot.edge(str(id(n)) + n._op, str(id(n)))\n",
    "    \n",
    "    for n1, n2 in edges:\n",
    "        dot.edge(str(id(n1)), str(id(n2)) + n2._op)\n",
    "    \n",
    "    return dot"
   ]
  },
  {
   "cell_type": "code",
   "execution_count": 50,
   "id": "49607b53-d94f-4fc3-b283-6ba5c780289f",
   "metadata": {},
   "outputs": [
    {
     "data": {
      "image/svg+xml": [
       "<?xml version=\"1.0\" encoding=\"UTF-8\" standalone=\"no\"?>\n",
       "<!DOCTYPE svg PUBLIC \"-//W3C//DTD SVG 1.1//EN\"\n",
       " \"http://www.w3.org/Graphics/SVG/1.1/DTD/svg11.dtd\">\n",
       "<!-- Generated by graphviz version 12.2.1 (0)\n",
       " -->\n",
       "<!-- Pages: 1 -->\n",
       "<svg width=\"1334pt\" height=\"154pt\"\n",
       " viewBox=\"0.00 0.00 1334.00 154.00\" xmlns=\"http://www.w3.org/2000/svg\" xmlns:xlink=\"http://www.w3.org/1999/xlink\">\n",
       "<g id=\"graph0\" class=\"graph\" transform=\"scale(1 1) rotate(0) translate(4 150)\">\n",
       "<polygon fill=\"white\" stroke=\"none\" points=\"-4,4 -4,-150 1330,-150 1330,4 -4,4\"/>\n",
       "<!-- 132600918323712 -->\n",
       "<g id=\"node1\" class=\"node\">\n",
       "<title>132600918323712</title>\n",
       "<polygon fill=\"none\" stroke=\"black\" points=\"723,-54.5 723,-90.5 957,-90.5 957,-54.5 723,-54.5\"/>\n",
       "<text text-anchor=\"middle\" x=\"735.5\" y=\"-68.2\" font-family=\"Times,serif\" font-size=\"14.00\">d</text>\n",
       "<polyline fill=\"none\" stroke=\"black\" points=\"748,-55.25 748,-90.5\"/>\n",
       "<text text-anchor=\"middle\" x=\"798.75\" y=\"-68.2\" font-family=\"Times,serif\" font-size=\"14.00\">data 6.0000</text>\n",
       "<polyline fill=\"none\" stroke=\"black\" points=\"849.5,-55.25 849.5,-90.5\"/>\n",
       "<text text-anchor=\"middle\" x=\"903.25\" y=\"-68.2\" font-family=\"Times,serif\" font-size=\"14.00\">grad &#45;2.0000</text>\n",
       "</g>\n",
       "<!-- 132600897021392* -->\n",
       "<g id=\"node10\" class=\"node\">\n",
       "<title>132600897021392*</title>\n",
       "<ellipse fill=\"none\" stroke=\"black\" cx=\"1020\" cy=\"-99.5\" rx=\"27\" ry=\"18\"/>\n",
       "<text text-anchor=\"middle\" x=\"1020\" y=\"-94.83\" font-family=\"Times,serif\" font-size=\"14.00\">*</text>\n",
       "</g>\n",
       "<!-- 132600918323712&#45;&gt;132600897021392* -->\n",
       "<g id=\"edge4\" class=\"edge\">\n",
       "<title>132600918323712&#45;&gt;132600897021392*</title>\n",
       "<path fill=\"none\" stroke=\"black\" d=\"M957.24,-90.13C965.99,-91.46 974.34,-92.73 981.93,-93.88\"/>\n",
       "<polygon fill=\"black\" stroke=\"black\" points=\"981.24,-97.31 991.66,-95.35 982.29,-90.39 981.24,-97.31\"/>\n",
       "</g>\n",
       "<!-- 132600918323712+ -->\n",
       "<g id=\"node2\" class=\"node\">\n",
       "<title>132600918323712+</title>\n",
       "<ellipse fill=\"none\" stroke=\"black\" cx=\"660\" cy=\"-72.5\" rx=\"27\" ry=\"18\"/>\n",
       "<text text-anchor=\"middle\" x=\"660\" y=\"-67.83\" font-family=\"Times,serif\" font-size=\"14.00\">+</text>\n",
       "</g>\n",
       "<!-- 132600918323712+&#45;&gt;132600918323712 -->\n",
       "<g id=\"edge1\" class=\"edge\">\n",
       "<title>132600918323712+&#45;&gt;132600918323712</title>\n",
       "<path fill=\"none\" stroke=\"black\" d=\"M687.26,-72.5C694.34,-72.5 702.48,-72.5 711.25,-72.5\"/>\n",
       "<polygon fill=\"black\" stroke=\"black\" points=\"711.15,-76 721.15,-72.5 711.15,-69 711.15,-76\"/>\n",
       "</g>\n",
       "<!-- 132600900161120 -->\n",
       "<g id=\"node3\" class=\"node\">\n",
       "<title>132600900161120</title>\n",
       "<polygon fill=\"none\" stroke=\"black\" points=\"360,-82.5 360,-118.5 597,-118.5 597,-82.5 360,-82.5\"/>\n",
       "<text text-anchor=\"middle\" x=\"371.75\" y=\"-96.2\" font-family=\"Times,serif\" font-size=\"14.00\">c</text>\n",
       "<polyline fill=\"none\" stroke=\"black\" points=\"383.5,-83.25 383.5,-118.5\"/>\n",
       "<text text-anchor=\"middle\" x=\"436.5\" y=\"-96.2\" font-family=\"Times,serif\" font-size=\"14.00\">data &#45;2.0000</text>\n",
       "<polyline fill=\"none\" stroke=\"black\" points=\"489.5,-83.25 489.5,-118.5\"/>\n",
       "<text text-anchor=\"middle\" x=\"543.25\" y=\"-96.2\" font-family=\"Times,serif\" font-size=\"14.00\">grad &#45;2.0000</text>\n",
       "</g>\n",
       "<!-- 132600900161120&#45;&gt;132600918323712+ -->\n",
       "<g id=\"edge5\" class=\"edge\">\n",
       "<title>132600900161120&#45;&gt;132600918323712+</title>\n",
       "<path fill=\"none\" stroke=\"black\" d=\"M597.48,-82.1C606.21,-80.73 614.54,-79.43 622.1,-78.26\"/>\n",
       "<polygon fill=\"black\" stroke=\"black\" points=\"622.44,-81.74 631.79,-76.75 621.37,-74.83 622.44,-81.74\"/>\n",
       "</g>\n",
       "<!-- 132600900159632 -->\n",
       "<g id=\"node4\" class=\"node\">\n",
       "<title>132600900159632</title>\n",
       "<polygon fill=\"none\" stroke=\"black\" points=\"0,-55.5 0,-91.5 234,-91.5 234,-55.5 0,-55.5\"/>\n",
       "<text text-anchor=\"middle\" x=\"12.5\" y=\"-69.2\" font-family=\"Times,serif\" font-size=\"14.00\">b</text>\n",
       "<polyline fill=\"none\" stroke=\"black\" points=\"25,-56.25 25,-91.5\"/>\n",
       "<text text-anchor=\"middle\" x=\"75.75\" y=\"-69.2\" font-family=\"Times,serif\" font-size=\"14.00\">data 4.0000</text>\n",
       "<polyline fill=\"none\" stroke=\"black\" points=\"126.5,-56.25 126.5,-91.5\"/>\n",
       "<text text-anchor=\"middle\" x=\"180.25\" y=\"-69.2\" font-family=\"Times,serif\" font-size=\"14.00\">grad &#45;4.0000</text>\n",
       "</g>\n",
       "<!-- 132600900160448* -->\n",
       "<g id=\"node8\" class=\"node\">\n",
       "<title>132600900160448*</title>\n",
       "<ellipse fill=\"none\" stroke=\"black\" cx=\"297\" cy=\"-45.5\" rx=\"27\" ry=\"18\"/>\n",
       "<text text-anchor=\"middle\" x=\"297\" y=\"-40.83\" font-family=\"Times,serif\" font-size=\"14.00\">*</text>\n",
       "</g>\n",
       "<!-- 132600900159632&#45;&gt;132600900160448* -->\n",
       "<g id=\"edge7\" class=\"edge\">\n",
       "<title>132600900159632&#45;&gt;132600900160448*</title>\n",
       "<path fill=\"none\" stroke=\"black\" d=\"M234.24,-55.21C243.07,-53.83 251.51,-52.5 259.15,-51.3\"/>\n",
       "<polygon fill=\"black\" stroke=\"black\" points=\"259.62,-54.77 268.96,-49.75 258.53,-47.85 259.62,-54.77\"/>\n",
       "</g>\n",
       "<!-- 132600900161264 -->\n",
       "<g id=\"node5\" class=\"node\">\n",
       "<title>132600900161264</title>\n",
       "<polygon fill=\"none\" stroke=\"black\" points=\"0.38,-0.5 0.38,-36.5 233.62,-36.5 233.62,-0.5 0.38,-0.5\"/>\n",
       "<text text-anchor=\"middle\" x=\"12.5\" y=\"-14.2\" font-family=\"Times,serif\" font-size=\"14.00\">a</text>\n",
       "<polyline fill=\"none\" stroke=\"black\" points=\"24.62,-1.25 24.62,-36.5\"/>\n",
       "<text text-anchor=\"middle\" x=\"75.38\" y=\"-14.2\" font-family=\"Times,serif\" font-size=\"14.00\">data 2.0000</text>\n",
       "<polyline fill=\"none\" stroke=\"black\" points=\"126.12,-1.25 126.12,-36.5\"/>\n",
       "<text text-anchor=\"middle\" x=\"179.88\" y=\"-14.2\" font-family=\"Times,serif\" font-size=\"14.00\">grad &#45;8.0000</text>\n",
       "</g>\n",
       "<!-- 132600900161264&#45;&gt;132600900160448* -->\n",
       "<g id=\"edge9\" class=\"edge\">\n",
       "<title>132600900161264&#45;&gt;132600900160448*</title>\n",
       "<path fill=\"none\" stroke=\"black\" d=\"M233.74,-36.06C242.74,-37.42 251.33,-38.72 259.11,-39.9\"/>\n",
       "<polygon fill=\"black\" stroke=\"black\" points=\"258.32,-43.32 268.73,-41.36 259.37,-36.4 258.32,-43.32\"/>\n",
       "</g>\n",
       "<!-- 132600900387136 -->\n",
       "<g id=\"node6\" class=\"node\">\n",
       "<title>132600900387136</title>\n",
       "<polygon fill=\"none\" stroke=\"black\" points=\"724.88,-109.5 724.88,-145.5 955.12,-145.5 955.12,-109.5 724.88,-109.5\"/>\n",
       "<text text-anchor=\"middle\" x=\"735.5\" y=\"-123.2\" font-family=\"Times,serif\" font-size=\"14.00\">f</text>\n",
       "<polyline fill=\"none\" stroke=\"black\" points=\"746.12,-110.25 746.12,-145.5\"/>\n",
       "<text text-anchor=\"middle\" x=\"799.12\" y=\"-123.2\" font-family=\"Times,serif\" font-size=\"14.00\">data &#45;2.0000</text>\n",
       "<polyline fill=\"none\" stroke=\"black\" points=\"852.12,-110.25 852.12,-145.5\"/>\n",
       "<text text-anchor=\"middle\" x=\"903.62\" y=\"-123.2\" font-family=\"Times,serif\" font-size=\"14.00\">grad 6.0000</text>\n",
       "</g>\n",
       "<!-- 132600900387136&#45;&gt;132600897021392* -->\n",
       "<g id=\"edge6\" class=\"edge\">\n",
       "<title>132600900387136&#45;&gt;132600897021392*</title>\n",
       "<path fill=\"none\" stroke=\"black\" d=\"M955.49,-109.49C964.92,-108.01 973.94,-106.59 982.06,-105.31\"/>\n",
       "<polygon fill=\"black\" stroke=\"black\" points=\"982.44,-108.79 991.77,-103.78 981.35,-101.88 982.44,-108.79\"/>\n",
       "</g>\n",
       "<!-- 132600900160448 -->\n",
       "<g id=\"node7\" class=\"node\">\n",
       "<title>132600900160448</title>\n",
       "<polygon fill=\"none\" stroke=\"black\" points=\"361.88,-27.5 361.88,-63.5 595.12,-63.5 595.12,-27.5 361.88,-27.5\"/>\n",
       "<text text-anchor=\"middle\" x=\"374\" y=\"-41.2\" font-family=\"Times,serif\" font-size=\"14.00\">e</text>\n",
       "<polyline fill=\"none\" stroke=\"black\" points=\"386.12,-28.25 386.12,-63.5\"/>\n",
       "<text text-anchor=\"middle\" x=\"436.88\" y=\"-41.2\" font-family=\"Times,serif\" font-size=\"14.00\">data 8.0000</text>\n",
       "<polyline fill=\"none\" stroke=\"black\" points=\"487.62,-28.25 487.62,-63.5\"/>\n",
       "<text text-anchor=\"middle\" x=\"541.38\" y=\"-41.2\" font-family=\"Times,serif\" font-size=\"14.00\">grad &#45;2.0000</text>\n",
       "</g>\n",
       "<!-- 132600900160448&#45;&gt;132600918323712+ -->\n",
       "<g id=\"edge8\" class=\"edge\">\n",
       "<title>132600900160448&#45;&gt;132600918323712+</title>\n",
       "<path fill=\"none\" stroke=\"black\" d=\"M595.46,-62.94C604.91,-64.36 613.94,-65.72 622.06,-66.94\"/>\n",
       "<polygon fill=\"black\" stroke=\"black\" points=\"621.37,-70.38 631.78,-68.41 622.41,-63.46 621.37,-70.38\"/>\n",
       "</g>\n",
       "<!-- 132600900160448*&#45;&gt;132600900160448 -->\n",
       "<g id=\"edge2\" class=\"edge\">\n",
       "<title>132600900160448*&#45;&gt;132600900160448</title>\n",
       "<path fill=\"none\" stroke=\"black\" d=\"M324.49,-45.5C332.06,-45.5 340.85,-45.5 350.32,-45.5\"/>\n",
       "<polygon fill=\"black\" stroke=\"black\" points=\"350.2,-49 360.2,-45.5 350.2,-42 350.2,-49\"/>\n",
       "</g>\n",
       "<!-- 132600897021392 -->\n",
       "<g id=\"node9\" class=\"node\">\n",
       "<title>132600897021392</title>\n",
       "<polygon fill=\"none\" stroke=\"black\" points=\"1083,-81.5 1083,-117.5 1326,-117.5 1326,-81.5 1083,-81.5\"/>\n",
       "<text text-anchor=\"middle\" x=\"1095.5\" y=\"-95.2\" font-family=\"Times,serif\" font-size=\"14.00\">L</text>\n",
       "<polyline fill=\"none\" stroke=\"black\" points=\"1108,-82.25 1108,-117.5\"/>\n",
       "<text text-anchor=\"middle\" x=\"1165.5\" y=\"-95.2\" font-family=\"Times,serif\" font-size=\"14.00\">data &#45;12.0000</text>\n",
       "<polyline fill=\"none\" stroke=\"black\" points=\"1223,-82.25 1223,-117.5\"/>\n",
       "<text text-anchor=\"middle\" x=\"1274.5\" y=\"-95.2\" font-family=\"Times,serif\" font-size=\"14.00\">grad 1.0000</text>\n",
       "</g>\n",
       "<!-- 132600897021392*&#45;&gt;132600897021392 -->\n",
       "<g id=\"edge3\" class=\"edge\">\n",
       "<title>132600897021392*&#45;&gt;132600897021392</title>\n",
       "<path fill=\"none\" stroke=\"black\" d=\"M1047.15,-99.5C1054.22,-99.5 1062.37,-99.5 1071.17,-99.5\"/>\n",
       "<polygon fill=\"black\" stroke=\"black\" points=\"1071.12,-103 1081.12,-99.5 1071.12,-96 1071.12,-103\"/>\n",
       "</g>\n",
       "</g>\n",
       "</svg>\n"
      ],
      "text/plain": [
       "<graphviz.graphs.Digraph at 0x78998d68cb90>"
      ]
     },
     "execution_count": 50,
     "metadata": {},
     "output_type": "execute_result"
    }
   ],
   "source": [
    "draw_dot(L)"
   ]
  },
  {
   "cell_type": "code",
   "execution_count": 49,
   "id": "6699fea0-e4ff-44a6-9979-fe8b18498c3d",
   "metadata": {},
   "outputs": [],
   "source": [
    "L.backward()"
   ]
  },
  {
   "cell_type": "code",
   "execution_count": null,
   "id": "5b09896b-df17-4127-a2c3-6dca77f1d2f2",
   "metadata": {},
   "outputs": [],
   "source": [
    "#here rectangle are the real nodes"
   ]
  },
  {
   "cell_type": "code",
   "execution_count": null,
   "id": "e950bbc4-94a4-41c4-8e91-3def479c915b",
   "metadata": {},
   "outputs": [],
   "source": [
    "# Moving to the backpropagation part\n",
    "# Now we will differentiate output node 'L' with respect to each of the other nodes (a,b,e,c,d,f) \n",
    "# Consider L as an output of Loss function and other variables as the weight in a neural network"
   ]
  },
  {
   "cell_type": "code",
   "execution_count": 109,
   "id": "b2b90163-283f-4055-8419-168bc8e58d2a",
   "metadata": {},
   "outputs": [],
   "source": [
    "# L = d * f\n",
    "# dL/dd = ? -> d(d*f)/dd = f (d.grad)\n",
    "# dL/df = ? -> d(d*f)/df = d (f.grad)\n",
    "# dL/dc = ? -> using chain rule of differentiation -> (dL/dd) * (dd/dc) = f * (dd/dc) {dL/dd = f} = f * (d(e + c)/dc) = f * ( 0 + 1) = f\n",
    "# Similarly dL/de = ? -> using chain rule -> dL/de = f\n",
    "# Similarly dL/da = fb -> -2 * 4 = -8.0\n",
    "# and dL/db = fa -> -2 * 2 = -4.0\n",
    "# MANUAL BACKPROPAGATION"
   ]
  },
  {
   "cell_type": "code",
   "execution_count": 24,
   "id": "e68b1ee0-2ce1-4e6e-9d31-d8af1b4f692a",
   "metadata": {},
   "outputs": [],
   "source": [
    "# So\n",
    "f.grad = 6.0 #d\n",
    "d.grad = -2.0 #f\n",
    "c.grad = -2.0 #f\n",
    "e.grad = -2.0 #f\n",
    "b.grad = -4.0 #fa\n",
    "a.grad = -8.0 #fb"
   ]
  },
  {
   "cell_type": "code",
   "execution_count": 20,
   "id": "d1b25d54-c7ee-436d-a423-33616b313b6b",
   "metadata": {},
   "outputs": [
    {
     "name": "stdout",
     "output_type": "stream",
     "text": [
      "-10.831408\n"
     ]
    }
   ],
   "source": [
    "# Considering L as an output of any Loss function, now we will do single optimization for all the leaf nodes\n",
    "# Here gradient for each node is giving power/access to influence the output of the whole expression so changing the gradient will change the output \n",
    "a.data += 0.01 * a.grad\n",
    "b.data += 0.01 * b.grad\n",
    "c.data += 0.01 * c.grad\n",
    "f.data += 0.01 * f.grad\n",
    "\n",
    "e = a*b\n",
    "d = e + c\n",
    "L = d*f\n",
    "\n",
    "print(L.data)\n",
    "# After getting output we can run backpropagation again in backward direction to change the gradient on the basis of our output is correct or not"
   ]
  },
  {
   "cell_type": "code",
   "execution_count": 21,
   "id": "f9cd061a-56ad-4daf-9e4d-a441b8468a73",
   "metadata": {},
   "outputs": [],
   "source": [
    "L.grad = 1.0 #manually setting gradient of L with respect to L as 1"
   ]
  },
  {
   "cell_type": "code",
   "execution_count": 22,
   "id": "8d91a84b-d1c7-4d23-8673-a2f2235d62b4",
   "metadata": {},
   "outputs": [
    {
     "name": "stdout",
     "output_type": "stream",
     "text": [
      "-1.9999999999953388\n"
     ]
    }
   ],
   "source": [
    "def checkingDerivative():\n",
    "    #Calculating derivative\n",
    "    \n",
    "    h = 0.0001\n",
    "    \n",
    "    a = Value(2.0, label = 'a')\n",
    "    b = Value(4.0, label = 'b')\n",
    "    c = Value(-2, label = 'c')\n",
    "    e = a*b; e.label = 'e'\n",
    "    d = e + c; d.label= 'd'\n",
    "    f = Value(-2.0, label = 'f')\n",
    "    L = d*f; L.label = 'L'\n",
    "    L1 = L.data\n",
    "\n",
    "    a = Value(2.0, label = 'a') # adding 'h' to the a just like (x+h)\n",
    "    b = Value(4.0, label = 'b')\n",
    "    c = Value(-2, label = 'c')\n",
    "    c.data += h\n",
    "    e = a*b; e.label = 'e'\n",
    "    d = e + c; d.label= 'd'\n",
    "    f = Value(-2.0, label = 'f')\n",
    "    L = d*f; L.label = 'L'\n",
    "    L2 = L.data\n",
    "\n",
    "    print((L2-L1)/h)\n",
    "    \n",
    "checkingDerivative()"
   ]
  },
  {
   "cell_type": "code",
   "execution_count": 106,
   "id": "729302da-bcd3-4478-878c-66725dae8274",
   "metadata": {},
   "outputs": [
    {
     "data": {
      "image/png": "[encoded data removed]",
      "text/plain": [
       "<Figure size 640x480 with 1 Axes>"
      ]
     },
     "metadata": {},
     "output_type": "display_data"
    }
   ],
   "source": [
    "#Backpropagate through neuron 'not nodes'\n",
    "# tanh function for activation\n",
    "plt.plot(np.arange(-5,5,0.2), np.tanh(np.arange(-5,5,0.2))); plt.grid(); plt.show()"
   ]
  },
  {
   "cell_type": "code",
   "execution_count": 35,
   "id": "488114b1-1b8b-4870-8145-553d5295bbe0",
   "metadata": {},
   "outputs": [],
   "source": [
    "# Structure of a single neuron\n",
    "# inputs x1, x2 \n",
    "x1 = Value(2.0, label ='x1')\n",
    "x2 = Value(0.0, label='x2')\n",
    "\n",
    "# weights of the neuron w1, w2\n",
    "w1 = Value(-3.0, label='w1')\n",
    "w2 = Value(1.0, label='w2')\n",
    "\n",
    "#bias of the neuron b\n",
    "b = Value(6.881373587019432, label='b')\n",
    "\n",
    "#x1*w1 + x2*w2 + b\n",
    "x1w1 = x1*w1; x1w1.label = 'x1*w1'\n",
    "x2w2=x2*w2; x2w2.label = 'x2*w2'\n",
    "x1w1x2w2 = x1w1 + x2w2; x1w1x2w2.label = 'x1*w1 + x2*w2'\n",
    "n = x1w1x2w2 + b; n.label = 'n'\n",
    "o = n.tanh(); o.label = 'o'\n"
   ]
  },
  {
   "cell_type": "code",
   "execution_count": 40,
   "id": "f70b8bff-b3f8-401d-83b2-c8e293c140ef",
   "metadata": {},
   "outputs": [
    {
     "data": {
      "image/svg+xml": [
       "<?xml version=\"1.0\" encoding=\"UTF-8\" standalone=\"no\"?>\n",
       "<!DOCTYPE svg PUBLIC \"-//W3C//DTD SVG 1.1//EN\"\n",
       " \"http://www.w3.org/Graphics/SVG/1.1/DTD/svg11.dtd\">\n",
       "<!-- Generated by graphviz version 12.2.1 (0)\n",
       " -->\n",
       "<!-- Pages: 1 -->\n",
       "<svg width=\"1836pt\" height=\"210pt\"\n",
       " viewBox=\"0.00 0.00 1835.94 210.00\" xmlns=\"http://www.w3.org/2000/svg\" xmlns:xlink=\"http://www.w3.org/1999/xlink\">\n",
       "<g id=\"graph0\" class=\"graph\" transform=\"scale(1 1) rotate(0) translate(4 206)\">\n",
       "<polygon fill=\"white\" stroke=\"none\" points=\"-4,4 -4,-206 1831.94,-206 1831.94,4 -4,4\"/>\n",
       "<!-- 132600914443824 -->\n",
       "<g id=\"node1\" class=\"node\">\n",
       "<title>132600914443824</title>\n",
       "<polygon fill=\"none\" stroke=\"black\" points=\"1.88,-165.5 1.88,-201.5 244.12,-201.5 244.12,-165.5 1.88,-165.5\"/>\n",
       "<text text-anchor=\"middle\" x=\"18.5\" y=\"-179.2\" font-family=\"Times,serif\" font-size=\"14.00\">x1</text>\n",
       "<polyline fill=\"none\" stroke=\"black\" points=\"35.12,-166.25 35.12,-201.5\"/>\n",
       "<text text-anchor=\"middle\" x=\"85.88\" y=\"-179.2\" font-family=\"Times,serif\" font-size=\"14.00\">data 2.0000</text>\n",
       "<polyline fill=\"none\" stroke=\"black\" points=\"136.62,-166.25 136.62,-201.5\"/>\n",
       "<text text-anchor=\"middle\" x=\"190.38\" y=\"-179.2\" font-family=\"Times,serif\" font-size=\"14.00\">grad &#45;1.5000</text>\n",
       "</g>\n",
       "<!-- 132600914442048* -->\n",
       "<g id=\"node12\" class=\"node\">\n",
       "<title>132600914442048*</title>\n",
       "<ellipse fill=\"none\" stroke=\"black\" cx=\"309\" cy=\"-128.5\" rx=\"27\" ry=\"18\"/>\n",
       "<text text-anchor=\"middle\" x=\"309\" y=\"-123.83\" font-family=\"Times,serif\" font-size=\"14.00\">*</text>\n",
       "</g>\n",
       "<!-- 132600914443824&#45;&gt;132600914442048* -->\n",
       "<g id=\"edge12\" class=\"edge\">\n",
       "<title>132600914443824&#45;&gt;132600914442048*</title>\n",
       "<path fill=\"none\" stroke=\"black\" d=\"M216.81,-165.07C226.74,-162.47 236.63,-159.61 246,-156.5 256.18,-153.12 266.94,-148.61 276.59,-144.2\"/>\n",
       "<polygon fill=\"black\" stroke=\"black\" points=\"277.99,-147.41 285.55,-139.98 275.01,-141.08 277.99,-147.41\"/>\n",
       "</g>\n",
       "<!-- 132600914438304 -->\n",
       "<g id=\"node2\" class=\"node\">\n",
       "<title>132600914438304</title>\n",
       "<polygon fill=\"none\" stroke=\"black\" points=\"4.12,-55.5 4.12,-91.5 241.88,-91.5 241.88,-55.5 4.12,-55.5\"/>\n",
       "<text text-anchor=\"middle\" x=\"20.75\" y=\"-69.2\" font-family=\"Times,serif\" font-size=\"14.00\">x2</text>\n",
       "<polyline fill=\"none\" stroke=\"black\" points=\"37.38,-56.25 37.38,-91.5\"/>\n",
       "<text text-anchor=\"middle\" x=\"88.12\" y=\"-69.2\" font-family=\"Times,serif\" font-size=\"14.00\">data 0.0000</text>\n",
       "<polyline fill=\"none\" stroke=\"black\" points=\"138.88,-56.25 138.88,-91.5\"/>\n",
       "<text text-anchor=\"middle\" x=\"190.38\" y=\"-69.2\" font-family=\"Times,serif\" font-size=\"14.00\">grad 0.5000</text>\n",
       "</g>\n",
       "<!-- 132600914443968* -->\n",
       "<g id=\"node4\" class=\"node\">\n",
       "<title>132600914443968*</title>\n",
       "<ellipse fill=\"none\" stroke=\"black\" cx=\"309\" cy=\"-73.5\" rx=\"27\" ry=\"18\"/>\n",
       "<text text-anchor=\"middle\" x=\"309\" y=\"-68.83\" font-family=\"Times,serif\" font-size=\"14.00\">*</text>\n",
       "</g>\n",
       "<!-- 132600914438304&#45;&gt;132600914443968* -->\n",
       "<g id=\"edge7\" class=\"edge\">\n",
       "<title>132600914438304&#45;&gt;132600914443968*</title>\n",
       "<path fill=\"none\" stroke=\"black\" d=\"M242.35,-73.5C252.31,-73.5 261.82,-73.5 270.35,-73.5\"/>\n",
       "<polygon fill=\"black\" stroke=\"black\" points=\"270.2,-77 280.2,-73.5 270.2,-70 270.2,-77\"/>\n",
       "</g>\n",
       "<!-- 132600914443968 -->\n",
       "<g id=\"node3\" class=\"node\">\n",
       "<title>132600914443968</title>\n",
       "<polygon fill=\"none\" stroke=\"black\" points=\"374.25,-55.5 374.25,-91.5 639.75,-91.5 639.75,-55.5 374.25,-55.5\"/>\n",
       "<text text-anchor=\"middle\" x=\"404.75\" y=\"-69.2\" font-family=\"Times,serif\" font-size=\"14.00\">x2*w2</text>\n",
       "<polyline fill=\"none\" stroke=\"black\" points=\"435.25,-56.25 435.25,-91.5\"/>\n",
       "<text text-anchor=\"middle\" x=\"486\" y=\"-69.2\" font-family=\"Times,serif\" font-size=\"14.00\">data 0.0000</text>\n",
       "<polyline fill=\"none\" stroke=\"black\" points=\"536.75,-56.25 536.75,-91.5\"/>\n",
       "<text text-anchor=\"middle\" x=\"588.25\" y=\"-69.2\" font-family=\"Times,serif\" font-size=\"14.00\">grad 0.5000</text>\n",
       "</g>\n",
       "<!-- 132600914444112+ -->\n",
       "<g id=\"node10\" class=\"node\">\n",
       "<title>132600914444112+</title>\n",
       "<ellipse fill=\"none\" stroke=\"black\" cx=\"705\" cy=\"-100.5\" rx=\"27\" ry=\"18\"/>\n",
       "<text text-anchor=\"middle\" x=\"705\" y=\"-95.83\" font-family=\"Times,serif\" font-size=\"14.00\">+</text>\n",
       "</g>\n",
       "<!-- 132600914443968&#45;&gt;132600914444112+ -->\n",
       "<g id=\"edge8\" class=\"edge\">\n",
       "<title>132600914443968&#45;&gt;132600914444112+</title>\n",
       "<path fill=\"none\" stroke=\"black\" d=\"M640.09,-91.7C649.64,-93.01 658.7,-94.26 666.83,-95.38\"/>\n",
       "<polygon fill=\"black\" stroke=\"black\" points=\"666.15,-98.82 676.54,-96.72 667.11,-91.88 666.15,-98.82\"/>\n",
       "</g>\n",
       "<!-- 132600914443968*&#45;&gt;132600914443968 -->\n",
       "<g id=\"edge1\" class=\"edge\">\n",
       "<title>132600914443968*&#45;&gt;132600914443968</title>\n",
       "<path fill=\"none\" stroke=\"black\" d=\"M336.43,-73.5C344.1,-73.5 353.05,-73.5 362.77,-73.5\"/>\n",
       "<polygon fill=\"black\" stroke=\"black\" points=\"362.51,-77 372.51,-73.5 362.51,-70 362.51,-77\"/>\n",
       "</g>\n",
       "<!-- 132600918315792 -->\n",
       "<g id=\"node5\" class=\"node\">\n",
       "<title>132600918315792</title>\n",
       "<polygon fill=\"none\" stroke=\"black\" points=\"1599.19,-54.5 1599.19,-90.5 1827.94,-90.5 1827.94,-54.5 1599.19,-54.5\"/>\n",
       "<text text-anchor=\"middle\" x=\"1611.32\" y=\"-68.2\" font-family=\"Times,serif\" font-size=\"14.00\">o</text>\n",
       "<polyline fill=\"none\" stroke=\"black\" points=\"1623.44,-55.25 1623.44,-90.5\"/>\n",
       "<text text-anchor=\"middle\" x=\"1674.19\" y=\"-68.2\" font-family=\"Times,serif\" font-size=\"14.00\">data 0.7071</text>\n",
       "<polyline fill=\"none\" stroke=\"black\" points=\"1724.94,-55.25 1724.94,-90.5\"/>\n",
       "<text text-anchor=\"middle\" x=\"1776.44\" y=\"-68.2\" font-family=\"Times,serif\" font-size=\"14.00\">grad 1.0000</text>\n",
       "</g>\n",
       "<!-- 132600918315792tanh -->\n",
       "<g id=\"node6\" class=\"node\">\n",
       "<title>132600918315792tanh</title>\n",
       "<ellipse fill=\"none\" stroke=\"black\" cx=\"1529.35\" cy=\"-72.5\" rx=\"33.85\" ry=\"18\"/>\n",
       "<text text-anchor=\"middle\" x=\"1529.35\" y=\"-67.83\" font-family=\"Times,serif\" font-size=\"14.00\">tanh</text>\n",
       "</g>\n",
       "<!-- 132600918315792tanh&#45;&gt;132600918315792 -->\n",
       "<g id=\"edge2\" class=\"edge\">\n",
       "<title>132600918315792tanh&#45;&gt;132600918315792</title>\n",
       "<path fill=\"none\" stroke=\"black\" d=\"M1563.35,-72.5C1570.7,-72.5 1578.92,-72.5 1587.63,-72.5\"/>\n",
       "<polygon fill=\"black\" stroke=\"black\" points=\"1587.36,-76 1597.36,-72.5 1587.36,-69 1587.36,-76\"/>\n",
       "</g>\n",
       "<!-- 132600918323520 -->\n",
       "<g id=\"node7\" class=\"node\">\n",
       "<title>132600918323520</title>\n",
       "<polygon fill=\"none\" stroke=\"black\" points=\"1230,-54.5 1230,-90.5 1459.5,-90.5 1459.5,-54.5 1230,-54.5\"/>\n",
       "<text text-anchor=\"middle\" x=\"1242.5\" y=\"-68.2\" font-family=\"Times,serif\" font-size=\"14.00\">n</text>\n",
       "<polyline fill=\"none\" stroke=\"black\" points=\"1255,-55.25 1255,-90.5\"/>\n",
       "<text text-anchor=\"middle\" x=\"1305.75\" y=\"-68.2\" font-family=\"Times,serif\" font-size=\"14.00\">data 0.8814</text>\n",
       "<polyline fill=\"none\" stroke=\"black\" points=\"1356.5,-55.25 1356.5,-90.5\"/>\n",
       "<text text-anchor=\"middle\" x=\"1408\" y=\"-68.2\" font-family=\"Times,serif\" font-size=\"14.00\">grad 0.5000</text>\n",
       "</g>\n",
       "<!-- 132600918323520&#45;&gt;132600918315792tanh -->\n",
       "<g id=\"edge14\" class=\"edge\">\n",
       "<title>132600918323520&#45;&gt;132600918315792tanh</title>\n",
       "<path fill=\"none\" stroke=\"black\" d=\"M1459.83,-72.5C1468.26,-72.5 1476.4,-72.5 1483.96,-72.5\"/>\n",
       "<polygon fill=\"black\" stroke=\"black\" points=\"1483.79,-76 1493.79,-72.5 1483.79,-69 1483.79,-76\"/>\n",
       "</g>\n",
       "<!-- 132600918323520+ -->\n",
       "<g id=\"node8\" class=\"node\">\n",
       "<title>132600918323520+</title>\n",
       "<ellipse fill=\"none\" stroke=\"black\" cx=\"1167\" cy=\"-72.5\" rx=\"27\" ry=\"18\"/>\n",
       "<text text-anchor=\"middle\" x=\"1167\" y=\"-67.83\" font-family=\"Times,serif\" font-size=\"14.00\">+</text>\n",
       "</g>\n",
       "<!-- 132600918323520+&#45;&gt;132600918323520 -->\n",
       "<g id=\"edge3\" class=\"edge\">\n",
       "<title>132600918323520+&#45;&gt;132600918323520</title>\n",
       "<path fill=\"none\" stroke=\"black\" d=\"M1194.31,-72.5C1201.38,-72.5 1209.52,-72.5 1218.27,-72.5\"/>\n",
       "<polygon fill=\"black\" stroke=\"black\" points=\"1218.14,-76 1228.14,-72.5 1218.14,-69 1218.14,-76\"/>\n",
       "</g>\n",
       "<!-- 132600914444112 -->\n",
       "<g id=\"node9\" class=\"node\">\n",
       "<title>132600914444112</title>\n",
       "<polygon fill=\"none\" stroke=\"black\" points=\"768,-82.5 768,-118.5 1104,-118.5 1104,-82.5 768,-82.5\"/>\n",
       "<text text-anchor=\"middle\" x=\"831.5\" y=\"-96.2\" font-family=\"Times,serif\" font-size=\"14.00\">x1*w1 + x2*w2</text>\n",
       "<polyline fill=\"none\" stroke=\"black\" points=\"895,-83.25 895,-118.5\"/>\n",
       "<text text-anchor=\"middle\" x=\"948\" y=\"-96.2\" font-family=\"Times,serif\" font-size=\"14.00\">data &#45;6.0000</text>\n",
       "<polyline fill=\"none\" stroke=\"black\" points=\"1001,-83.25 1001,-118.5\"/>\n",
       "<text text-anchor=\"middle\" x=\"1052.5\" y=\"-96.2\" font-family=\"Times,serif\" font-size=\"14.00\">grad 0.5000</text>\n",
       "</g>\n",
       "<!-- 132600914444112&#45;&gt;132600918323520+ -->\n",
       "<g id=\"edge13\" class=\"edge\">\n",
       "<title>132600914444112&#45;&gt;132600918323520+</title>\n",
       "<path fill=\"none\" stroke=\"black\" d=\"M1088.15,-82.02C1103.05,-80.2 1117.02,-78.49 1128.9,-77.04\"/>\n",
       "<polygon fill=\"black\" stroke=\"black\" points=\"1129.04,-80.55 1138.54,-75.86 1128.19,-73.6 1129.04,-80.55\"/>\n",
       "</g>\n",
       "<!-- 132600914444112+&#45;&gt;132600914444112 -->\n",
       "<g id=\"edge4\" class=\"edge\">\n",
       "<title>132600914444112+&#45;&gt;132600914444112</title>\n",
       "<path fill=\"none\" stroke=\"black\" d=\"M732.27,-100.5C739.21,-100.5 747.24,-100.5 756.03,-100.5\"/>\n",
       "<polygon fill=\"black\" stroke=\"black\" points=\"756.02,-104 766.02,-100.5 756.02,-97 756.02,-104\"/>\n",
       "</g>\n",
       "<!-- 132600914442048 -->\n",
       "<g id=\"node11\" class=\"node\">\n",
       "<title>132600914442048</title>\n",
       "<polygon fill=\"none\" stroke=\"black\" points=\"372,-110.5 372,-146.5 642,-146.5 642,-110.5 372,-110.5\"/>\n",
       "<text text-anchor=\"middle\" x=\"402.5\" y=\"-124.2\" font-family=\"Times,serif\" font-size=\"14.00\">x1*w1</text>\n",
       "<polyline fill=\"none\" stroke=\"black\" points=\"433,-111.25 433,-146.5\"/>\n",
       "<text text-anchor=\"middle\" x=\"486\" y=\"-124.2\" font-family=\"Times,serif\" font-size=\"14.00\">data &#45;6.0000</text>\n",
       "<polyline fill=\"none\" stroke=\"black\" points=\"539,-111.25 539,-146.5\"/>\n",
       "<text text-anchor=\"middle\" x=\"590.5\" y=\"-124.2\" font-family=\"Times,serif\" font-size=\"14.00\">grad 0.5000</text>\n",
       "</g>\n",
       "<!-- 132600914442048&#45;&gt;132600914444112+ -->\n",
       "<g id=\"edge6\" class=\"edge\">\n",
       "<title>132600914442048&#45;&gt;132600914444112+</title>\n",
       "<path fill=\"none\" stroke=\"black\" d=\"M637.37,-110.02C647.88,-108.52 657.85,-107.09 666.73,-105.82\"/>\n",
       "<polygon fill=\"black\" stroke=\"black\" points=\"667.19,-109.29 676.6,-104.41 666.2,-102.36 667.19,-109.29\"/>\n",
       "</g>\n",
       "<!-- 132600914442048*&#45;&gt;132600914442048 -->\n",
       "<g id=\"edge5\" class=\"edge\">\n",
       "<title>132600914442048*&#45;&gt;132600914442048</title>\n",
       "<path fill=\"none\" stroke=\"black\" d=\"M336.43,-128.5C343.41,-128.5 351.46,-128.5 360.17,-128.5\"/>\n",
       "<polygon fill=\"black\" stroke=\"black\" points=\"360.02,-132 370.02,-128.5 360.02,-125 360.02,-132\"/>\n",
       "</g>\n",
       "<!-- 132600914442624 -->\n",
       "<g id=\"node13\" class=\"node\">\n",
       "<title>132600914442624</title>\n",
       "<polygon fill=\"none\" stroke=\"black\" points=\"0,-110.5 0,-146.5 246,-146.5 246,-110.5 0,-110.5\"/>\n",
       "<text text-anchor=\"middle\" x=\"18.5\" y=\"-124.2\" font-family=\"Times,serif\" font-size=\"14.00\">w1</text>\n",
       "<polyline fill=\"none\" stroke=\"black\" points=\"37,-111.25 37,-146.5\"/>\n",
       "<text text-anchor=\"middle\" x=\"90\" y=\"-124.2\" font-family=\"Times,serif\" font-size=\"14.00\">data &#45;3.0000</text>\n",
       "<polyline fill=\"none\" stroke=\"black\" points=\"143,-111.25 143,-146.5\"/>\n",
       "<text text-anchor=\"middle\" x=\"194.5\" y=\"-124.2\" font-family=\"Times,serif\" font-size=\"14.00\">grad 1.0000</text>\n",
       "</g>\n",
       "<!-- 132600914442624&#45;&gt;132600914442048* -->\n",
       "<g id=\"edge9\" class=\"edge\">\n",
       "<title>132600914442624&#45;&gt;132600914442048*</title>\n",
       "<path fill=\"none\" stroke=\"black\" d=\"M246.47,-128.5C254.97,-128.5 263.07,-128.5 270.44,-128.5\"/>\n",
       "<polygon fill=\"black\" stroke=\"black\" points=\"270.23,-132 280.23,-128.5 270.23,-125 270.23,-132\"/>\n",
       "</g>\n",
       "<!-- 132600914443728 -->\n",
       "<g id=\"node14\" class=\"node\">\n",
       "<title>132600914443728</title>\n",
       "<polygon fill=\"none\" stroke=\"black\" points=\"821.25,-27.5 821.25,-63.5 1050.75,-63.5 1050.75,-27.5 821.25,-27.5\"/>\n",
       "<text text-anchor=\"middle\" x=\"833.75\" y=\"-41.2\" font-family=\"Times,serif\" font-size=\"14.00\">b</text>\n",
       "<polyline fill=\"none\" stroke=\"black\" points=\"846.25,-28.25 846.25,-63.5\"/>\n",
       "<text text-anchor=\"middle\" x=\"897\" y=\"-41.2\" font-family=\"Times,serif\" font-size=\"14.00\">data 6.8814</text>\n",
       "<polyline fill=\"none\" stroke=\"black\" points=\"947.75,-28.25 947.75,-63.5\"/>\n",
       "<text text-anchor=\"middle\" x=\"999.25\" y=\"-41.2\" font-family=\"Times,serif\" font-size=\"14.00\">grad 0.5000</text>\n",
       "</g>\n",
       "<!-- 132600914443728&#45;&gt;132600918323520+ -->\n",
       "<g id=\"edge10\" class=\"edge\">\n",
       "<title>132600914443728&#45;&gt;132600918323520+</title>\n",
       "<path fill=\"none\" stroke=\"black\" d=\"M1051.16,-58.96C1079.33,-62.28 1107.53,-65.61 1128.93,-68.13\"/>\n",
       "<polygon fill=\"black\" stroke=\"black\" points=\"1128.24,-71.57 1138.58,-69.27 1129.06,-64.62 1128.24,-71.57\"/>\n",
       "</g>\n",
       "<!-- 132600914443248 -->\n",
       "<g id=\"node15\" class=\"node\">\n",
       "<title>132600914443248</title>\n",
       "<polygon fill=\"none\" stroke=\"black\" points=\"2.25,-0.5 2.25,-36.5 243.75,-36.5 243.75,-0.5 2.25,-0.5\"/>\n",
       "<text text-anchor=\"middle\" x=\"20.75\" y=\"-14.2\" font-family=\"Times,serif\" font-size=\"14.00\">w2</text>\n",
       "<polyline fill=\"none\" stroke=\"black\" points=\"39.25,-1.25 39.25,-36.5\"/>\n",
       "<text text-anchor=\"middle\" x=\"90\" y=\"-14.2\" font-family=\"Times,serif\" font-size=\"14.00\">data 1.0000</text>\n",
       "<polyline fill=\"none\" stroke=\"black\" points=\"140.75,-1.25 140.75,-36.5\"/>\n",
       "<text text-anchor=\"middle\" x=\"192.25\" y=\"-14.2\" font-family=\"Times,serif\" font-size=\"14.00\">grad 0.0000</text>\n",
       "</g>\n",
       "<!-- 132600914443248&#45;&gt;132600914443968* -->\n",
       "<g id=\"edge11\" class=\"edge\">\n",
       "<title>132600914443248&#45;&gt;132600914443968*</title>\n",
       "<path fill=\"none\" stroke=\"black\" d=\"M216.81,-36.93C226.74,-39.53 236.63,-42.39 246,-45.5 256.18,-48.88 266.94,-53.39 276.59,-57.8\"/>\n",
       "<polygon fill=\"black\" stroke=\"black\" points=\"275.01,-60.92 285.55,-62.02 277.99,-54.59 275.01,-60.92\"/>\n",
       "</g>\n",
       "</g>\n",
       "</svg>\n"
      ],
      "text/plain": [
       "<graphviz.graphs.Digraph at 0x78998e67e330>"
      ]
     },
     "execution_count": 40,
     "metadata": {},
     "output_type": "execute_result"
    }
   ],
   "source": [
    "draw_dot(o)"
   ]
  },
  {
   "cell_type": "code",
   "execution_count": 137,
   "id": "d7b5a9ae-f86b-44bd-bf1b-cba14db2492f",
   "metadata": {},
   "outputs": [],
   "source": [
    "# Manual Backpropagation #2\n",
    "# Now we will find derivative of output 'o' w.r.t each of inputs, weights and biases\n",
    "# o -> tanh\n",
    "# Derivative of tanh(x) w.r.t x is 1 - (tanh(x))**2\n",
    "# i.e 1 - o**2 (o is tanh(n)))\n",
    "o.grad = 1.0 # do/do -> 1"
   ]
  },
  {
   "cell_type": "code",
   "execution_count": 210,
   "id": "915952a8-4d75-4174-bba8-9f8c1f2c568e",
   "metadata": {},
   "outputs": [
    {
     "data": {
      "text/plain": [
       "0.5000095900000001"
      ]
     },
     "execution_count": 210,
     "metadata": {},
     "output_type": "execute_result"
    }
   ],
   "source": [
    "# o = tanh(n)\n",
    "# do/dn = 1 - o**2\n",
    "1 - (0.7071**2)"
   ]
  },
  {
   "cell_type": "code",
   "execution_count": 138,
   "id": "f7edc673-82b0-46f0-96b4-a368a613cf5a",
   "metadata": {},
   "outputs": [],
   "source": [
    "n.grad = 0.5"
   ]
  },
  {
   "cell_type": "code",
   "execution_count": 143,
   "id": "82277163-bc5d-4bc9-9d38-201fa354a9b3",
   "metadata": {},
   "outputs": [],
   "source": [
    "# do/dx1w1x2w2 = (do/dn)*(dn/dx1w1x2w2) -> (d(tanh(n))/dn)*(d(x1w1x2w2 + b)/dx1w1x2w2) -> 1 - tanh(n)**2 -> 1 - o**2\n",
    "x1w1x2w2.grad = 0.5\n",
    "#Similarly\n",
    "b.grad = 0.5"
   ]
  },
  {
   "cell_type": "code",
   "execution_count": 140,
   "id": "b05d17de-5756-4bd1-b853-282e86434f7b",
   "metadata": {},
   "outputs": [],
   "source": [
    "# Similarly\n",
    "x1w1.grad = 0.5\n",
    "x2w2.grad = 0.5"
   ]
  },
  {
   "cell_type": "code",
   "execution_count": 141,
   "id": "ed7c608f-b4ab-4370-96d9-be46f0c40d90",
   "metadata": {},
   "outputs": [],
   "source": [
    "# Also for  : do/dx2 -> (do/dx2w2)*(dx2w2/dx2) On Solving -> do/dx2 = w2*x2w2\n",
    "# Similarly -> do/dw2 -> x2*x2w2\n",
    "\n",
    "x2.grad = w2.data * x2w2.data\n",
    "w2.grad = x2.data * x2w2.data\n",
    "\n",
    "# And\n",
    "x1.grad = w1.data * x1w1.data\n",
    "w1.grad = x1.data * x1w1.data"
   ]
  },
  {
   "cell_type": "code",
   "execution_count": 266,
   "id": "02a324f3-184d-4805-b18d-3c325d8821cf",
   "metadata": {},
   "outputs": [],
   "source": [
    "# Automatic backpropagation using '_backward()' function\n",
    "o.grad = 1.0\n",
    "o._backward()"
   ]
  },
  {
   "cell_type": "code",
   "execution_count": 267,
   "id": "eb58bcc2-9d21-412a-9335-7b1723f71c50",
   "metadata": {},
   "outputs": [],
   "source": [
    "n._backward()"
   ]
  },
  {
   "cell_type": "code",
   "execution_count": 268,
   "id": "0143ce3a-78c2-49e2-a08f-3a03364a7c80",
   "metadata": {},
   "outputs": [],
   "source": [
    "b._backward()"
   ]
  },
  {
   "cell_type": "code",
   "execution_count": 269,
   "id": "b9feb7be-c87e-4369-af27-d00e93159b99",
   "metadata": {},
   "outputs": [],
   "source": [
    "x1w1x2w2._backward()"
   ]
  },
  {
   "cell_type": "code",
   "execution_count": 270,
   "id": "982e9edb-ecdd-4888-9e58-5f667e5f5946",
   "metadata": {},
   "outputs": [],
   "source": [
    "x1w1._backward()\n",
    "x2w2._backward()"
   ]
  },
  {
   "cell_type": "code",
   "execution_count": 271,
   "id": "3486252b-233f-41f8-bd66-170447029f15",
   "metadata": {},
   "outputs": [],
   "source": [
    "x1._backward()\n",
    "x2._backward()\n",
    "w1._backward()\n",
    "w2._backward()"
   ]
  },
  {
   "cell_type": "code",
   "execution_count": 274,
   "id": "1f67f1cc-bf6b-44b4-9c8f-1e722ba147ea",
   "metadata": {},
   "outputs": [
    {
     "data": {
      "text/plain": [
       "[Value(data=2.0),\n",
       " Value(data=-3.0),\n",
       " Value(data=-6.0),\n",
       " Value(data=0.0),\n",
       " Value(data=1.0),\n",
       " Value(data=0.0),\n",
       " Value(data=-6.0),\n",
       " Value(data=6.881373587019432),\n",
       " Value(data=0.8813735870194321),\n",
       " Value(data=0.7071067811864921)]"
      ]
     },
     "execution_count": 274,
     "metadata": {},
     "output_type": "execute_result"
    }
   ],
   "source": [
    "# Topological order of the graph\n",
    "topo = []\n",
    "visited = set()\n",
    "def build_topo(v):\n",
    "    if v not in visited:\n",
    "        visited.add(v)\n",
    "        for child in v._prev:\n",
    "            build_topo(child)\n",
    "        topo.append(v)\n",
    "\n",
    "build_topo(o)\n",
    "topo"
   ]
  },
  {
   "cell_type": "code",
   "execution_count": 33,
   "id": "67e2ce39-5ba9-4aa5-a17e-8a9ed33254ad",
   "metadata": {},
   "outputs": [],
   "source": [
    "#  Automatic backpropagation technique \n",
    "# Creating a topological order and calling backward function with for loop \n",
    "#  Making the below code as a function -> backward()\n",
    "\n",
    "o.grad = 1.0\n",
    "\n",
    "# Creates topological order for all the nodes in the expression\n",
    "topo = []\n",
    "visited = set()\n",
    "def build_topo(v):\n",
    "    if v not in visited:\n",
    "        visited.add(v)\n",
    "        for child in v._prev:\n",
    "            build_topo(child)\n",
    "        topo.append(v)\n",
    "\n",
    "build_topo(o)\n",
    "\n",
    "# Running backward function in reverse of the topological order using for loop\n",
    "for node in reversed(topo):\n",
    "    node._backward()"
   ]
  },
  {
   "cell_type": "code",
   "execution_count": 39,
   "id": "842d016a-9861-4c5a-90c0-80e342653872",
   "metadata": {},
   "outputs": [],
   "source": [
    "# Now calling backward() function for the ouput \n",
    "o.backward()"
   ]
  },
  {
   "cell_type": "code",
   "execution_count": 41,
   "id": "247ecbb4-aee8-428b-a286-a47428ce5d03",
   "metadata": {},
   "outputs": [],
   "source": [
    "# Bug in backpropagation\n",
    "a = Value(4.0, label='a')\n",
    "b = a + a; b.label= 'b'\n",
    "b.backward()"
   ]
  },
  {
   "cell_type": "code",
   "execution_count": 42,
   "id": "99f8fdaf-999b-465e-b097-18d0fdd04363",
   "metadata": {},
   "outputs": [
    {
     "data": {
      "image/svg+xml": [
       "<?xml version=\"1.0\" encoding=\"UTF-8\" standalone=\"no\"?>\n",
       "<!DOCTYPE svg PUBLIC \"-//W3C//DTD SVG 1.1//EN\"\n",
       " \"http://www.w3.org/Graphics/SVG/1.1/DTD/svg11.dtd\">\n",
       "<!-- Generated by graphviz version 12.2.1 (0)\n",
       " -->\n",
       "<!-- Pages: 1 -->\n",
       "<svg width=\"592pt\" height=\"45pt\"\n",
       " viewBox=\"0.00 0.00 592.25 45.00\" xmlns=\"http://www.w3.org/2000/svg\" xmlns:xlink=\"http://www.w3.org/1999/xlink\">\n",
       "<g id=\"graph0\" class=\"graph\" transform=\"scale(1 1) rotate(0) translate(4 41)\">\n",
       "<polygon fill=\"white\" stroke=\"none\" points=\"-4,4 -4,-41 588.25,-41 588.25,4 -4,4\"/>\n",
       "<!-- 132600914503936 -->\n",
       "<g id=\"node1\" class=\"node\">\n",
       "<title>132600914503936</title>\n",
       "<polygon fill=\"none\" stroke=\"black\" points=\"354.75,-0.5 354.75,-36.5 584.25,-36.5 584.25,-0.5 354.75,-0.5\"/>\n",
       "<text text-anchor=\"middle\" x=\"367.25\" y=\"-14.2\" font-family=\"Times,serif\" font-size=\"14.00\">b</text>\n",
       "<polyline fill=\"none\" stroke=\"black\" points=\"379.75,-1.25 379.75,-36.5\"/>\n",
       "<text text-anchor=\"middle\" x=\"430.5\" y=\"-14.2\" font-family=\"Times,serif\" font-size=\"14.00\">data 8.0000</text>\n",
       "<polyline fill=\"none\" stroke=\"black\" points=\"481.25,-1.25 481.25,-36.5\"/>\n",
       "<text text-anchor=\"middle\" x=\"532.75\" y=\"-14.2\" font-family=\"Times,serif\" font-size=\"14.00\">grad 1.0000</text>\n",
       "</g>\n",
       "<!-- 132600914503936+ -->\n",
       "<g id=\"node2\" class=\"node\">\n",
       "<title>132600914503936+</title>\n",
       "<ellipse fill=\"none\" stroke=\"black\" cx=\"291.75\" cy=\"-18.5\" rx=\"27\" ry=\"18\"/>\n",
       "<text text-anchor=\"middle\" x=\"291.75\" y=\"-13.82\" font-family=\"Times,serif\" font-size=\"14.00\">+</text>\n",
       "</g>\n",
       "<!-- 132600914503936+&#45;&gt;132600914503936 -->\n",
       "<g id=\"edge1\" class=\"edge\">\n",
       "<title>132600914503936+&#45;&gt;132600914503936</title>\n",
       "<path fill=\"none\" stroke=\"black\" d=\"M319.06,-18.5C326.13,-18.5 334.27,-18.5 343.02,-18.5\"/>\n",
       "<polygon fill=\"black\" stroke=\"black\" points=\"342.89,-22 352.89,-18.5 342.89,-15 342.89,-22\"/>\n",
       "</g>\n",
       "<!-- 132600914501440 -->\n",
       "<g id=\"node3\" class=\"node\">\n",
       "<title>132600914501440</title>\n",
       "<polygon fill=\"none\" stroke=\"black\" points=\"0,-0.5 0,-36.5 228.75,-36.5 228.75,-0.5 0,-0.5\"/>\n",
       "<text text-anchor=\"middle\" x=\"12.12\" y=\"-14.2\" font-family=\"Times,serif\" font-size=\"14.00\">a</text>\n",
       "<polyline fill=\"none\" stroke=\"black\" points=\"24.25,-1.25 24.25,-36.5\"/>\n",
       "<text text-anchor=\"middle\" x=\"75\" y=\"-14.2\" font-family=\"Times,serif\" font-size=\"14.00\">data 4.0000</text>\n",
       "<polyline fill=\"none\" stroke=\"black\" points=\"125.75,-1.25 125.75,-36.5\"/>\n",
       "<text text-anchor=\"middle\" x=\"177.25\" y=\"-14.2\" font-family=\"Times,serif\" font-size=\"14.00\">grad 1.0000</text>\n",
       "</g>\n",
       "<!-- 132600914501440&#45;&gt;132600914503936+ -->\n",
       "<g id=\"edge2\" class=\"edge\">\n",
       "<title>132600914501440&#45;&gt;132600914503936+</title>\n",
       "<path fill=\"none\" stroke=\"black\" d=\"M228.92,-18.5C237.46,-18.5 245.64,-18.5 253.1,-18.5\"/>\n",
       "<polygon fill=\"black\" stroke=\"black\" points=\"253.01,-22 263.01,-18.5 253.01,-15 253.01,-22\"/>\n",
       "</g>\n",
       "</g>\n",
       "</svg>\n"
      ],
      "text/plain": [
       "<graphviz.graphs.Digraph at 0x78998ea239e0>"
      ]
     },
     "execution_count": 42,
     "metadata": {},
     "output_type": "execute_result"
    }
   ],
   "source": [
    "draw_dot(b)"
   ]
  },
  {
   "cell_type": "code",
   "execution_count": 43,
   "id": "94535fbb-980e-41a8-94ee-675dfd1af9bf",
   "metadata": {},
   "outputs": [
    {
     "data": {
      "image/svg+xml": [
       "<?xml version=\"1.0\" encoding=\"UTF-8\" standalone=\"no\"?>\n",
       "<!DOCTYPE svg PUBLIC \"-//W3C//DTD SVG 1.1//EN\"\n",
       " \"http://www.w3.org/Graphics/SVG/1.1/DTD/svg11.dtd\">\n",
       "<!-- Generated by graphviz version 12.2.1 (0)\n",
       " -->\n",
       "<!-- Pages: 1 -->\n",
       "<svg width=\"958pt\" height=\"100pt\"\n",
       " viewBox=\"0.00 0.00 958.25 100.00\" xmlns=\"http://www.w3.org/2000/svg\" xmlns:xlink=\"http://www.w3.org/1999/xlink\">\n",
       "<g id=\"graph0\" class=\"graph\" transform=\"scale(1 1) rotate(0) translate(4 96)\">\n",
       "<polygon fill=\"white\" stroke=\"none\" points=\"-4,4 -4,-96 954.25,-96 954.25,4 -4,4\"/>\n",
       "<!-- 132600914497600 -->\n",
       "<g id=\"node1\" class=\"node\">\n",
       "<title>132600914497600</title>\n",
       "<polygon fill=\"none\" stroke=\"black\" points=\"720,-27.5 720,-63.5 950.25,-63.5 950.25,-27.5 720,-27.5\"/>\n",
       "<text text-anchor=\"middle\" x=\"730.62\" y=\"-41.2\" font-family=\"Times,serif\" font-size=\"14.00\">f</text>\n",
       "<polyline fill=\"none\" stroke=\"black\" points=\"741.25,-28.25 741.25,-63.5\"/>\n",
       "<text text-anchor=\"middle\" x=\"794.25\" y=\"-41.2\" font-family=\"Times,serif\" font-size=\"14.00\">data &#45;6.0000</text>\n",
       "<polyline fill=\"none\" stroke=\"black\" points=\"847.25,-28.25 847.25,-63.5\"/>\n",
       "<text text-anchor=\"middle\" x=\"898.75\" y=\"-41.2\" font-family=\"Times,serif\" font-size=\"14.00\">grad 1.0000</text>\n",
       "</g>\n",
       "<!-- 132600914497600* -->\n",
       "<g id=\"node2\" class=\"node\">\n",
       "<title>132600914497600*</title>\n",
       "<ellipse fill=\"none\" stroke=\"black\" cx=\"657\" cy=\"-45.5\" rx=\"27\" ry=\"18\"/>\n",
       "<text text-anchor=\"middle\" x=\"657\" y=\"-40.83\" font-family=\"Times,serif\" font-size=\"14.00\">*</text>\n",
       "</g>\n",
       "<!-- 132600914497600*&#45;&gt;132600914497600 -->\n",
       "<g id=\"edge1\" class=\"edge\">\n",
       "<title>132600914497600*&#45;&gt;132600914497600</title>\n",
       "<path fill=\"none\" stroke=\"black\" d=\"M684.37,-45.5C691.45,-45.5 699.61,-45.5 708.38,-45.5\"/>\n",
       "<polygon fill=\"black\" stroke=\"black\" points=\"708.27,-49 718.27,-45.5 708.27,-42 708.27,-49\"/>\n",
       "</g>\n",
       "<!-- 132600914442864 -->\n",
       "<g id=\"node3\" class=\"node\">\n",
       "<title>132600914442864</title>\n",
       "<polygon fill=\"none\" stroke=\"black\" points=\"360.38,-55.5 360.38,-91.5 593.62,-91.5 593.62,-55.5 360.38,-55.5\"/>\n",
       "<text text-anchor=\"middle\" x=\"372.5\" y=\"-69.2\" font-family=\"Times,serif\" font-size=\"14.00\">e</text>\n",
       "<polyline fill=\"none\" stroke=\"black\" points=\"384.62,-56.25 384.62,-91.5\"/>\n",
       "<text text-anchor=\"middle\" x=\"435.38\" y=\"-69.2\" font-family=\"Times,serif\" font-size=\"14.00\">data 1.0000</text>\n",
       "<polyline fill=\"none\" stroke=\"black\" points=\"486.12,-56.25 486.12,-91.5\"/>\n",
       "<text text-anchor=\"middle\" x=\"539.88\" y=\"-69.2\" font-family=\"Times,serif\" font-size=\"14.00\">grad &#45;6.0000</text>\n",
       "</g>\n",
       "<!-- 132600914442864&#45;&gt;132600914497600* -->\n",
       "<g id=\"edge9\" class=\"edge\">\n",
       "<title>132600914442864&#45;&gt;132600914497600*</title>\n",
       "<path fill=\"none\" stroke=\"black\" d=\"M593.74,-55.29C602.74,-53.88 611.33,-52.53 619.11,-51.3\"/>\n",
       "<polygon fill=\"black\" stroke=\"black\" points=\"619.39,-54.8 628.73,-49.79 618.31,-47.89 619.39,-54.8\"/>\n",
       "</g>\n",
       "<!-- 132600914442864+ -->\n",
       "<g id=\"node4\" class=\"node\">\n",
       "<title>132600914442864+</title>\n",
       "<ellipse fill=\"none\" stroke=\"black\" cx=\"297\" cy=\"-73.5\" rx=\"27\" ry=\"18\"/>\n",
       "<text text-anchor=\"middle\" x=\"297\" y=\"-68.83\" font-family=\"Times,serif\" font-size=\"14.00\">+</text>\n",
       "</g>\n",
       "<!-- 132600914442864+&#45;&gt;132600914442864 -->\n",
       "<g id=\"edge2\" class=\"edge\">\n",
       "<title>132600914442864+&#45;&gt;132600914442864</title>\n",
       "<path fill=\"none\" stroke=\"black\" d=\"M324.26,-73.5C331.48,-73.5 339.82,-73.5 348.8,-73.5\"/>\n",
       "<polygon fill=\"black\" stroke=\"black\" points=\"348.53,-77 358.53,-73.5 348.53,-70 348.53,-77\"/>\n",
       "</g>\n",
       "<!-- 132600899724560 -->\n",
       "<g id=\"node5\" class=\"node\">\n",
       "<title>132600899724560</title>\n",
       "<polygon fill=\"none\" stroke=\"black\" points=\"0.38,-55.5 0.38,-91.5 233.62,-91.5 233.62,-55.5 0.38,-55.5\"/>\n",
       "<text text-anchor=\"middle\" x=\"12.5\" y=\"-69.2\" font-family=\"Times,serif\" font-size=\"14.00\">a</text>\n",
       "<polyline fill=\"none\" stroke=\"black\" points=\"24.62,-56.25 24.62,-91.5\"/>\n",
       "<text text-anchor=\"middle\" x=\"77.62\" y=\"-69.2\" font-family=\"Times,serif\" font-size=\"14.00\">data &#45;2.0000</text>\n",
       "<polyline fill=\"none\" stroke=\"black\" points=\"130.62,-56.25 130.62,-91.5\"/>\n",
       "<text text-anchor=\"middle\" x=\"182.12\" y=\"-69.2\" font-family=\"Times,serif\" font-size=\"14.00\">grad 3.0000</text>\n",
       "</g>\n",
       "<!-- 132600899724560&#45;&gt;132600914442864+ -->\n",
       "<g id=\"edge5\" class=\"edge\">\n",
       "<title>132600899724560&#45;&gt;132600914442864+</title>\n",
       "<path fill=\"none\" stroke=\"black\" d=\"M233.74,-73.5C242.36,-73.5 250.6,-73.5 258.11,-73.5\"/>\n",
       "<polygon fill=\"black\" stroke=\"black\" points=\"258.1,-77 268.1,-73.5 258.1,-70 258.1,-77\"/>\n",
       "</g>\n",
       "<!-- 132600914465696* -->\n",
       "<g id=\"node8\" class=\"node\">\n",
       "<title>132600914465696*</title>\n",
       "<ellipse fill=\"none\" stroke=\"black\" cx=\"297\" cy=\"-18.5\" rx=\"27\" ry=\"18\"/>\n",
       "<text text-anchor=\"middle\" x=\"297\" y=\"-13.82\" font-family=\"Times,serif\" font-size=\"14.00\">*</text>\n",
       "</g>\n",
       "<!-- 132600899724560&#45;&gt;132600914465696* -->\n",
       "<g id=\"edge4\" class=\"edge\">\n",
       "<title>132600899724560&#45;&gt;132600914465696*</title>\n",
       "<path fill=\"none\" stroke=\"black\" d=\"M205.61,-55.04C215.27,-52.44 224.89,-49.58 234,-46.5 244.16,-43.06 254.91,-38.54 264.56,-34.13\"/>\n",
       "<polygon fill=\"black\" stroke=\"black\" points=\"265.97,-37.34 273.53,-29.92 262.99,-31.01 265.97,-37.34\"/>\n",
       "</g>\n",
       "<!-- 132600899729696 -->\n",
       "<g id=\"node6\" class=\"node\">\n",
       "<title>132600899729696</title>\n",
       "<polygon fill=\"none\" stroke=\"black\" points=\"0,-0.5 0,-36.5 234,-36.5 234,-0.5 0,-0.5\"/>\n",
       "<text text-anchor=\"middle\" x=\"12.5\" y=\"-14.2\" font-family=\"Times,serif\" font-size=\"14.00\">b</text>\n",
       "<polyline fill=\"none\" stroke=\"black\" points=\"25,-1.25 25,-36.5\"/>\n",
       "<text text-anchor=\"middle\" x=\"75.75\" y=\"-14.2\" font-family=\"Times,serif\" font-size=\"14.00\">data 3.0000</text>\n",
       "<polyline fill=\"none\" stroke=\"black\" points=\"126.5,-1.25 126.5,-36.5\"/>\n",
       "<text text-anchor=\"middle\" x=\"180.25\" y=\"-14.2\" font-family=\"Times,serif\" font-size=\"14.00\">grad &#45;2.0000</text>\n",
       "</g>\n",
       "<!-- 132600899729696&#45;&gt;132600914442864+ -->\n",
       "<g id=\"edge8\" class=\"edge\">\n",
       "<title>132600899729696&#45;&gt;132600914442864+</title>\n",
       "<path fill=\"none\" stroke=\"black\" d=\"M202.13,-36.97C212.94,-39.88 223.79,-43.07 234,-46.5 244.03,-49.87 254.68,-54.21 264.27,-58.42\"/>\n",
       "<polygon fill=\"black\" stroke=\"black\" points=\"262.62,-61.52 273.18,-62.44 265.5,-55.14 262.62,-61.52\"/>\n",
       "</g>\n",
       "<!-- 132600899729696&#45;&gt;132600914465696* -->\n",
       "<g id=\"edge7\" class=\"edge\">\n",
       "<title>132600899729696&#45;&gt;132600914465696*</title>\n",
       "<path fill=\"none\" stroke=\"black\" d=\"M234.24,-18.5C242.71,-18.5 250.82,-18.5 258.21,-18.5\"/>\n",
       "<polygon fill=\"black\" stroke=\"black\" points=\"258.03,-22 268.03,-18.5 258.03,-15 258.03,-22\"/>\n",
       "</g>\n",
       "<!-- 132600914465696 -->\n",
       "<g id=\"node7\" class=\"node\">\n",
       "<title>132600914465696</title>\n",
       "<polygon fill=\"none\" stroke=\"black\" points=\"360,-0.5 360,-36.5 594,-36.5 594,-0.5 360,-0.5\"/>\n",
       "<text text-anchor=\"middle\" x=\"372.5\" y=\"-14.2\" font-family=\"Times,serif\" font-size=\"14.00\">d</text>\n",
       "<polyline fill=\"none\" stroke=\"black\" points=\"385,-1.25 385,-36.5\"/>\n",
       "<text text-anchor=\"middle\" x=\"438\" y=\"-14.2\" font-family=\"Times,serif\" font-size=\"14.00\">data &#45;6.0000</text>\n",
       "<polyline fill=\"none\" stroke=\"black\" points=\"491,-1.25 491,-36.5\"/>\n",
       "<text text-anchor=\"middle\" x=\"542.5\" y=\"-14.2\" font-family=\"Times,serif\" font-size=\"14.00\">grad 1.0000</text>\n",
       "</g>\n",
       "<!-- 132600914465696&#45;&gt;132600914497600* -->\n",
       "<g id=\"edge6\" class=\"edge\">\n",
       "<title>132600914465696&#45;&gt;132600914497600*</title>\n",
       "<path fill=\"none\" stroke=\"black\" d=\"M594.24,-36.13C602.99,-37.46 611.34,-38.73 618.93,-39.88\"/>\n",
       "<polygon fill=\"black\" stroke=\"black\" points=\"618.24,-43.31 628.66,-41.35 619.29,-36.39 618.24,-43.31\"/>\n",
       "</g>\n",
       "<!-- 132600914465696*&#45;&gt;132600914465696 -->\n",
       "<g id=\"edge3\" class=\"edge\">\n",
       "<title>132600914465696*&#45;&gt;132600914465696</title>\n",
       "<path fill=\"none\" stroke=\"black\" d=\"M324.26,-18.5C331.34,-18.5 339.48,-18.5 348.25,-18.5\"/>\n",
       "<polygon fill=\"black\" stroke=\"black\" points=\"348.15,-22 358.15,-18.5 348.15,-15 348.15,-22\"/>\n",
       "</g>\n",
       "</g>\n",
       "</svg>\n"
      ],
      "text/plain": [
       "<graphviz.graphs.Digraph at 0x78998d8d1520>"
      ]
     },
     "execution_count": 43,
     "metadata": {},
     "output_type": "execute_result"
    }
   ],
   "source": [
    "# Here is overlapping of node 'a'\n",
    "#  More complicated way to see this is : \n",
    "# Consider\n",
    "a = Value(-2.0, label='a')\n",
    "b = Value(3.0, label='b')\n",
    "d = a * b; d.label = 'd'\n",
    "e = a + b; e.label = 'e'\n",
    "f = d * e; f.label='f'\n",
    "f.backward()\n",
    "\n",
    "draw_dot(f)"
   ]
  },
  {
   "cell_type": "code",
   "execution_count": null,
   "id": "32fdc161-b4c4-46b4-b58b-99e467c34893",
   "metadata": {},
   "outputs": [],
   "source": [
    "#  The issue lies in using the same variable more than once\n",
    "# So we have to add the derivative at each point\n",
    "# self.grad = 1.0 * out.grad -> self.grad += 1.0 * out.grad"
   ]
  },
  {
   "cell_type": "code",
   "execution_count": 72,
   "id": "9e2b0eb7-a129-4610-8a3e-57a7f5c6a673",
   "metadata": {},
   "outputs": [
    {
     "data": {
      "text/plain": [
       "Value(data=5.0)"
      ]
     },
     "execution_count": 72,
     "metadata": {},
     "output_type": "execute_result"
    }
   ],
   "source": [
    "# Breaking up tanhx to its more complex form\n",
    "# To handle the constant within the expression -> a = b + 1; 1 is not a value object so we cannot access .data property\n",
    "# We have to use if else and wrap the constant within the Value object\n",
    "# other = other if isinstance(other, Value) else Value(other)\n",
    "a = Value(3.0, label = 'a')\n",
    "b = 2 + a; b.label = 'b'\n",
    "b"
   ]
  },
  {
   "cell_type": "code",
   "execution_count": 86,
   "id": "be8b757c-4395-4872-9e3a-36113d812473",
   "metadata": {},
   "outputs": [
    {
     "data": {
      "text/plain": [
       "Value(data=-1.0)"
      ]
     },
     "execution_count": 86,
     "metadata": {},
     "output_type": "execute_result"
    }
   ],
   "source": [
    "# It is working for a * 2 but will it work for 2 * a ? No, because a * 2 -> a._mul_ 2 so '2' is other object and \n",
    "# we checked only for 'other' not for 'self' as in (2 * a) -> 2._mul_ a , '2' is 'self' here\n",
    "# In python there is _rmul_ for reversing the multiplication and similarly _radd_ for reversing the addition\n",
    "a = Value(2.0, label='a')\n",
    "b = Value(3.0, label='b')\n",
    "# Division a/b -> a * (1/b) -> a * (b**-1)\n",
    "a/b\n",
    "# Power -> a^b\n",
    "a**2\n",
    "# Negation\n",
    "-a\n",
    "# Subtraction\n",
    "a - b"
   ]
  },
  {
   "cell_type": "code",
   "execution_count": 89,
   "id": "c71bc551-877b-49fe-bf08-40aefe5a8e18",
   "metadata": {},
   "outputs": [
    {
     "data": {
      "image/svg+xml": [
       "<?xml version=\"1.0\" encoding=\"UTF-8\" standalone=\"no\"?>\n",
       "<!DOCTYPE svg PUBLIC \"-//W3C//DTD SVG 1.1//EN\"\n",
       " \"http://www.w3.org/Graphics/SVG/1.1/DTD/svg11.dtd\">\n",
       "<!-- Generated by graphviz version 12.2.1 (0)\n",
       " -->\n",
       "<!-- Pages: 1 -->\n",
       "<svg width=\"3410pt\" height=\"239pt\"\n",
       " viewBox=\"0.00 0.00 3410.47 239.00\" xmlns=\"http://www.w3.org/2000/svg\" xmlns:xlink=\"http://www.w3.org/1999/xlink\">\n",
       "<g id=\"graph0\" class=\"graph\" transform=\"scale(1 1) rotate(0) translate(4 235)\">\n",
       "<polygon fill=\"white\" stroke=\"none\" points=\"-4,4 -4,-235 3406.47,-235 3406.47,4 -4,4\"/>\n",
       "<!-- 132600883811328 -->\n",
       "<g id=\"node1\" class=\"node\">\n",
       "<title>132600883811328</title>\n",
       "<polygon fill=\"none\" stroke=\"black\" points=\"2.25,-194.5 2.25,-230.5 243.75,-230.5 243.75,-194.5 2.25,-194.5\"/>\n",
       "<text text-anchor=\"middle\" x=\"20.75\" y=\"-208.2\" font-family=\"Times,serif\" font-size=\"14.00\">w2</text>\n",
       "<polyline fill=\"none\" stroke=\"black\" points=\"39.25,-195.25 39.25,-230.5\"/>\n",
       "<text text-anchor=\"middle\" x=\"90\" y=\"-208.2\" font-family=\"Times,serif\" font-size=\"14.00\">data 1.0000</text>\n",
       "<polyline fill=\"none\" stroke=\"black\" points=\"140.75,-195.25 140.75,-230.5\"/>\n",
       "<text text-anchor=\"middle\" x=\"192.25\" y=\"-208.2\" font-family=\"Times,serif\" font-size=\"14.00\">grad 0.0000</text>\n",
       "</g>\n",
       "<!-- 132600891668240* -->\n",
       "<g id=\"node18\" class=\"node\">\n",
       "<title>132600891668240*</title>\n",
       "<ellipse fill=\"none\" stroke=\"black\" cx=\"309\" cy=\"-157.5\" rx=\"27\" ry=\"18\"/>\n",
       "<text text-anchor=\"middle\" x=\"309\" y=\"-152.82\" font-family=\"Times,serif\" font-size=\"14.00\">*</text>\n",
       "</g>\n",
       "<!-- 132600883811328&#45;&gt;132600891668240* -->\n",
       "<g id=\"edge20\" class=\"edge\">\n",
       "<title>132600883811328&#45;&gt;132600891668240*</title>\n",
       "<path fill=\"none\" stroke=\"black\" d=\"M216.81,-194.07C226.74,-191.47 236.63,-188.61 246,-185.5 256.18,-182.12 266.94,-177.61 276.59,-173.2\"/>\n",
       "<polygon fill=\"black\" stroke=\"black\" points=\"277.99,-176.41 285.55,-168.98 275.01,-170.08 277.99,-176.41\"/>\n",
       "</g>\n",
       "<!-- 132600883807776 -->\n",
       "<g id=\"node2\" class=\"node\">\n",
       "<title>132600883807776</title>\n",
       "<polygon fill=\"none\" stroke=\"black\" points=\"1.88,-84.5 1.88,-120.5 244.12,-120.5 244.12,-84.5 1.88,-84.5\"/>\n",
       "<text text-anchor=\"middle\" x=\"18.5\" y=\"-98.2\" font-family=\"Times,serif\" font-size=\"14.00\">x1</text>\n",
       "<polyline fill=\"none\" stroke=\"black\" points=\"35.12,-85.25 35.12,-120.5\"/>\n",
       "<text text-anchor=\"middle\" x=\"85.88\" y=\"-98.2\" font-family=\"Times,serif\" font-size=\"14.00\">data 2.0000</text>\n",
       "<polyline fill=\"none\" stroke=\"black\" points=\"136.62,-85.25 136.62,-120.5\"/>\n",
       "<text text-anchor=\"middle\" x=\"190.38\" y=\"-98.2\" font-family=\"Times,serif\" font-size=\"14.00\">grad &#45;1.5000</text>\n",
       "</g>\n",
       "<!-- 132600891662960* -->\n",
       "<g id=\"node10\" class=\"node\">\n",
       "<title>132600891662960*</title>\n",
       "<ellipse fill=\"none\" stroke=\"black\" cx=\"309\" cy=\"-102.5\" rx=\"27\" ry=\"18\"/>\n",
       "<text text-anchor=\"middle\" x=\"309\" y=\"-97.83\" font-family=\"Times,serif\" font-size=\"14.00\">*</text>\n",
       "</g>\n",
       "<!-- 132600883807776&#45;&gt;132600891662960* -->\n",
       "<g id=\"edge21\" class=\"edge\">\n",
       "<title>132600883807776&#45;&gt;132600891662960*</title>\n",
       "<path fill=\"none\" stroke=\"black\" d=\"M244.42,-102.5C253.63,-102.5 262.41,-102.5 270.36,-102.5\"/>\n",
       "<polygon fill=\"black\" stroke=\"black\" points=\"270.2,-106 280.2,-102.5 270.2,-99 270.2,-106\"/>\n",
       "</g>\n",
       "<!-- 132600891909680 -->\n",
       "<g id=\"node3\" class=\"node\">\n",
       "<title>132600891909680</title>\n",
       "<polygon fill=\"none\" stroke=\"black\" points=\"1232.25,-28.5 1232.25,-64.5 1457.25,-64.5 1457.25,-28.5 1232.25,-28.5\"/>\n",
       "<text text-anchor=\"middle\" x=\"1242.5\" y=\"-42.2\" font-family=\"Times,serif\" font-size=\"14.00\"> </text>\n",
       "<polyline fill=\"none\" stroke=\"black\" points=\"1252.75,-29.25 1252.75,-64.5\"/>\n",
       "<text text-anchor=\"middle\" x=\"1303.5\" y=\"-42.2\" font-family=\"Times,serif\" font-size=\"14.00\">data 2.0000</text>\n",
       "<polyline fill=\"none\" stroke=\"black\" points=\"1354.25,-29.25 1354.25,-64.5\"/>\n",
       "<text text-anchor=\"middle\" x=\"1405.75\" y=\"-42.2\" font-family=\"Times,serif\" font-size=\"14.00\">grad 0.2203</text>\n",
       "</g>\n",
       "<!-- 132600891907184* -->\n",
       "<g id=\"node8\" class=\"node\">\n",
       "<title>132600891907184*</title>\n",
       "<ellipse fill=\"none\" stroke=\"black\" cx=\"1522.5\" cy=\"-73.5\" rx=\"27\" ry=\"18\"/>\n",
       "<text text-anchor=\"middle\" x=\"1522.5\" y=\"-68.83\" font-family=\"Times,serif\" font-size=\"14.00\">*</text>\n",
       "</g>\n",
       "<!-- 132600891909680&#45;&gt;132600891907184* -->\n",
       "<g id=\"edge19\" class=\"edge\">\n",
       "<title>132600891909680&#45;&gt;132600891907184*</title>\n",
       "<path fill=\"none\" stroke=\"black\" d=\"M1457.55,-63.68C1467.1,-65.14 1476.25,-66.55 1484.48,-67.81\"/>\n",
       "<polygon fill=\"black\" stroke=\"black\" points=\"1483.93,-71.27 1494.34,-69.33 1484.99,-64.35 1483.93,-71.27\"/>\n",
       "</g>\n",
       "<!-- 132600891911744 -->\n",
       "<g id=\"node4\" class=\"node\">\n",
       "<title>132600891911744</title>\n",
       "<polygon fill=\"none\" stroke=\"black\" points=\"1940.72,-110.5 1940.72,-146.5 2170.22,-146.5 2170.22,-110.5 1940.72,-110.5\"/>\n",
       "<text text-anchor=\"middle\" x=\"1950.97\" y=\"-124.2\" font-family=\"Times,serif\" font-size=\"14.00\"> </text>\n",
       "<polyline fill=\"none\" stroke=\"black\" points=\"1961.22,-111.25 1961.22,-146.5\"/>\n",
       "<text text-anchor=\"middle\" x=\"2011.97\" y=\"-124.2\" font-family=\"Times,serif\" font-size=\"14.00\">data 1.0000</text>\n",
       "<polyline fill=\"none\" stroke=\"black\" points=\"2062.72,-111.25 2062.72,-146.5\"/>\n",
       "<text text-anchor=\"middle\" x=\"2116.47\" y=\"-124.2\" font-family=\"Times,serif\" font-size=\"14.00\">grad &#45;0.1036</text>\n",
       "</g>\n",
       "<!-- 132600891912944+ -->\n",
       "<g id=\"node16\" class=\"node\">\n",
       "<title>132600891912944+</title>\n",
       "<ellipse fill=\"none\" stroke=\"black\" cx=\"2233.22\" cy=\"-100.5\" rx=\"27\" ry=\"18\"/>\n",
       "<text text-anchor=\"middle\" x=\"2233.22\" y=\"-95.83\" font-family=\"Times,serif\" font-size=\"14.00\">+</text>\n",
       "</g>\n",
       "<!-- 132600891911744&#45;&gt;132600891912944+ -->\n",
       "<g id=\"edge27\" class=\"edge\">\n",
       "<title>132600891911744&#45;&gt;132600891912944+</title>\n",
       "<path fill=\"none\" stroke=\"black\" d=\"M2170.26,-110.37C2179.09,-108.96 2187.55,-107.62 2195.21,-106.4\"/>\n",
       "<polygon fill=\"black\" stroke=\"black\" points=\"2195.73,-109.86 2205.05,-104.83 2194.63,-102.95 2195.73,-109.86\"/>\n",
       "</g>\n",
       "<!-- 132600891911264 -->\n",
       "<g id=\"node5\" class=\"node\">\n",
       "<title>132600891911264</title>\n",
       "<polygon fill=\"none\" stroke=\"black\" points=\"1942.97,-55.5 1942.97,-91.5 2167.97,-91.5 2167.97,-55.5 1942.97,-55.5\"/>\n",
       "<text text-anchor=\"middle\" x=\"1953.22\" y=\"-69.2\" font-family=\"Times,serif\" font-size=\"14.00\"> </text>\n",
       "<polyline fill=\"none\" stroke=\"black\" points=\"1963.47,-56.25 1963.47,-91.5\"/>\n",
       "<text text-anchor=\"middle\" x=\"2014.22\" y=\"-69.2\" font-family=\"Times,serif\" font-size=\"14.00\">data 5.8284</text>\n",
       "<polyline fill=\"none\" stroke=\"black\" points=\"2064.97,-56.25 2064.97,-91.5\"/>\n",
       "<text text-anchor=\"middle\" x=\"2116.47\" y=\"-69.2\" font-family=\"Times,serif\" font-size=\"14.00\">grad 0.0429</text>\n",
       "</g>\n",
       "<!-- 132600891911264&#45;&gt;132600891912944+ -->\n",
       "<g id=\"edge11\" class=\"edge\">\n",
       "<title>132600891911264&#45;&gt;132600891912944+</title>\n",
       "<path fill=\"none\" stroke=\"black\" d=\"M2168.28,-90.68C2177.83,-92.14 2186.97,-93.55 2195.21,-94.81\"/>\n",
       "<polygon fill=\"black\" stroke=\"black\" points=\"2194.65,-98.27 2205.07,-96.33 2195.71,-91.35 2194.65,-98.27\"/>\n",
       "</g>\n",
       "<!-- 132600891908528+ -->\n",
       "<g id=\"node26\" class=\"node\">\n",
       "<title>132600891908528+</title>\n",
       "<ellipse fill=\"none\" stroke=\"black\" cx=\"2233.22\" cy=\"-45.5\" rx=\"27\" ry=\"18\"/>\n",
       "<text text-anchor=\"middle\" x=\"2233.22\" y=\"-40.83\" font-family=\"Times,serif\" font-size=\"14.00\">+</text>\n",
       "</g>\n",
       "<!-- 132600891911264&#45;&gt;132600891908528+ -->\n",
       "<g id=\"edge28\" class=\"edge\">\n",
       "<title>132600891911264&#45;&gt;132600891908528+</title>\n",
       "<path fill=\"none\" stroke=\"black\" d=\"M2168.28,-55.69C2177.83,-54.17 2186.97,-52.71 2195.21,-51.4\"/>\n",
       "<polygon fill=\"black\" stroke=\"black\" points=\"2195.74,-54.86 2205.07,-49.83 2194.64,-47.94 2195.74,-54.86\"/>\n",
       "</g>\n",
       "<!-- 132600891911264exp -->\n",
       "<g id=\"node6\" class=\"node\">\n",
       "<title>132600891911264exp</title>\n",
       "<ellipse fill=\"none\" stroke=\"black\" cx=\"1875.61\" cy=\"-73.5\" rx=\"29.11\" ry=\"18\"/>\n",
       "<text text-anchor=\"middle\" x=\"1875.61\" y=\"-68.83\" font-family=\"Times,serif\" font-size=\"14.00\">exp</text>\n",
       "</g>\n",
       "<!-- 132600891911264exp&#45;&gt;132600891911264 -->\n",
       "<g id=\"edge1\" class=\"edge\">\n",
       "<title>132600891911264exp&#45;&gt;132600891911264</title>\n",
       "<path fill=\"none\" stroke=\"black\" d=\"M1905.19,-73.5C1912.88,-73.5 1921.72,-73.5 1931.16,-73.5\"/>\n",
       "<polygon fill=\"black\" stroke=\"black\" points=\"1930.99,-77 1940.99,-73.5 1930.99,-70 1930.99,-77\"/>\n",
       "</g>\n",
       "<!-- 132600891907184 -->\n",
       "<g id=\"node7\" class=\"node\">\n",
       "<title>132600891907184</title>\n",
       "<polygon fill=\"none\" stroke=\"black\" points=\"1585.5,-55.5 1585.5,-91.5 1810.5,-91.5 1810.5,-55.5 1585.5,-55.5\"/>\n",
       "<text text-anchor=\"middle\" x=\"1595.75\" y=\"-69.2\" font-family=\"Times,serif\" font-size=\"14.00\"> </text>\n",
       "<polyline fill=\"none\" stroke=\"black\" points=\"1606,-56.25 1606,-91.5\"/>\n",
       "<text text-anchor=\"middle\" x=\"1656.75\" y=\"-69.2\" font-family=\"Times,serif\" font-size=\"14.00\">data 1.7627</text>\n",
       "<polyline fill=\"none\" stroke=\"black\" points=\"1707.5,-56.25 1707.5,-91.5\"/>\n",
       "<text text-anchor=\"middle\" x=\"1759\" y=\"-69.2\" font-family=\"Times,serif\" font-size=\"14.00\">grad 0.2500</text>\n",
       "</g>\n",
       "<!-- 132600891907184&#45;&gt;132600891911264exp -->\n",
       "<g id=\"edge17\" class=\"edge\">\n",
       "<title>132600891907184&#45;&gt;132600891911264exp</title>\n",
       "<path fill=\"none\" stroke=\"black\" d=\"M1810.71,-73.5C1819.14,-73.5 1827.24,-73.5 1834.68,-73.5\"/>\n",
       "<polygon fill=\"black\" stroke=\"black\" points=\"1834.64,-77 1844.64,-73.5 1834.64,-70 1834.64,-77\"/>\n",
       "</g>\n",
       "<!-- 132600891907184*&#45;&gt;132600891907184 -->\n",
       "<g id=\"edge2\" class=\"edge\">\n",
       "<title>132600891907184*&#45;&gt;132600891907184</title>\n",
       "<path fill=\"none\" stroke=\"black\" d=\"M1549.85,-73.5C1556.92,-73.5 1565.04,-73.5 1573.77,-73.5\"/>\n",
       "<polygon fill=\"black\" stroke=\"black\" points=\"1573.6,-77 1583.6,-73.5 1573.6,-70 1573.6,-77\"/>\n",
       "</g>\n",
       "<!-- 132600891662960 -->\n",
       "<g id=\"node9\" class=\"node\">\n",
       "<title>132600891662960</title>\n",
       "<polygon fill=\"none\" stroke=\"black\" points=\"372,-84.5 372,-120.5 642,-120.5 642,-84.5 372,-84.5\"/>\n",
       "<text text-anchor=\"middle\" x=\"402.5\" y=\"-98.2\" font-family=\"Times,serif\" font-size=\"14.00\">x1*w1</text>\n",
       "<polyline fill=\"none\" stroke=\"black\" points=\"433,-85.25 433,-120.5\"/>\n",
       "<text text-anchor=\"middle\" x=\"486\" y=\"-98.2\" font-family=\"Times,serif\" font-size=\"14.00\">data &#45;6.0000</text>\n",
       "<polyline fill=\"none\" stroke=\"black\" points=\"539,-85.25 539,-120.5\"/>\n",
       "<text text-anchor=\"middle\" x=\"590.5\" y=\"-98.2\" font-family=\"Times,serif\" font-size=\"14.00\">grad 0.5000</text>\n",
       "</g>\n",
       "<!-- 132600891910880+ -->\n",
       "<g id=\"node13\" class=\"node\">\n",
       "<title>132600891910880+</title>\n",
       "<ellipse fill=\"none\" stroke=\"black\" cx=\"705\" cy=\"-129.5\" rx=\"27\" ry=\"18\"/>\n",
       "<text text-anchor=\"middle\" x=\"705\" y=\"-124.83\" font-family=\"Times,serif\" font-size=\"14.00\">+</text>\n",
       "</g>\n",
       "<!-- 132600891662960&#45;&gt;132600891910880+ -->\n",
       "<g id=\"edge24\" class=\"edge\">\n",
       "<title>132600891662960&#45;&gt;132600891910880+</title>\n",
       "<path fill=\"none\" stroke=\"black\" d=\"M642.25,-120.99C651.05,-122.21 659.4,-123.36 666.95,-124.4\"/>\n",
       "<polygon fill=\"black\" stroke=\"black\" points=\"666.21,-127.83 676.6,-125.73 667.17,-120.89 666.21,-127.83\"/>\n",
       "</g>\n",
       "<!-- 132600891662960*&#45;&gt;132600891662960 -->\n",
       "<g id=\"edge3\" class=\"edge\">\n",
       "<title>132600891662960*&#45;&gt;132600891662960</title>\n",
       "<path fill=\"none\" stroke=\"black\" d=\"M336.43,-102.5C343.41,-102.5 351.46,-102.5 360.17,-102.5\"/>\n",
       "<polygon fill=\"black\" stroke=\"black\" points=\"360.02,-106 370.02,-102.5 360.02,-99 360.02,-106\"/>\n",
       "</g>\n",
       "<!-- 132600883812528 -->\n",
       "<g id=\"node11\" class=\"node\">\n",
       "<title>132600883812528</title>\n",
       "<polygon fill=\"none\" stroke=\"black\" points=\"0,-29.5 0,-65.5 246,-65.5 246,-29.5 0,-29.5\"/>\n",
       "<text text-anchor=\"middle\" x=\"18.5\" y=\"-43.2\" font-family=\"Times,serif\" font-size=\"14.00\">w1</text>\n",
       "<polyline fill=\"none\" stroke=\"black\" points=\"37,-30.25 37,-65.5\"/>\n",
       "<text text-anchor=\"middle\" x=\"90\" y=\"-43.2\" font-family=\"Times,serif\" font-size=\"14.00\">data &#45;3.0000</text>\n",
       "<polyline fill=\"none\" stroke=\"black\" points=\"143,-30.25 143,-65.5\"/>\n",
       "<text text-anchor=\"middle\" x=\"194.5\" y=\"-43.2\" font-family=\"Times,serif\" font-size=\"14.00\">grad 1.0000</text>\n",
       "</g>\n",
       "<!-- 132600883812528&#45;&gt;132600891662960* -->\n",
       "<g id=\"edge12\" class=\"edge\">\n",
       "<title>132600883812528&#45;&gt;132600891662960*</title>\n",
       "<path fill=\"none\" stroke=\"black\" d=\"M213.15,-65.94C224.3,-68.84 235.47,-72.03 246,-75.5 256.05,-78.81 266.7,-83.13 276.29,-87.35\"/>\n",
       "<polygon fill=\"black\" stroke=\"black\" points=\"274.64,-90.44 285.2,-91.38 277.53,-84.07 274.64,-90.44\"/>\n",
       "</g>\n",
       "<!-- 132600891910880 -->\n",
       "<g id=\"node12\" class=\"node\">\n",
       "<title>132600891910880</title>\n",
       "<polygon fill=\"none\" stroke=\"black\" points=\"768,-111.5 768,-147.5 1104,-147.5 1104,-111.5 768,-111.5\"/>\n",
       "<text text-anchor=\"middle\" x=\"831.5\" y=\"-125.2\" font-family=\"Times,serif\" font-size=\"14.00\">x1*w1 + x2*w2</text>\n",
       "<polyline fill=\"none\" stroke=\"black\" points=\"895,-112.25 895,-147.5\"/>\n",
       "<text text-anchor=\"middle\" x=\"948\" y=\"-125.2\" font-family=\"Times,serif\" font-size=\"14.00\">data &#45;6.0000</text>\n",
       "<polyline fill=\"none\" stroke=\"black\" points=\"1001,-112.25 1001,-147.5\"/>\n",
       "<text text-anchor=\"middle\" x=\"1052.5\" y=\"-125.2\" font-family=\"Times,serif\" font-size=\"14.00\">grad 0.5000</text>\n",
       "</g>\n",
       "<!-- 132600891910976+ -->\n",
       "<g id=\"node20\" class=\"node\">\n",
       "<title>132600891910976+</title>\n",
       "<ellipse fill=\"none\" stroke=\"black\" cx=\"1167\" cy=\"-101.5\" rx=\"27\" ry=\"18\"/>\n",
       "<text text-anchor=\"middle\" x=\"1167\" y=\"-96.83\" font-family=\"Times,serif\" font-size=\"14.00\">+</text>\n",
       "</g>\n",
       "<!-- 132600891910880&#45;&gt;132600891910976+ -->\n",
       "<g id=\"edge13\" class=\"edge\">\n",
       "<title>132600891910880&#45;&gt;132600891910976+</title>\n",
       "<path fill=\"none\" stroke=\"black\" d=\"M1088.15,-111.02C1103.05,-109.2 1117.02,-107.49 1128.9,-106.04\"/>\n",
       "<polygon fill=\"black\" stroke=\"black\" points=\"1129.04,-109.55 1138.54,-104.86 1128.19,-102.6 1129.04,-109.55\"/>\n",
       "</g>\n",
       "<!-- 132600891910880+&#45;&gt;132600891910880 -->\n",
       "<g id=\"edge4\" class=\"edge\">\n",
       "<title>132600891910880+&#45;&gt;132600891910880</title>\n",
       "<path fill=\"none\" stroke=\"black\" d=\"M732.27,-129.5C739.21,-129.5 747.24,-129.5 756.03,-129.5\"/>\n",
       "<polygon fill=\"black\" stroke=\"black\" points=\"756.02,-133 766.02,-129.5 756.02,-126 756.02,-133\"/>\n",
       "</g>\n",
       "<!-- 132600883822320 -->\n",
       "<g id=\"node14\" class=\"node\">\n",
       "<title>132600883822320</title>\n",
       "<polygon fill=\"none\" stroke=\"black\" points=\"4.12,-139.5 4.12,-175.5 241.88,-175.5 241.88,-139.5 4.12,-139.5\"/>\n",
       "<text text-anchor=\"middle\" x=\"20.75\" y=\"-153.2\" font-family=\"Times,serif\" font-size=\"14.00\">x2</text>\n",
       "<polyline fill=\"none\" stroke=\"black\" points=\"37.38,-140.25 37.38,-175.5\"/>\n",
       "<text text-anchor=\"middle\" x=\"88.12\" y=\"-153.2\" font-family=\"Times,serif\" font-size=\"14.00\">data 0.0000</text>\n",
       "<polyline fill=\"none\" stroke=\"black\" points=\"138.88,-140.25 138.88,-175.5\"/>\n",
       "<text text-anchor=\"middle\" x=\"190.38\" y=\"-153.2\" font-family=\"Times,serif\" font-size=\"14.00\">grad 0.5000</text>\n",
       "</g>\n",
       "<!-- 132600883822320&#45;&gt;132600891668240* -->\n",
       "<g id=\"edge14\" class=\"edge\">\n",
       "<title>132600883822320&#45;&gt;132600891668240*</title>\n",
       "<path fill=\"none\" stroke=\"black\" d=\"M242.35,-157.5C252.31,-157.5 261.82,-157.5 270.35,-157.5\"/>\n",
       "<polygon fill=\"black\" stroke=\"black\" points=\"270.2,-161 280.2,-157.5 270.2,-154 270.2,-161\"/>\n",
       "</g>\n",
       "<!-- 132600891912944 -->\n",
       "<g id=\"node15\" class=\"node\">\n",
       "<title>132600891912944</title>\n",
       "<polygon fill=\"none\" stroke=\"black\" points=\"2296.22,-82.5 2296.22,-118.5 2525.72,-118.5 2525.72,-82.5 2296.22,-82.5\"/>\n",
       "<text text-anchor=\"middle\" x=\"2306.47\" y=\"-96.2\" font-family=\"Times,serif\" font-size=\"14.00\"> </text>\n",
       "<polyline fill=\"none\" stroke=\"black\" points=\"2316.72,-83.25 2316.72,-118.5\"/>\n",
       "<text text-anchor=\"middle\" x=\"2367.47\" y=\"-96.2\" font-family=\"Times,serif\" font-size=\"14.00\">data 6.8284</text>\n",
       "<polyline fill=\"none\" stroke=\"black\" points=\"2418.22,-83.25 2418.22,-118.5\"/>\n",
       "<text text-anchor=\"middle\" x=\"2471.97\" y=\"-96.2\" font-family=\"Times,serif\" font-size=\"14.00\">grad &#45;0.1036</text>\n",
       "</g>\n",
       "<!-- 132600891913040**&#45;1 -->\n",
       "<g id=\"node23\" class=\"node\">\n",
       "<title>132600891913040**&#45;1</title>\n",
       "<ellipse fill=\"none\" stroke=\"black\" cx=\"2674.22\" cy=\"-100.5\" rx=\"30.16\" ry=\"18\"/>\n",
       "<text text-anchor=\"middle\" x=\"2674.22\" y=\"-95.83\" font-family=\"Times,serif\" font-size=\"14.00\">**&#45;1</text>\n",
       "</g>\n",
       "<!-- 132600891912944&#45;&gt;132600891913040**&#45;1 -->\n",
       "<g id=\"edge25\" class=\"edge\">\n",
       "<title>132600891912944&#45;&gt;132600891913040**&#45;1</title>\n",
       "<path fill=\"none\" stroke=\"black\" d=\"M2526.18,-100.5C2564.07,-100.5 2603.84,-100.5 2632.45,-100.5\"/>\n",
       "<polygon fill=\"black\" stroke=\"black\" points=\"2632.09,-104 2642.09,-100.5 2632.09,-97 2632.09,-104\"/>\n",
       "</g>\n",
       "<!-- 132600891912944+&#45;&gt;132600891912944 -->\n",
       "<g id=\"edge5\" class=\"edge\">\n",
       "<title>132600891912944+&#45;&gt;132600891912944</title>\n",
       "<path fill=\"none\" stroke=\"black\" d=\"M2260.53,-100.5C2267.6,-100.5 2275.74,-100.5 2284.49,-100.5\"/>\n",
       "<polygon fill=\"black\" stroke=\"black\" points=\"2284.36,-104 2294.36,-100.5 2284.36,-97 2284.36,-104\"/>\n",
       "</g>\n",
       "<!-- 132600891668240 -->\n",
       "<g id=\"node17\" class=\"node\">\n",
       "<title>132600891668240</title>\n",
       "<polygon fill=\"none\" stroke=\"black\" points=\"374.25,-139.5 374.25,-175.5 639.75,-175.5 639.75,-139.5 374.25,-139.5\"/>\n",
       "<text text-anchor=\"middle\" x=\"404.75\" y=\"-153.2\" font-family=\"Times,serif\" font-size=\"14.00\">x2*w2</text>\n",
       "<polyline fill=\"none\" stroke=\"black\" points=\"435.25,-140.25 435.25,-175.5\"/>\n",
       "<text text-anchor=\"middle\" x=\"486\" y=\"-153.2\" font-family=\"Times,serif\" font-size=\"14.00\">data 0.0000</text>\n",
       "<polyline fill=\"none\" stroke=\"black\" points=\"536.75,-140.25 536.75,-175.5\"/>\n",
       "<text text-anchor=\"middle\" x=\"588.25\" y=\"-153.2\" font-family=\"Times,serif\" font-size=\"14.00\">grad 0.5000</text>\n",
       "</g>\n",
       "<!-- 132600891668240&#45;&gt;132600891910880+ -->\n",
       "<g id=\"edge16\" class=\"edge\">\n",
       "<title>132600891668240&#45;&gt;132600891910880+</title>\n",
       "<path fill=\"none\" stroke=\"black\" d=\"M637.37,-139.02C647.88,-137.52 657.85,-136.09 666.73,-134.82\"/>\n",
       "<polygon fill=\"black\" stroke=\"black\" points=\"667.19,-138.29 676.6,-133.41 666.2,-131.36 667.19,-138.29\"/>\n",
       "</g>\n",
       "<!-- 132600891668240*&#45;&gt;132600891668240 -->\n",
       "<g id=\"edge6\" class=\"edge\">\n",
       "<title>132600891668240*&#45;&gt;132600891668240</title>\n",
       "<path fill=\"none\" stroke=\"black\" d=\"M336.43,-157.5C344.1,-157.5 353.05,-157.5 362.77,-157.5\"/>\n",
       "<polygon fill=\"black\" stroke=\"black\" points=\"362.51,-161 372.51,-157.5 362.51,-154 362.51,-161\"/>\n",
       "</g>\n",
       "<!-- 132600891910976 -->\n",
       "<g id=\"node19\" class=\"node\">\n",
       "<title>132600891910976</title>\n",
       "<polygon fill=\"none\" stroke=\"black\" points=\"1230,-83.5 1230,-119.5 1459.5,-119.5 1459.5,-83.5 1230,-83.5\"/>\n",
       "<text text-anchor=\"middle\" x=\"1242.5\" y=\"-97.2\" font-family=\"Times,serif\" font-size=\"14.00\">n</text>\n",
       "<polyline fill=\"none\" stroke=\"black\" points=\"1255,-84.25 1255,-119.5\"/>\n",
       "<text text-anchor=\"middle\" x=\"1305.75\" y=\"-97.2\" font-family=\"Times,serif\" font-size=\"14.00\">data 0.8814</text>\n",
       "<polyline fill=\"none\" stroke=\"black\" points=\"1356.5,-84.25 1356.5,-119.5\"/>\n",
       "<text text-anchor=\"middle\" x=\"1408\" y=\"-97.2\" font-family=\"Times,serif\" font-size=\"14.00\">grad 0.5000</text>\n",
       "</g>\n",
       "<!-- 132600891910976&#45;&gt;132600891907184* -->\n",
       "<g id=\"edge18\" class=\"edge\">\n",
       "<title>132600891910976&#45;&gt;132600891907184*</title>\n",
       "<path fill=\"none\" stroke=\"black\" d=\"M1459.54,-83.37C1468.37,-81.96 1476.82,-80.62 1484.49,-79.4\"/>\n",
       "<polygon fill=\"black\" stroke=\"black\" points=\"1485,-82.86 1494.33,-77.83 1483.9,-75.95 1485,-82.86\"/>\n",
       "</g>\n",
       "<!-- 132600891910976+&#45;&gt;132600891910976 -->\n",
       "<g id=\"edge7\" class=\"edge\">\n",
       "<title>132600891910976+&#45;&gt;132600891910976</title>\n",
       "<path fill=\"none\" stroke=\"black\" d=\"M1194.31,-101.5C1201.38,-101.5 1209.52,-101.5 1218.27,-101.5\"/>\n",
       "<polygon fill=\"black\" stroke=\"black\" points=\"1218.14,-105 1228.14,-101.5 1218.14,-98 1218.14,-105\"/>\n",
       "</g>\n",
       "<!-- 132600883812672 -->\n",
       "<g id=\"node21\" class=\"node\">\n",
       "<title>132600883812672</title>\n",
       "<polygon fill=\"none\" stroke=\"black\" points=\"821.25,-56.5 821.25,-92.5 1050.75,-92.5 1050.75,-56.5 821.25,-56.5\"/>\n",
       "<text text-anchor=\"middle\" x=\"833.75\" y=\"-70.2\" font-family=\"Times,serif\" font-size=\"14.00\">b</text>\n",
       "<polyline fill=\"none\" stroke=\"black\" points=\"846.25,-57.25 846.25,-92.5\"/>\n",
       "<text text-anchor=\"middle\" x=\"897\" y=\"-70.2\" font-family=\"Times,serif\" font-size=\"14.00\">data 6.8814</text>\n",
       "<polyline fill=\"none\" stroke=\"black\" points=\"947.75,-57.25 947.75,-92.5\"/>\n",
       "<text text-anchor=\"middle\" x=\"999.25\" y=\"-70.2\" font-family=\"Times,serif\" font-size=\"14.00\">grad 0.5000</text>\n",
       "</g>\n",
       "<!-- 132600883812672&#45;&gt;132600891910976+ -->\n",
       "<g id=\"edge15\" class=\"edge\">\n",
       "<title>132600883812672&#45;&gt;132600891910976+</title>\n",
       "<path fill=\"none\" stroke=\"black\" d=\"M1051.16,-87.96C1079.33,-91.28 1107.53,-94.61 1128.93,-97.13\"/>\n",
       "<polygon fill=\"black\" stroke=\"black\" points=\"1128.24,-100.57 1138.58,-98.27 1129.06,-93.62 1128.24,-100.57\"/>\n",
       "</g>\n",
       "<!-- 132600891913040 -->\n",
       "<g id=\"node22\" class=\"node\">\n",
       "<title>132600891913040</title>\n",
       "<polygon fill=\"none\" stroke=\"black\" points=\"2822.72,-80.5 2822.72,-116.5 3047.72,-116.5 3047.72,-80.5 2822.72,-80.5\"/>\n",
       "<text text-anchor=\"middle\" x=\"2832.97\" y=\"-94.2\" font-family=\"Times,serif\" font-size=\"14.00\"> </text>\n",
       "<polyline fill=\"none\" stroke=\"black\" points=\"2843.22,-81.25 2843.22,-116.5\"/>\n",
       "<text text-anchor=\"middle\" x=\"2893.97\" y=\"-94.2\" font-family=\"Times,serif\" font-size=\"14.00\">data 0.1464</text>\n",
       "<polyline fill=\"none\" stroke=\"black\" points=\"2944.72,-81.25 2944.72,-116.5\"/>\n",
       "<text text-anchor=\"middle\" x=\"2996.22\" y=\"-94.2\" font-family=\"Times,serif\" font-size=\"14.00\">grad 4.8284</text>\n",
       "</g>\n",
       "<!-- 132600891912128* -->\n",
       "<g id=\"node28\" class=\"node\">\n",
       "<title>132600891912128*</title>\n",
       "<ellipse fill=\"none\" stroke=\"black\" cx=\"3110.72\" cy=\"-72.5\" rx=\"27\" ry=\"18\"/>\n",
       "<text text-anchor=\"middle\" x=\"3110.72\" y=\"-67.83\" font-family=\"Times,serif\" font-size=\"14.00\">*</text>\n",
       "</g>\n",
       "<!-- 132600891913040&#45;&gt;132600891912128* -->\n",
       "<g id=\"edge22\" class=\"edge\">\n",
       "<title>132600891913040&#45;&gt;132600891912128*</title>\n",
       "<path fill=\"none\" stroke=\"black\" d=\"M3048.06,-81.74C3056.76,-80.44 3065.08,-79.19 3072.65,-78.06\"/>\n",
       "<polygon fill=\"black\" stroke=\"black\" points=\"3072.98,-81.54 3082.35,-76.6 3071.95,-74.62 3072.98,-81.54\"/>\n",
       "</g>\n",
       "<!-- 132600891913040**&#45;1&#45;&gt;132600891913040 -->\n",
       "<g id=\"edge8\" class=\"edge\">\n",
       "<title>132600891913040**&#45;1&#45;&gt;132600891913040</title>\n",
       "<path fill=\"none\" stroke=\"black\" d=\"M2704.68,-100.27C2730.98,-100.07 2771.37,-99.76 2810.97,-99.45\"/>\n",
       "<polygon fill=\"black\" stroke=\"black\" points=\"2810.89,-102.95 2820.87,-99.38 2810.84,-95.95 2810.89,-102.95\"/>\n",
       "</g>\n",
       "<!-- 132600891911024 -->\n",
       "<g id=\"node24\" class=\"node\">\n",
       "<title>132600891911024</title>\n",
       "<polygon fill=\"none\" stroke=\"black\" points=\"1940.72,-0.5 1940.72,-36.5 2170.22,-36.5 2170.22,-0.5 1940.72,-0.5\"/>\n",
       "<text text-anchor=\"middle\" x=\"1950.97\" y=\"-14.2\" font-family=\"Times,serif\" font-size=\"14.00\"> </text>\n",
       "<polyline fill=\"none\" stroke=\"black\" points=\"1961.22,-1.25 1961.22,-36.5\"/>\n",
       "<text text-anchor=\"middle\" x=\"2014.22\" y=\"-14.2\" font-family=\"Times,serif\" font-size=\"14.00\">data &#45;1.0000</text>\n",
       "<polyline fill=\"none\" stroke=\"black\" points=\"2067.22,-1.25 2067.22,-36.5\"/>\n",
       "<text text-anchor=\"middle\" x=\"2118.72\" y=\"-14.2\" font-family=\"Times,serif\" font-size=\"14.00\">grad 0.1464</text>\n",
       "</g>\n",
       "<!-- 132600891911024&#45;&gt;132600891908528+ -->\n",
       "<g id=\"edge23\" class=\"edge\">\n",
       "<title>132600891911024&#45;&gt;132600891908528+</title>\n",
       "<path fill=\"none\" stroke=\"black\" d=\"M2170.26,-35.98C2179.09,-37.34 2187.55,-38.64 2195.21,-39.81\"/>\n",
       "<polygon fill=\"black\" stroke=\"black\" points=\"2194.64,-43.27 2205.05,-41.33 2195.7,-36.35 2194.64,-43.27\"/>\n",
       "</g>\n",
       "<!-- 132600891908528 -->\n",
       "<g id=\"node25\" class=\"node\">\n",
       "<title>132600891908528</title>\n",
       "<polygon fill=\"none\" stroke=\"black\" points=\"2561.72,-27.5 2561.72,-63.5 2786.72,-63.5 2786.72,-27.5 2561.72,-27.5\"/>\n",
       "<text text-anchor=\"middle\" x=\"2571.97\" y=\"-41.2\" font-family=\"Times,serif\" font-size=\"14.00\"> </text>\n",
       "<polyline fill=\"none\" stroke=\"black\" points=\"2582.22,-28.25 2582.22,-63.5\"/>\n",
       "<text text-anchor=\"middle\" x=\"2632.97\" y=\"-41.2\" font-family=\"Times,serif\" font-size=\"14.00\">data 4.8284</text>\n",
       "<polyline fill=\"none\" stroke=\"black\" points=\"2683.72,-28.25 2683.72,-63.5\"/>\n",
       "<text text-anchor=\"middle\" x=\"2735.22\" y=\"-41.2\" font-family=\"Times,serif\" font-size=\"14.00\">grad 0.1464</text>\n",
       "</g>\n",
       "<!-- 132600891908528&#45;&gt;132600891912128* -->\n",
       "<g id=\"edge26\" class=\"edge\">\n",
       "<title>132600891908528&#45;&gt;132600891912128*</title>\n",
       "<path fill=\"none\" stroke=\"black\" d=\"M2787.12,-52.45C2881.13,-58.3 3009.88,-66.3 3072.49,-70.19\"/>\n",
       "<polygon fill=\"black\" stroke=\"black\" points=\"3072.04,-73.67 3082.24,-70.79 3072.47,-66.68 3072.04,-73.67\"/>\n",
       "</g>\n",
       "<!-- 132600891908528+&#45;&gt;132600891908528 -->\n",
       "<g id=\"edge9\" class=\"edge\">\n",
       "<title>132600891908528+&#45;&gt;132600891908528</title>\n",
       "<path fill=\"none\" stroke=\"black\" d=\"M2260.7,-45.5C2316.65,-45.5 2450.03,-45.5 2550.08,-45.5\"/>\n",
       "<polygon fill=\"black\" stroke=\"black\" points=\"2549.98,-49 2559.98,-45.5 2549.98,-42 2549.98,-49\"/>\n",
       "</g>\n",
       "<!-- 132600891912128 -->\n",
       "<g id=\"node27\" class=\"node\">\n",
       "<title>132600891912128</title>\n",
       "<polygon fill=\"none\" stroke=\"black\" points=\"3173.72,-54.5 3173.72,-90.5 3402.47,-90.5 3402.47,-54.5 3173.72,-54.5\"/>\n",
       "<text text-anchor=\"middle\" x=\"3185.85\" y=\"-68.2\" font-family=\"Times,serif\" font-size=\"14.00\">o</text>\n",
       "<polyline fill=\"none\" stroke=\"black\" points=\"3197.97,-55.25 3197.97,-90.5\"/>\n",
       "<text text-anchor=\"middle\" x=\"3248.72\" y=\"-68.2\" font-family=\"Times,serif\" font-size=\"14.00\">data 0.7071</text>\n",
       "<polyline fill=\"none\" stroke=\"black\" points=\"3299.47,-55.25 3299.47,-90.5\"/>\n",
       "<text text-anchor=\"middle\" x=\"3350.97\" y=\"-68.2\" font-family=\"Times,serif\" font-size=\"14.00\">grad 1.0000</text>\n",
       "</g>\n",
       "<!-- 132600891912128*&#45;&gt;132600891912128 -->\n",
       "<g id=\"edge10\" class=\"edge\">\n",
       "<title>132600891912128*&#45;&gt;132600891912128</title>\n",
       "<path fill=\"none\" stroke=\"black\" d=\"M3137.98,-72.5C3145.03,-72.5 3153.15,-72.5 3161.89,-72.5\"/>\n",
       "<polygon fill=\"black\" stroke=\"black\" points=\"3161.73,-76 3171.73,-72.5 3161.73,-69 3161.73,-76\"/>\n",
       "</g>\n",
       "</g>\n",
       "</svg>\n"
      ],
      "text/plain": [
       "<graphviz.graphs.Digraph at 0x78998d0f2de0>"
      ]
     },
     "execution_count": 89,
     "metadata": {},
     "output_type": "execute_result"
    }
   ],
   "source": [
    "# Breaking up tanh to exponential form\n",
    "x1 = Value(2.0, label ='x1')\n",
    "x2 = Value(0.0, label='x2')\n",
    "\n",
    "w1 = Value(-3.0, label='w1')\n",
    "w2 = Value(1.0, label='w2')\n",
    "\n",
    "b = Value(6.881373587019432, label='b')\n",
    "\n",
    "x1w1 = x1*w1; x1w1.label = 'x1*w1'\n",
    "x2w2=x2*w2; x2w2.label = 'x2*w2'\n",
    "x1w1x2w2 = x1w1 + x2w2; x1w1x2w2.label = 'x1*w1 + x2*w2'\n",
    "n = x1w1x2w2 + b; n.label = 'n'\n",
    "\n",
    "# ---------------------------\n",
    "e = (2*n).exp()\n",
    "o = (e - 1)/(e + 1)\n",
    "# ---------------------------\n",
    "\n",
    "o.label = 'o'\n",
    "o.backward()\n",
    "draw_dot(o)"
   ]
  },
  {
   "cell_type": "code",
   "execution_count": null,
   "id": "c8bc6321-2b94-46fc-9658-47cb3ea550fb",
   "metadata": {},
   "outputs": [],
   "source": []
  }
 ],
 "metadata": {
  "kernelspec": {
   "display_name": "Python 3 (ipykernel)",
   "language": "python",
   "name": "python3"
  },
  "language_info": {
   "codemirror_mode": {
    "name": "ipython",
    "version": 3
   },
   "file_extension": ".py",
   "mimetype": "text/x-python",
   "name": "python",
   "nbconvert_exporter": "python",
   "pygments_lexer": "ipython3",
   "version": "3.12.2"
  }
 },
 "nbformat": 4,
 "nbformat_minor": 5
}
